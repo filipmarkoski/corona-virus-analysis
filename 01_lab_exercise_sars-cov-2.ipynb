{
 "cells": [
  {
   "cell_type": "code",
   "execution_count": 5,
   "metadata": {},
   "outputs": [
    {
     "name": "stdout",
     "output_type": "stream",
     "text": [
      "Python version: 3.6.8 (tags/v3.6.8:3c6b436a57, Dec 24 2018, 00:16:47) [MSC v.1916 64 bit (AMD64)]\n"
     ]
    }
   ],
   "source": [
    "import sys\n",
    "print(f'Python version:', sys.version)"
   ]
  },
  {
   "cell_type": "markdown",
   "metadata": {},
   "source": [
    "# Tasks\n",
    "\n",
    "1. Да се реализираат примери за парсирање на FASTA и GenBank формати, онака како што е објаснето во поглавје 2.4 од туторијалот.\n",
    "\n",
    "2. Да се напишат 3 примери за поврзување со различни биолошки бази, како што е опишано во поглавје 2.5 од туторијалот.\n",
    "\n",
    "3. Да се напише пример за работа со Seq објекти, какошто е опишано во поглавје 3, и да се обрне внимание на процесите транскрипција и транслација.\n",
    "\n",
    "4. Да се преземе комплетната ДНА секвенција на Yersinia pestis (бактерија која ги инфектира белите дробови и предизвикува пневмонија). До неа се пристапува со употреба на идентификациониот број NC_005816 во GeneBank базата (работете со `SeqIO` објекти, имате детали во документацијата.\n",
    "\n",
    "5. Имплеметирајте репликација на секвенцијата потпомогната од функции во biopython.\n",
    "\n",
    "6. Со помош на biopython, пронајдете ги секвенциите на различните кодни региони означени како (CDS). CDS се регионите добиени после процедурата на отсекување на интроните.\n",
    "\n",
    "7. Одберете еден CDS и најдете ги сите старт и стоп кодони во неговата РНА.\n",
    "\n",
    "8. Направете транслација за да ги добиете сите можни протеински секвенции.\n",
    "\n",
    "9. Одберете еден од кодните региони и направете мутација со поместување на рамката за 2 нуклеотиди. Анализирајте ги новите протеински секвенции. Внимавајте, сега има нови старт и стоп кодони.\n",
    "\n",
    "10. Да се разработи поглавје 5.5 за креирање на сопствени записи во `FASTA` формат.\n",
    "\n",
    "11. Да реализира примерот за предвидување на структурата на оперонот кај бактеријата Bacillus subtilis опишан во поглавје 16 од туторијалот. Да се употреби методот на Логистичка регресија и Машини со Поддржувачки Вектори (SVM) и да се споредат резултатите.\n",
    "\n",
    "12. Да се испрограмира алгоритмот на Nussinovкако функција во python која на влез ќе добива стринг од нуклеотиди, а на излезе ќе ја дава нивната секундарна структура.Влез нека биде следната tRNA молекула:\n",
    "`ACCGCGGGGCGUCCGGCUCAGCUUGCCGCUGCGGAGCGCCGCAGUAGCCGAAACUUCCGGCUCGGGCCGUGGGCGGUCUCUAGUCGCCCCG`\n",
    "\n",
    "13. Да се истражи можноста на `biopython` за одредување на секундарна структура опишана во поглавје 11.6.8. "
   ]
  },
  {
   "cell_type": "markdown",
   "metadata": {},
   "source": [
    "# Imports"
   ]
  },
  {
   "cell_type": "markdown",
   "metadata": {},
   "source": [
    "Today: 10-April-2020 <br> \n",
    "\n",
    "Coronavirus Genome Sequence <br>\n",
    "FASTA Nucleotide - Coronavirus <br>\n",
    "Author: Aspie Girl <br>\n",
    " •  updated 7 days ago (Version 3)<br>\n",
    "https://www.kaggle.com/usharengaraju/customer-frauddata <br>\n",
    "\n",
    "Coronavirus Genome Sequence <br>\n",
    "2019-nCoV / SARS-CoV-2 <br>\n",
    "Author: Paul Mooney <br>\n",
    " •  updated a month ago (Version 2) <br>\n",
    "https://www.kaggle.com/paultimothymooney/coronavirus-genome-sequence/data"
   ]
  },
  {
   "cell_type": "code",
   "execution_count": 2,
   "metadata": {},
   "outputs": [
    {
     "name": "stdout",
     "output_type": "stream",
     "text": [
      "BioPython version: 1.76\n"
     ]
    }
   ],
   "source": [
    "# Packages\n",
    "import termcolor as tc\n",
    "import Bio; print('BioPython version:', Bio.__version__)\n",
    "\n",
    "# Python packages\n",
    "import os\n",
    "import sys\n",
    "import gc\n",
    "import string\n",
    "import pickle\n",
    "import collections\n",
    "import random\n",
    "\n",
    "# Data Science and Computation\n",
    "import numpy as np # linear algebra\n",
    "import pandas as pd # data processing, CSV file I/O (e.g. pd.read_csv)\n",
    "import scipy # statistics\n",
    "import sklearn # machine learning\n",
    "\n",
    "# Visualization \n",
    "import matplotlib.pyplot as plt\n",
    "import seaborn as sns\n",
    "\n",
    "# Local Imports\n",
    "import definitions as defs"
   ]
  },
  {
   "cell_type": "markdown",
   "metadata": {},
   "source": [
    "# Solutions"
   ]
  },
  {
   "cell_type": "markdown",
   "metadata": {},
   "source": [
    "## Task 1. Да се реализираат примери за парсирање на FASTA и GenBank формати, онака како што е објаснето во поглавје 2.4 од туторијалот."
   ]
  },
  {
   "cell_type": "markdown",
   "metadata": {},
   "source": [
    "### `FASTA`"
   ]
  },
  {
   "cell_type": "code",
   "execution_count": 10,
   "metadata": {
    "collapsed": true
   },
   "outputs": [
    {
     "name": "stdout",
     "output_type": "stream",
     "text": [
      "lcl|NC_034972.1_cds_YP_009380519.1_1\n",
      "Seq('ATGGCTAACCAATATGTCCTGCGTGTAGCAGACTGCACAAACGTTTACTACACT...TAG', SingleLetterAlphabet())\n",
      "11925\n",
      "lcl|NC_034972.1_cds_YP_009380520.1_2\n",
      "Seq('GAGCCCTGTAGTGAGCATCATGTGATAAGGGCTTTTGATATTTACAATAAGGAT...TGA', SingleLetterAlphabet())\n",
      "8016\n",
      "lcl|NC_034972.1_cds_YP_009380521.1_3\n",
      "Seq('ATGGCTCTCATTTTTGTGCTTATGCTCATAACCCTCTATCGTTGCCCTTTTGTC...TGA', SingleLetterAlphabet())\n",
      "3381\n",
      "lcl|NC_034972.1_cds_YP_009380522.1_4\n",
      "Seq('ATGATAGGTGGTCTTTTTTCAGTAGGGTTTGAACAGTTTATACAACATGCTAAT...TAA', SingleLetterAlphabet())\n",
      "645\n",
      "lcl|NC_034972.1_cds_YP_009380523.1_5\n",
      "Seq('ATGTTACCCTCGTTTTTAAGAGTTTTTAATGATGAGGGTGTTGTTCTTAGCGTT...TGA', SingleLetterAlphabet())\n",
      "237\n",
      "lcl|NC_034972.1_cds_YP_009380524.1_6\n",
      "Seq('ATGGTACTCTTTTGTGAGTTTAATGACACTGCCACCAATGGCTGTGAAGCCTGT...TAA', SingleLetterAlphabet())\n",
      "747\n",
      "lcl|NC_034972.1_cds_YP_009380525.1_7\n",
      "Seq('ATGATTTTGGTTTTCCTTGTCCTTATAGCATCAGTTGGTGCTATTACTGATTCT...TAA', SingleLetterAlphabet())\n",
      "501\n",
      "lcl|NC_034972.1_cds_YP_009380526.1_8\n",
      "Seq('ATGAGTTCCAACGTCTCCTGGGCTGATCAAGTTGACGCTCAGGTTCATCGTCAG...TAA', SingleLetterAlphabet())\n",
      "1170\n",
      "lcl|NC_034972.1_cds_YP_009380527.1_9\n",
      "Seq('ATGTATTGTTTGTTGCTGCTGCTAATTGGATCTGTAATGGGTGCGCCCACAGTG...TGA', SingleLetterAlphabet())\n",
      "318\n"
     ]
    }
   ],
   "source": [
    "from Bio import SeqIO\n",
    "\n",
    "fasta_file = os.path.join(defs.DATA_DIR, 'coronavirus.fasta')\n",
    "\n",
    "for seq_record in SeqIO.parse(fasta_file, 'fasta'):\n",
    "    print(seq_record.id)\n",
    "    print(repr(seq_record.seq))\n",
    "    print(len(seq_record))"
   ]
  },
  {
   "cell_type": "markdown",
   "metadata": {},
   "source": [
    "Notice that the FASTA format does not specify the alphabet, so `Bio.SeqIO` has defaulted to the rather\n",
    "generic SingleLetterAlphabet() rather than something DNA specific."
   ]
  },
  {
   "cell_type": "markdown",
   "metadata": {},
   "source": [
    "### `GenBank`"
   ]
  },
  {
   "cell_type": "code",
   "execution_count": 11,
   "metadata": {
    "collapsed": true
   },
   "outputs": [
    {
     "name": "stdout",
     "output_type": "stream",
     "text": [
      "Z78533.1\n",
      "Seq('CGTAACAAGGTTTCCGTAGGTGAACCTGCGGAAGGATCATTGATGAGACCGTGG...CGC', IUPACAmbiguousDNA())\n",
      "740\n",
      "Z78532.1\n",
      "Seq('CGTAACAAGGTTTCCGTAGGTGAACCTGCGGAAGGATCATTGTTGAGACAACAG...GGC', IUPACAmbiguousDNA())\n",
      "753\n",
      "Z78531.1\n",
      "Seq('CGTAACAAGGTTTCCGTAGGTGAACCTGCGGAAGGATCATTGTTGAGACAGCAG...TAA', IUPACAmbiguousDNA())\n",
      "748\n",
      "Z78530.1\n",
      "Seq('CGTAACAAGGTTTCCGTAGGTGAACCTGCGGAAGGATCATTGTTGAAACAACAT...CAT', IUPACAmbiguousDNA())\n",
      "744\n",
      "Z78529.1\n",
      "Seq('ACGGCGAGCTGCCGAAGGACATTGTTGAGACAGCAGAATATACGATTGAGTGAA...AAA', IUPACAmbiguousDNA())\n",
      "733\n",
      "Z78527.1\n",
      "Seq('CGTAACAAGGTTTCCGTAGGTGAACCTGCGGAAGGATCATTGTTGAGACAGTAG...CCC', IUPACAmbiguousDNA())\n",
      "718\n",
      "Z78526.1\n",
      "Seq('CGTAACAAGGTTTCCGTAGGTGAACCTGCGGAAGGATCATTGTTGAGACAGTAG...TGT', IUPACAmbiguousDNA())\n",
      "730\n",
      "Z78525.1\n",
      "Seq('TGTTGAGATAGCAGAATATACATCGAGTGAATCCGGAGGACCTGTGGTTATTCG...GCA', IUPACAmbiguousDNA())\n",
      "704\n",
      "Z78524.1\n",
      "Seq('CGTAACAAGGTTTCCGTAGGTGAACCTGCGGAAGGATCATTGTTGAGATAGTAG...AGC', IUPACAmbiguousDNA())\n",
      "740\n",
      "Z78523.1\n",
      "Seq('CGTAACCAGGTTTCCGTAGGTGAACCTGCGGCAGGATCATTGTTGAGACAGCAG...AAG', IUPACAmbiguousDNA())\n",
      "709\n",
      "Z78522.1\n",
      "Seq('CGTAACAAGGTTTCCGTAGGTGAACCTGCGGAAGGATCATTGTTGAGACAGCAG...GAG', IUPACAmbiguousDNA())\n",
      "700\n",
      "Z78521.1\n",
      "Seq('GTAGGTGAACCTGCGGAAGGATCATTGTTGAGACAGTAGAATATATGATCGAGT...ACC', IUPACAmbiguousDNA())\n",
      "726\n",
      "Z78520.1\n",
      "Seq('CGTAACAAGGTTTCCGTAGGTGAACCTGCGGAAGGATCATTGTTGAGACAGCAG...TTT', IUPACAmbiguousDNA())\n",
      "753\n",
      "Z78519.1\n",
      "Seq('ATATGATCGAGTGAATCTGGTGGACTTGTGGTTACTCAGCTCGCCATAGGCTTT...TTA', IUPACAmbiguousDNA())\n",
      "699\n",
      "Z78518.1\n",
      "Seq('CGTAACAAGGTTTCCGTAGGTGAACCTGCGGGAGGATCATTGTTGAGATAGTAG...TCC', IUPACAmbiguousDNA())\n",
      "658\n",
      "Z78517.1\n",
      "Seq('CGTAACAAGGTTTCCGTAGGTGAACCTGCGGAAGGATCATTGTTGAGACAGTAG...AGC', IUPACAmbiguousDNA())\n",
      "752\n",
      "Z78516.1\n",
      "Seq('CGTAACAAGGTTTCCGTAGGTGAACCTGCGGAAGGATCATTGTTGAGACAGTAT...TAA', IUPACAmbiguousDNA())\n",
      "726\n",
      "Z78515.1\n",
      "Seq('CGTAACAAGGTTTCCGTAGGTGAACCTGCGGAAGGATCATTGCTGAGACCGTAG...AGC', IUPACAmbiguousDNA())\n",
      "765\n",
      "Z78514.1\n",
      "Seq('CGTAACAAGGTTTCCGTAGGTGGACCTTCGGGAGGATCATTTTTGAAGCCCCCA...CTA', IUPACAmbiguousDNA())\n",
      "755\n",
      "Z78513.1\n",
      "Seq('CGTAACAAGGTTTCCGTAGGTGAACCTGCGGAAGGATCATTGTTGAGACCGCCA...GAG', IUPACAmbiguousDNA())\n",
      "742\n",
      "Z78512.1\n",
      "Seq('CGTAACAAGGTTTCCGTAGGTGGACCTTCGGGAGGATCATTTTTGAAGCCCCCA...AGC', IUPACAmbiguousDNA())\n",
      "762\n",
      "Z78511.1\n",
      "Seq('CGTAACAAGGTTTCCGTAGGTGAACCTTCGGAAGGATCATTGTTGAGACCCCCA...GGA', IUPACAmbiguousDNA())\n",
      "745\n",
      "Z78510.1\n",
      "Seq('CTAACCAGGGTTCCGAGGTGACCTTCGGGAGGATTCCTTTTTAAGCCCCCGAAA...TTA', IUPACAmbiguousDNA())\n",
      "750\n",
      "Z78509.1\n",
      "Seq('CGTAACAAGGTTTCCGTAGGTGAACCTGCGGAAGGATCATTGTTGAGACCGCCA...GGA', IUPACAmbiguousDNA())\n",
      "731\n",
      "Z78508.1\n",
      "Seq('CGTAACAAGGTTTCCGTAGGTGAACCTGCGGAAGGATCATTGTTGAGACCGCCA...TGA', IUPACAmbiguousDNA())\n",
      "741\n",
      "Z78507.1\n",
      "Seq('CGTAACAAGGTTTCCGTAGGTGAACCTGCGGAAGGATCATTGTTGAGACCCCCA...TGA', IUPACAmbiguousDNA())\n",
      "740\n",
      "Z78506.1\n",
      "Seq('CGTAACAAGGTTTCCGTAGGTGAACCTGCGGAAGGATCATTGTTGAGACCGCAA...TGA', IUPACAmbiguousDNA())\n",
      "727\n",
      "Z78505.1\n",
      "Seq('CGTAACAAGGTTTCCGTAGGTGAACCTGCGGAAGGATCATTGTTGAGACCGCCA...TTT', IUPACAmbiguousDNA())\n",
      "711\n",
      "Z78504.1\n",
      "Seq('CGTAACAAGGTTTCCGTAGGTGAACCTTCGGAAGGATCATTGTTGAGACCGCAA...TAA', IUPACAmbiguousDNA())\n",
      "743\n",
      "Z78503.1\n",
      "Seq('CGTAACCAGGTTTCCGTAGGTGAACCTCCGGAAGGATCCTTGTTGAGACCGCCA...TAA', IUPACAmbiguousDNA())\n",
      "727\n",
      "Z78502.1\n",
      "Seq('CGTAACCAGGTTTCCGTAGGTGAACCTCCGGAAGGATCATTGTTGAGACCGCCA...CGC', IUPACAmbiguousDNA())\n",
      "757\n",
      "Z78501.1\n",
      "Seq('CGTAACAAGGTTTCCGTAGGTGAACCTGCGGAAGGATCATTGTTGAGACCGCAA...AGA', IUPACAmbiguousDNA())\n",
      "770\n",
      "Z78500.1\n",
      "Seq('CGTAACAAGGTTTCCGTAGGTGAACCTGCGGAAGGCTCATTGTTGAGACCGCAA...AAG', IUPACAmbiguousDNA())\n",
      "767\n",
      "Z78499.1\n",
      "Seq('CGTAACAAGGTTTCCGTAGGTGAACCTGCGGAGGGATCATTGTTGAGATCGCAT...ACC', IUPACAmbiguousDNA())\n",
      "759\n",
      "Z78498.1\n",
      "Seq('CGTAACAAGGTTTCCGTAGGTGAACCTGCGGAAAGGTCATTGTTGAGATCACAT...AGC', IUPACAmbiguousDNA())\n",
      "750\n",
      "Z78497.1\n",
      "Seq('CGTAACAAGGTTTCCGTAGGTGAACCTGCGGAAGGATCATTGTTGAGATCACAT...AGC', IUPACAmbiguousDNA())\n",
      "788\n",
      "Z78496.1\n",
      "Seq('CGTAACAAGGTTTCCGTAGGTGAACCTGCGGAAGGATCATTGTTGAGATCGCAT...AGC', IUPACAmbiguousDNA())\n",
      "774\n",
      "Z78495.1\n",
      "Seq('CGTAACAAGGTTTCCGTAGGTGAACCTCCGGAAGGATCATTGTTGAGATCACAT...GTG', IUPACAmbiguousDNA())\n",
      "789\n",
      "Z78494.1\n",
      "Seq('CGTAACAAGGTTTCCGTAGGTGAACCTGCGGAAGGATCATTGTTGAGGTCGCAT...AAG', IUPACAmbiguousDNA())\n",
      "688\n",
      "Z78493.1\n",
      "Seq('CGTAACAAGGATTCCGTAGGTGAACCTGCGGAAGGATCATTGTTGAGATCGCAT...CCC', IUPACAmbiguousDNA())\n",
      "719\n",
      "Z78492.1\n",
      "Seq('CGTAACAAGGTTTCCGTAGGTGAACCTGCGGAAGGATCATTGTTGAGATCGCAT...ATA', IUPACAmbiguousDNA())\n",
      "743\n",
      "Z78491.1\n",
      "Seq('CGTAACAAGGTTTCCGTAGGTGAACCTGCGGAAGGATCATTGTTGAGATCGCAT...AGC', IUPACAmbiguousDNA())\n",
      "737\n",
      "Z78490.1\n",
      "Seq('CGTAACAAGGTTTCCGTAGGTGAACCTGCGGAAGGATCATTGTTGAGATCACAT...TGA', IUPACAmbiguousDNA())\n",
      "728\n",
      "Z78489.1\n",
      "Seq('CGTAACAAGGTTTCCGTAGGTGAACCTGCGGAAGGATCATTGTTGAGATCACAT...GGC', IUPACAmbiguousDNA())\n",
      "740\n",
      "Z78488.1\n",
      "Seq('CTGTAGGTGAACCTGCGGAAGGATCATTGTTGAGATCACGCAATAATTGATCGA...GCT', IUPACAmbiguousDNA())\n",
      "696\n",
      "Z78487.1\n",
      "Seq('CGTAACAAGGTTTCCGTAGGTGAACCTGCGGAAGGATCATTGTTGAGATCACAT...TAA', IUPACAmbiguousDNA())\n",
      "732\n",
      "Z78486.1\n",
      "Seq('CGTCACGAGGTTTCCGTAGGTGAATCTGCGGGAGGATCATTGTTGAGATCACAT...TGA', IUPACAmbiguousDNA())\n",
      "731\n",
      "Z78485.1\n",
      "Seq('CTGAACCTGGTGTCCGAAGGTGAATCTGCGGATGGATCATTGTTGAGATATCAT...GTA', IUPACAmbiguousDNA())\n",
      "735\n",
      "Z78484.1\n",
      "Seq('CGTAACAAGGTTTCCGTAGGTGAACCTGGGGAAGGATCATTGTTGAGATCACAT...TTT', IUPACAmbiguousDNA())\n",
      "720\n",
      "Z78483.1\n",
      "Seq('CGTAACAAGGTTTCCGTAGGTGAACCTGCGGAAGGATCATTGTTGAGATCACAT...GCA', IUPACAmbiguousDNA())\n",
      "740\n",
      "Z78482.1\n",
      "Seq('TCTACTGCAGTGACCGAGATTTGCCATCGAGCCTCCTGGGAGCTTTCTTGCTGG...GCA', IUPACAmbiguousDNA())\n",
      "629\n",
      "Z78481.1\n",
      "Seq('CGTAACAAGGTTTCCGTAGGTGAACCTGCGGAAGGATCATTGTTGAGATCACAT...TGA', IUPACAmbiguousDNA())\n",
      "572\n",
      "Z78480.1\n",
      "Seq('CGTAACAAGGTTTCCGTAGGTGAACCTGCGGAAGGATCATTGTTGAGATCACAT...TGA', IUPACAmbiguousDNA())\n",
      "587\n",
      "Z78479.1\n",
      "Seq('CGTAACAAGGTTTCCGTAGGTGAACCTGCGGAAGGATCATTGTTGAGATCACAT...AGT', IUPACAmbiguousDNA())\n",
      "700\n",
      "Z78478.1\n",
      "Seq('CGTAACAAGGTTTCCGTAGGTGAACCTCCGGAAGGATCAGTGTTGAGATCACAT...GGC', IUPACAmbiguousDNA())\n",
      "636\n",
      "Z78477.1\n",
      "Seq('CGTAACAAGGTTTCCGTAGGTGAACCTGCGGAAGGATCATTGTTGAGATCACAT...TGC', IUPACAmbiguousDNA())\n",
      "716\n",
      "Z78476.1\n",
      "Seq('CGTAACAAGGTTTCCGTAGGTGAACCTGCGGAAGGATCATTGTTGAGATCACAT...CCC', IUPACAmbiguousDNA())\n",
      "592\n",
      "Z78475.1\n",
      "Seq('CGTAACAAGGTTTCCGTAGGTGAACCTGCGGAAGGATCATTGTTGAGATCACAT...GGT', IUPACAmbiguousDNA())\n",
      "716\n",
      "Z78474.1\n",
      "Seq('CGTAACAAGGTTTCCGTAGGTGAACCTGCGGAAGGATCATTGTTGAGATCACGT...CTT', IUPACAmbiguousDNA())\n",
      "733\n",
      "Z78473.1\n",
      "Seq('CGTAACAAGGTTTCCGTAGGTGAACCTGCGGAAGGATCATTGTTGAGATCACAT...AGG', IUPACAmbiguousDNA())\n",
      "626\n",
      "Z78472.1\n",
      "Seq('CGTAACAAGGTTTCCGTAGGTGAACCTGCGGAAGGATCATTGTTGAGATCACAT...AGC', IUPACAmbiguousDNA())\n",
      "737\n",
      "Z78471.1\n",
      "Seq('CGTAACAAGGTTTCCGTAGGTGAACCTGCGGAAGGATCATTGTTGAGATCACAT...AGC', IUPACAmbiguousDNA())\n",
      "740\n",
      "Z78470.1\n",
      "Seq('CGTAACAAGGTTTCCGTAGGTGAACCTGCGGAAGGATCATTGTTGAGATCACAT...GTT', IUPACAmbiguousDNA())\n",
      "574\n",
      "Z78469.1\n",
      "Seq('CGTAACAAGGTTTCCGTAGGTGAACCTGCGGAAGGATCATTGTTGAGATCACAT...GTT', IUPACAmbiguousDNA())\n",
      "594\n",
      "Z78468.1\n",
      "Seq('CGTAACAAGGTTTCCGTAGGTGAACCTGCGGAAGGATCATTGTTGAGATCGCAT...GTT', IUPACAmbiguousDNA())\n",
      "610\n",
      "Z78467.1\n",
      "Seq('CGTAACAAGGTTTCCGTAGGTGAACCTGCGGAAGGATCATTGTTGAGATCACAT...TGA', IUPACAmbiguousDNA())\n",
      "730\n",
      "Z78466.1\n",
      "Seq('CGTAACAAGGTTTCCGTAGGTGAACCTGCGGAAGGATCATTGTTGAGATCACAT...CCC', IUPACAmbiguousDNA())\n",
      "641\n",
      "Z78465.1\n",
      "Seq('CGTAACAAGGTTTCCGTAGGTGAACCTGCGGAAGGATCATTGTTGAGATCACAT...TGC', IUPACAmbiguousDNA())\n",
      "702\n",
      "Z78464.1\n",
      "Seq('CGTAACAAGGTTTCCGTAGGTGAGCGGAAGGGTCATTGTTGAGATCACATAATA...AGC', IUPACAmbiguousDNA())\n",
      "733\n",
      "Z78463.1\n",
      "Seq('CGTAACAAGGTTTCCGTAGGTGAACCTGCGGAAGGTTCATTGTTGAGATCACAT...AGC', IUPACAmbiguousDNA())\n",
      "738\n",
      "Z78462.1\n",
      "Seq('CGTCACGAGGTCTCCGGATGTGACCCTGCGGAAGGATCATTGTTGAGATCACAT...CAT', IUPACAmbiguousDNA())\n",
      "736\n",
      "Z78461.1\n",
      "Seq('CGTAACAAGGTTTCCGTAGGTGAACCTCCGGAAGGATCATTGTTGAGATCACAT...TAA', IUPACAmbiguousDNA())\n",
      "732\n",
      "Z78460.1\n",
      "Seq('CGTAACAAGGTTTCCGTAGGTGAACCTCCGGAAGGATCATTGTTGAGATCACAT...TTA', IUPACAmbiguousDNA())\n",
      "745\n",
      "Z78459.1\n",
      "Seq('CGTAACAAGGTTTCCGTAGGTGAACCTGCGGAAGGATCATTGTTGAGATCACAT...TTT', IUPACAmbiguousDNA())\n",
      "744\n",
      "Z78458.1\n",
      "Seq('CGTAACAAGGTTTCCGTAGGTGAACCTGCGGAAGGATCATTGTTGAGATCACAT...TTG', IUPACAmbiguousDNA())\n",
      "738\n",
      "Z78457.1\n",
      "Seq('CGTAACAAGGTTTCCGTAGGTGAACCTCCGGAAGGATCATTGTTGAGATCACAT...GAG', IUPACAmbiguousDNA())\n",
      "739\n",
      "Z78456.1\n",
      "Seq('CGTAACAAGGTTTCCGTAGGTGAACCTGCGGAAGGATCATTGTTGAGATCACAT...AGC', IUPACAmbiguousDNA())\n",
      "740\n",
      "Z78455.1\n",
      "Seq('CGTAACCAGGTTTCCGTAGGTGGACCTTCGGGAGGATCATTTTTGAGATCACAT...GCA', IUPACAmbiguousDNA())\n",
      "745\n",
      "Z78454.1\n",
      "Seq('CGTAACAAGGTTTCCGTAGGTGAACCTGCGGAAGGATCATTGTTGAGATCACAT...AAC', IUPACAmbiguousDNA())\n",
      "695\n",
      "Z78453.1\n",
      "Seq('CGTAACAAGGTTTCCGTAGGTGAACCTGCGGAAGGATCATTGTTGAGATCACAT...GCA', IUPACAmbiguousDNA())\n",
      "745\n",
      "Z78452.1\n",
      "Seq('CGTAACAAGGTTTCCGTAGGTGAACCTGCGGAAGGATCATTGTTGAGATCACAT...GCA', IUPACAmbiguousDNA())\n",
      "743\n",
      "Z78451.1\n",
      "Seq('CGTAACAAGGTTTCCGTAGGTGTACCTCCGGAAGGATCATTGTTGAGATCACAT...AGC', IUPACAmbiguousDNA())\n",
      "730\n",
      "Z78450.1\n",
      "Seq('GGAAGGATCATTGCTGATATCACATAATAATTGATCGAGTTAAGCTGGAGGATC...GAG', IUPACAmbiguousDNA())\n",
      "706\n",
      "Z78449.1\n",
      "Seq('CGTAACAAGGTTTCCGTAGGTGAACCTGCGGAAGGATCATTGTTGAGATCACAT...TGC', IUPACAmbiguousDNA())\n",
      "744\n",
      "Z78448.1\n",
      "Seq('CGTAACAAGGTTTCCGTAGGTGAACCTGCGGAAGGATCATTGTTGAGATCACAT...AGG', IUPACAmbiguousDNA())\n",
      "742\n",
      "Z78447.1\n",
      "Seq('CGTAACAAGGATTCCGTAGGTGAACCTGCGGGAGGATCATTGTTGAGATCACAT...AGC', IUPACAmbiguousDNA())\n",
      "694\n",
      "Z78446.1\n",
      "Seq('CGTAACAAGGTTTCCGTAGGTGAACCTCCGGAAGGATCATTGTTGAGATCACAT...CCC', IUPACAmbiguousDNA())\n",
      "712\n",
      "Z78445.1\n",
      "Seq('CGTAACAAGGTTTCCGTAGGTGAACCTGCGGAAGGATCATTGTTGAGATCACAT...TGT', IUPACAmbiguousDNA())\n",
      "715\n",
      "Z78444.1\n",
      "Seq('CGTAACAAGGTTTCCGTAGGGTGAACTGCGGAAGGATCATTGTTGAGATCACAT...ATT', IUPACAmbiguousDNA())\n",
      "688\n",
      "Z78443.1\n",
      "Seq('CGTAACAAGGTTTCCGTAGGTGAACCTGCGGAAGGATCATTGTTGAGATCACAT...AGG', IUPACAmbiguousDNA())\n",
      "784\n",
      "Z78442.1\n",
      "Seq('GTAGGTGAACCTGCGGAAGGATCATTGTTGAGATCACATAATAATTGATCGAGT...AGT', IUPACAmbiguousDNA())\n",
      "721\n",
      "Z78441.1\n",
      "Seq('GGAAGGTCATTGCCGATATCACATAATAATTGATCGAGTTAATCTGGAGGATCT...GAG', IUPACAmbiguousDNA())\n",
      "703\n",
      "Z78440.1\n",
      "Seq('CGTAACAAGGTTTCCGTAGGTGGACCTCCGGGAGGATCATTGTTGAGATCACAT...GCA', IUPACAmbiguousDNA())\n",
      "744\n",
      "Z78439.1\n",
      "Seq('CATTGTTGAGATCACATAATAATTGATCGAGTTAATCTGGAGGATCTGTTTACT...GCC', IUPACAmbiguousDNA())\n",
      "592\n"
     ]
    }
   ],
   "source": [
    "from Bio import SeqIO\n",
    "\n",
    "genbank_file = os.path.join(defs.DATA_DIR, 'ls_orchid.gbk')\n",
    "\n",
    "for seq_record in SeqIO.parse(genbank_file, 'genbank'):\n",
    "    print(seq_record.id)\n",
    "    print(repr(seq_record.seq))\n",
    "    print(len(seq_record))"
   ]
  },
  {
   "cell_type": "markdown",
   "metadata": {},
   "source": [
    "This time `Bio.SeqIO` has been able to choose a sensible alphabet, IUPAC Ambiguous DNA. You'll also\n",
    "notice that a shorter string has been used as the seq_record.id in this case."
   ]
  },
  {
   "cell_type": "markdown",
   "metadata": {},
   "source": [
    "## Task 2. Да се напишат 3 примери за поврзување со различни биолошки бази, како што е опишано во поглавје 2.5 од туторијалот."
   ]
  },
  {
   "cell_type": "markdown",
   "metadata": {},
   "source": [
    "### 9.2 EInfo: Obtaining information about the Entrez databases"
   ]
  },
  {
   "cell_type": "code",
   "execution_count": 13,
   "metadata": {
    "collapsed": true
   },
   "outputs": [
    {
     "name": "stdout",
     "output_type": "stream",
     "text": [
      "<?xml version=\"1.0\" encoding=\"UTF-8\" ?>\n",
      "<!DOCTYPE eInfoResult PUBLIC \"-//NLM//DTD einfo 20190110//EN\" \"https://eutils.ncbi.nlm.nih.gov/eutils/dtd/20190110/einfo.dtd\">\n",
      "<eInfoResult>\n",
      "<DbList>\n",
      "\n",
      "\t<DbName>pubmed</DbName>\n",
      "\t<DbName>protein</DbName>\n",
      "\t<DbName>nuccore</DbName>\n",
      "\t<DbName>ipg</DbName>\n",
      "\t<DbName>nucleotide</DbName>\n",
      "\t<DbName>structure</DbName>\n",
      "\t<DbName>sparcle</DbName>\n",
      "\t<DbName>genome</DbName>\n",
      "\t<DbName>annotinfo</DbName>\n",
      "\t<DbName>assembly</DbName>\n",
      "\t<DbName>bioproject</DbName>\n",
      "\t<DbName>biosample</DbName>\n",
      "\t<DbName>blastdbinfo</DbName>\n",
      "\t<DbName>books</DbName>\n",
      "\t<DbName>cdd</DbName>\n",
      "\t<DbName>clinvar</DbName>\n",
      "\t<DbName>gap</DbName>\n",
      "\t<DbName>gapplus</DbName>\n",
      "\t<DbName>grasp</DbName>\n",
      "\t<DbName>dbvar</DbName>\n",
      "\t<DbName>gene</DbName>\n",
      "\t<DbName>gds</DbName>\n",
      "\t<DbName>geoprofiles</DbName>\n",
      "\t<DbName>homologene</DbName>\n",
      "\t<DbName>medgen</DbName>\n",
      "\t<DbName>mesh</DbName>\n",
      "\t<DbName>ncbisearch</DbName>\n",
      "\t<DbName>nlmcatalog</DbName>\n",
      "\t<DbName>omim</DbName>\n",
      "\t<DbName>orgtrack</DbName>\n",
      "\t<DbName>pmc</DbName>\n",
      "\t<DbName>popset</DbName>\n",
      "\t<DbName>probe</DbName>\n",
      "\t<DbName>proteinclusters</DbName>\n",
      "\t<DbName>pcassay</DbName>\n",
      "\t<DbName>biosystems</DbName>\n",
      "\t<DbName>pccompound</DbName>\n",
      "\t<DbName>pcsubstance</DbName>\n",
      "\t<DbName>seqannot</DbName>\n",
      "\t<DbName>snp</DbName>\n",
      "\t<DbName>sra</DbName>\n",
      "\t<DbName>taxonomy</DbName>\n",
      "\t<DbName>biocollections</DbName>\n",
      "\t<DbName>gtr</DbName>\n",
      "</DbList>\n",
      "\n",
      "</eInfoResult>\n",
      "\n"
     ]
    }
   ],
   "source": [
    "from Bio import Entrez\n",
    "\n",
    "Entrez.email = 'filip.markoski45@gmail.com'\n",
    "handle = Entrez.einfo()\n",
    "result = handle.read()\n",
    "print(result)"
   ]
  },
  {
   "cell_type": "code",
   "execution_count": 14,
   "metadata": {},
   "outputs": [
    {
     "data": {
      "text/plain": [
       "dict_keys(['DbList'])"
      ]
     },
     "execution_count": 14,
     "metadata": {},
     "output_type": "execute_result"
    }
   ],
   "source": [
    "handle = Entrez.einfo()\n",
    "record = Entrez.read(handle)\n",
    "record.keys()"
   ]
  },
  {
   "cell_type": "code",
   "execution_count": 15,
   "metadata": {
    "collapsed": true
   },
   "outputs": [
    {
     "data": {
      "text/plain": [
       "['pubmed', 'protein', 'nuccore', 'ipg', 'nucleotide', 'structure', 'sparcle', 'genome', 'annotinfo', 'assembly', 'bioproject', 'biosample', 'blastdbinfo', 'books', 'cdd', 'clinvar', 'gap', 'gapplus', 'grasp', 'dbvar', 'gene', 'gds', 'geoprofiles', 'homologene', 'medgen', 'mesh', 'ncbisearch', 'nlmcatalog', 'omim', 'orgtrack', 'pmc', 'popset', 'probe', 'proteinclusters', 'pcassay', 'biosystems', 'pccompound', 'pcsubstance', 'seqannot', 'snp', 'sra', 'taxonomy', 'biocollections', 'gtr']"
      ]
     },
     "execution_count": 15,
     "metadata": {},
     "output_type": "execute_result"
    }
   ],
   "source": [
    "record['DbList']"
   ]
  },
  {
   "cell_type": "code",
   "execution_count": 16,
   "metadata": {
    "collapsed": true
   },
   "outputs": [
    {
     "name": "stdout",
     "output_type": "stream",
     "text": [
      "PubMed bibliographic record\n",
      "30863721\n",
      "2020/04/10 07:39\n"
     ]
    }
   ],
   "source": [
    "handle = Entrez.einfo(db=\"pubmed\")\n",
    "record = Entrez.read(handle)\n",
    "\n",
    "print(record[\"DbInfo\"][\"Description\"])\n",
    "print(record[\"DbInfo\"][\"Count\"])\n",
    "print(record[\"DbInfo\"][\"LastUpdate\"])"
   ]
  },
  {
   "cell_type": "code",
   "execution_count": 17,
   "metadata": {
    "collapsed": true
   },
   "outputs": [
    {
     "name": "stdout",
     "output_type": "stream",
     "text": [
      "ALL, All Fields, All terms from all searchable fields\n",
      "UID, UID, Unique number assigned to publication\n",
      "FILT, Filter, Limits the records\n",
      "TITL, Title, Words in title of publication\n",
      "WORD, Text Word, Free text associated with publication\n",
      "MESH, MeSH Terms, Medical Subject Headings assigned to publication\n",
      "MAJR, MeSH Major Topic, MeSH terms of major importance to publication\n",
      "AUTH, Author, Author(s) of publication\n",
      "JOUR, Journal, Journal abbreviation of publication\n",
      "AFFL, Affiliation, Author's institutional affiliation and address\n",
      "ECNO, EC/RN Number, EC number for enzyme or CAS registry number\n",
      "SUBS, Supplementary Concept, CAS chemical name or MEDLINE Substance Name\n",
      "PDAT, Date - Publication, Date of publication\n",
      "EDAT, Date - Entrez, Date publication first accessible through Entrez\n",
      "VOL, Volume, Volume number of publication\n",
      "PAGE, Pagination, Page number(s) of publication\n",
      "PTYP, Publication Type, Type of publication (e.g., review)\n",
      "LANG, Language, Language of publication\n",
      "ISS, Issue, Issue number of publication\n",
      "SUBH, MeSH Subheading, Additional specificity for MeSH term\n",
      "SI, Secondary Source ID, Cross-reference from publication to other databases\n",
      "MHDA, Date - MeSH, Date publication was indexed with MeSH terms\n",
      "TIAB, Title/Abstract, Free text associated with Abstract/Title\n",
      "OTRM, Other Term, Other terms associated with publication\n",
      "INVR, Investigator, Investigator\n",
      "COLN, Author - Corporate, Corporate Author of publication\n",
      "CNTY, Place of Publication, Country of publication\n",
      "PAPX, Pharmacological Action, MeSH pharmacological action pre-explosions\n",
      "GRNT, Grant Number, NIH Grant Numbers\n",
      "MDAT, Date - Modification, Date of last modification\n",
      "CDAT, Date - Completion, Date of completion\n",
      "PID, Publisher ID, Publisher ID\n",
      "FAUT, Author - First, First Author of publication\n",
      "FULL, Author - Full, Full Author Name(s) of publication\n",
      "FINV, Investigator - Full, Full name of investigator\n",
      "TT, Transliterated Title, Words in transliterated title of publication\n",
      "LAUT, Author - Last, Last Author of publication\n",
      "PPDT, Print Publication Date, Date of print publication\n",
      "EPDT, Electronic Publication Date, Date of Electronic publication\n",
      "LID, Location ID, ELocation ID\n",
      "CRDT, Date - Create, Date publication first accessible through Entrez\n",
      "BOOK, Book, ID of the book that contains the document\n",
      "ED, Editor, Section's Editor\n",
      "ISBN, ISBN, ISBN\n",
      "PUBN, Publisher, Publisher's name\n",
      "AUCL, Author Cluster ID, Author Cluster ID\n",
      "EID, Extended PMID, Extended PMID\n",
      "DSO, DSO, Additional text from the summary\n",
      "AUID, Author - Identifier, Author Identifier\n",
      "PS, Subject - Personal Name, Personal Name as Subject\n",
      "COIS, Conflict of Interest Statements, Conflict of Interest Statements\n"
     ]
    }
   ],
   "source": [
    "for field in record[\"DbInfo\"][\"FieldList\"]:\n",
    "    print(\"%(Name)s, %(FullName)s, %(Description)s\" % field)"
   ]
  },
  {
   "cell_type": "markdown",
   "metadata": {},
   "source": [
    "### 9.3 ESearch: Searching the Entrez databases"
   ]
  },
  {
   "cell_type": "code",
   "execution_count": 19,
   "metadata": {},
   "outputs": [
    {
     "name": "stdout",
     "output_type": "stream",
     "text": [
      "{'Count': '28', 'RetMax': '20', 'RetStart': '0', 'IdList': ['32044951', '31762715', '31278684', '31069053', '30013827', '29641230', '28011774', '24929426', '24497503', '24267035', '24194598', '23842806', '23157543', '22909249', '22399473', '21666252', '21210977', '20015970', '19811691', '19773334'], 'TranslationSet': [], 'TranslationStack': [{'Term': 'biopython[All Fields]', 'Field': 'All Fields', 'Count': '28', 'Explode': 'N'}, 'GROUP'], 'QueryTranslation': 'biopython[All Fields]'}\n"
     ]
    }
   ],
   "source": [
    "from Bio import Entrez\n",
    "\n",
    "Entrez.email = 'filip.markoski45@gmail.com'\n",
    "handle = Entrez.esearch(db=\"pubmed\", term=\"biopython\")\n",
    "record = Entrez.read(handle)\n",
    "print(record)"
   ]
  },
  {
   "cell_type": "code",
   "execution_count": 20,
   "metadata": {},
   "outputs": [
    {
     "name": "stdout",
     "output_type": "stream",
     "text": [
      "539\n",
      "['MN016934.1', 'NC_045279.1', 'NC_045278.1', 'NC_045400.1', 'MN602053.1', 'MN535015.1', 'MN535014.1', 'KX886268.1', 'KX886267.1', 'KX886266.1', 'KX886265.1', 'KX886264.1', 'KX886263.1', 'KX886262.1', 'KX886261.1', 'KX886260.1', 'KX886259.1', 'KX886258.1', 'KX886257.1', 'KX886256.1']\n"
     ]
    }
   ],
   "source": [
    "handle = Entrez.esearch(db=\"nucleotide\", term=\"Cypripedioideae[Orgn] AND matK[Gene]\", idtype=\"acc\")\n",
    "record = Entrez.read(handle)\n",
    "print(record[\"Count\"])\n",
    "print(record[\"IdList\"])"
   ]
  },
  {
   "cell_type": "code",
   "execution_count": 21,
   "metadata": {},
   "outputs": [
    {
     "name": "stdout",
     "output_type": "stream",
     "text": [
      "172 computational journals found\n",
      "The first 20 are\n",
      "['101765300', '101759185', '101752828', '101755127', '101753951', '101753371', '101740904', '101737789', '101736625', '101728813', '101723217', '101754869', '101723351', '101719151', '101718871', '101717513', '101708081', '101707097', '101724357', '101721723']\n"
     ]
    }
   ],
   "source": [
    "handle = Entrez.esearch(db=\"nlmcatalog\", term=\"computational[Journal]\", retmax=\"20\")\n",
    "record = Entrez.read(handle)\n",
    "print(\"{} computational journals found\".format(record[\"Count\"]))\n",
    "print(\"The first 20 are\\n{}\".format(record[\"IdList\"]))"
   ]
  },
  {
   "cell_type": "code",
   "execution_count": 36,
   "metadata": {
    "collapsed": true
   },
   "outputs": [
    {
     "name": "stdout",
     "output_type": "stream",
     "text": [
      "\u001b[31m<?xml version=\"1.0\" encoding=\"UTF-8\" ?>\n",
      "<!DOCTYPE ePostResult PUBLIC \"-//NLM//DTD epost 20090526//EN\" \"https://eutils.ncbi.nlm.nih.gov/eutils/dtd/20090526/epost.dtd\"><ePostResult>\n",
      "\t<QueryKey>1</QueryKey>\n",
      "\t<WebEnv>NCID_1_161128255_130.14.18.48_9001_1586544646_602676031_0MetA0_S_MegaStore</WebEnv>\n",
      "</ePostResult>\n",
      "\u001b[0m\n",
      "\u001b[32m<?xml version=\"1.0\" encoding=\"UTF-8\" ?>\n",
      "<!DOCTYPE eSummaryResult PUBLIC \"-//NLM//DTD esummary v1 20041029//EN\" \"https://eutils.ncbi.nlm.nih.gov/eutils/dtd/20041029/esummary-v1.dtd\">\n",
      "<eSummaryResult>\n",
      "<DocSum>\n",
      "\t<Id>101660833</Id>\n",
      "\t<Item Name=\"Host\" Type=\"String\"></Item>\n",
      "\t<Item Name=\"NLMUniqueID\" Type=\"String\">101660833</Item>\n",
      "\t<Item Name=\"AuthorList\" Type=\"List\">\n",
      "\t\t<Item Name=\"AuthorInfo\" Type=\"Structure\">\n",
      "\t\t\t<Item Name=\"CollectiveName\" Type=\"String\">Institute of Electrical and Electronics Engineers.</Item>\n",
      "\t\t\t<Item Name=\"LastName\" Type=\"String\"></Item>\n",
      "\t\t\t<Item Name=\"ForeName\" Type=\"String\"></Item>\n",
      "\t\t\t<Item Name=\"NameQualifier\" Type=\"String\"></Item>\n",
      "\t\t\t<Item Name=\"OtherInformation\" Type=\"String\"></Item>\n",
      "\t\t\t<Item Name=\"TitleAssociatedWithName\" Type=\"String\"></Item>\n",
      "\t\t\t<Item Name=\"AIID\" Type=\"String\"></Item>\n",
      "\t\t</Item>\n",
      "\t</Item>\n",
      "\t<Item Name=\"PublicationInfoList\" Type=\"List\">\n",
      "\t\t<Item Name=\"PublicationInfo\" Type=\"Structure\">\n",
      "\t\t\t<Item Name=\"Imprint\" Type=\"String\">Piscataway, NJ : IEEE</Item>\n",
      "\t\t\t<Item Name=\"Place\" Type=\"String\">Piscataway, NJ :</Item>\n",
      "\t\t\t<Item Name=\"Publisher\" Type=\"String\">IEEE</Item>\n",
      "\t\t\t<Item Name=\"DateIssued\" Type=\"String\"></Item>\n",
      "\t\t\t<Item Name=\"Edition\" Type=\"String\"></Item>\n",
      "\t\t\t<Item Name=\"DatesOfSerialPublication\" Type=\"String\">Began with Vol. 1, issue 1 (March 2015).</Item>\n",
      "\t\t</Item>\n",
      "\t</Item>\n",
      "\t<Item Name=\"ResourceInfoList\" Type=\"List\">\n",
      "\t\t<Item Name=\"ResourceInfo\" Type=\"Structure\">\n",
      "\t\t\t<Item Name=\"TypeOfResource\" Type=\"String\">Serial</Item>\n",
      "\t\t\t<Item Name=\"ResourceUnit\" Type=\"String\">Remote electronic resource, Text</Item>\n",
      "\t\t</Item>\n",
      "\t</Item>\n",
      "\t<Item Name=\"TitleMainList\" Type=\"List\">\n",
      "\t\t<Item Name=\"TitleMain\" Type=\"Structure\">\n",
      "\t\t\t<Item Name=\"SortTitle\" Type=\"String\">ieee transactions on computational imaging</Item>\n",
      "\t\t\t<Item Name=\"Title\" Type=\"String\">IEEE transactions on computational imaging.</Item>\n",
      "\t\t\t<Item Name=\"AIID\" Type=\"String\"></Item>\n",
      "\t\t</Item>\n",
      "\t</Item>\n",
      "\t<Item Name=\"TitleOtherList\" Type=\"List\"></Item>\n",
      "\t<Item Name=\"ISSN\" Type=\"String\"></Item>\n",
      "\t<Item Name=\"ISBN\" Type=\"String\"></Item>\n",
      "</DocSum>\n",
      "\n",
      "</eSummaryResult>\n",
      "\u001b[0m\n",
      "\u001b[34mLOCUS       EU490707                1302 bp    DNA     linear   PLN 26-JUL-2016\n",
      "DEFINITION  Selenipedium aequinoctiale maturase K (matK) gene, partial cds;\n",
      "            chloroplast.\n",
      "ACCESSION   EU490707\n",
      "VERSION     EU490707.1\n",
      "KEYWORDS    .\n",
      "SOURCE      chloroplast Selenipedium aequinoctiale\n",
      "  ORGANISM  Selenipedium aequinoctiale\n",
      "            Eukaryota; Viridiplantae; Streptophyta; Embryophyta; Tracheophyta;\n",
      "            Spermatophyta; Magnoliopsida; Liliopsida; Asparagales; Orchidaceae;\n",
      "            Cypripedioideae; Selenipedium.\n",
      "REFERENCE   1  (bases 1 to 1302)\n",
      "  AUTHORS   Neubig,K.M., Whitten,W.M., Carlsward,B.S., Blanco,M.A., Endara,L.,\n",
      "            Williams,N.H. and Moore,M.\n",
      "  TITLE     Phylogenetic utility of ycf1 in orchids: a plastid gene more\n",
      "            variable than matK\n",
      "  JOURNAL   Plant Syst. Evol. 277 (1-2), 75-84 (2009)\n",
      "REFERENCE   2  (bases 1 to 1302)\n",
      "  AUTHORS   Neubig,K.M., Whitten,W.M., Carlsward,B.S., Blanco,M.A.,\n",
      "            Endara,C.L., Williams,N.H. and Moore,M.J.\n",
      "  TITLE     Direct Submission\n",
      "  JOURNAL   Submitted (14-FEB-2008) Department of Botany, University of\n",
      "            Florida, 220 Bartram Hall, Gainesville, FL 32611-8526, USA\n",
      "FEATURES             Location/Qualifiers\n",
      "     source          1..1302\n",
      "                     /organism=\"Selenipedium aequinoctiale\"\n",
      "                     /organelle=\"plastid:chloroplast\"\n",
      "                     /mol_type=\"genomic DNA\"\n",
      "                     /specimen_voucher=\"FLAS:Blanco 2475\"\n",
      "                     /db_xref=\"taxon:256374\"\n",
      "     gene            <1..>1302\n",
      "                     /gene=\"matK\"\n",
      "     CDS             <1..>1302\n",
      "                     /gene=\"matK\"\n",
      "                     /codon_start=1\n",
      "                     /transl_table=11\n",
      "                     /product=\"maturase K\"\n",
      "                     /protein_id=\"ACC99456.1\"\n",
      "                     /translation=\"IFYEPVEIFGYDNKSSLVLVKRLITRMYQQNFLISSVNDSNQKG\n",
      "                     FWGHKHFFSSHFSSQMVSEGFGVILEIPFSSQLVSSLEEKKIPKYQNLRSIHSIFPFL\n",
      "                     EDKFLHLNYVSDLLIPHPIHLEILVQILQCRIKDVPSLHLLRLLFHEYHNLNSLITSK\n",
      "                     KFIYAFSKRKKRFLWLLYNSYVYECEYLFQFLRKQSSYLRSTSSGVFLERTHLYVKIE\n",
      "                     HLLVVCCNSFQRILCFLKDPFMHYVRYQGKAILASKGTLILMKKWKFHLVNFWQSYFH\n",
      "                     FWSQPYRIHIKQLSNYSFSFLGYFSSVLENHLVVRNQMLENSFIINLLTKKFDTIAPV\n",
      "                     ISLIGSLSKAQFCTVLGHPISKPIWTDFSDSDILDRFCRICRNLCRYHSGSSKKQVLY\n",
      "                     RIKYILRLSCARTLARKHKSTVRTFMRRLGSGLLEEFFMEEE\"\n",
      "ORIGIN      \n",
      "        1 attttttacg aacctgtgga aatttttggt tatgacaata aatctagttt agtacttgtg\n",
      "       61 aaacgtttaa ttactcgaat gtatcaacag aattttttga tttcttcggt taatgattct\n",
      "      121 aaccaaaaag gattttgggg gcacaagcat tttttttctt ctcatttttc ttctcaaatg\n",
      "      181 gtatcagaag gttttggagt cattctggaa attccattct cgtcgcaatt agtatcttct\n",
      "      241 cttgaagaaa aaaaaatacc aaaatatcag aatttacgat ctattcattc aatatttccc\n",
      "      301 tttttagaag acaaattttt acatttgaat tatgtgtcag atctactaat accccatccc\n",
      "      361 atccatctgg aaatcttggt tcaaatcctt caatgccgga tcaaggatgt tccttctttg\n",
      "      421 catttattgc gattgctttt ccacgaatat cataatttga atagtctcat tacttcaaag\n",
      "      481 aaattcattt acgccttttc aaaaagaaag aaaagattcc tttggttact atataattct\n",
      "      541 tatgtatatg aatgcgaata tctattccag tttcttcgta aacagtcttc ttatttacga\n",
      "      601 tcaacatctt ctggagtctt tcttgagcga acacatttat atgtaaaaat agaacatctt\n",
      "      661 ctagtagtgt gttgtaattc ttttcagagg atcctatgct ttctcaagga tcctttcatg\n",
      "      721 cattatgttc gatatcaagg aaaagcaatt ctggcttcaa agggaactct tattctgatg\n",
      "      781 aagaaatgga aatttcatct tgtgaatttt tggcaatctt attttcactt ttggtctcaa\n",
      "      841 ccgtatagga ttcatataaa gcaattatcc aactattcct tctcttttct ggggtatttt\n",
      "      901 tcaagtgtac tagaaaatca tttggtagta agaaatcaaa tgctagagaa ttcatttata\n",
      "      961 ataaatcttc tgactaagaa attcgatacc atagccccag ttatttctct tattggatca\n",
      "     1021 ttgtcgaaag ctcaattttg tactgtattg ggtcatccta ttagtaaacc gatctggacc\n",
      "     1081 gatttctcgg attctgatat tcttgatcga ttttgccgga tatgtagaaa tctttgtcgt\n",
      "     1141 tatcacagcg gatcctcaaa aaaacaggtt ttgtatcgta taaaatatat acttcgactt\n",
      "     1201 tcgtgtgcta gaactttggc acggaaacat aaaagtacag tacgcacttt tatgcgaaga\n",
      "     1261 ttaggttcgg gattattaga agaattcttt atggaagaag aa\n",
      "//\n",
      "\n",
      "\u001b[0m\n"
     ]
    }
   ],
   "source": [
    "# EPost\n",
    "id_list = [\"19304878\", \"18606172\", \"16403221\", \"16377612\", \"14871861\", \"14630660\"]\n",
    "result = Entrez.epost('pubmed', id=','.join(id_list)).read()\n",
    "print(tc.colored(result, 'red'))\n",
    "# ESummary\n",
    "result = Entrez.esummary(db='nlmcatalog', id='101660833').read()\n",
    "print(tc.colored(result, 'green'))\n",
    "# EFetch\n",
    "result = Entrez.efetch(db='nucleotide', id='EU490707', rettype='gb', retmode='text').read()\n",
    "print(tc.colored(result, 'blue'))"
   ]
  },
  {
   "cell_type": "markdown",
   "metadata": {},
   "source": [
    "### 9.8 EGQuery: Global Query - counts for search terms"
   ]
  },
  {
   "cell_type": "code",
   "execution_count": 39,
   "metadata": {},
   "outputs": [
    {
     "name": "stdout",
     "output_type": "stream",
     "text": [
      "pubmed 1380\n",
      "pmc 971\n",
      "mesh 6\n",
      "books 7\n",
      "pubmedhealth 0\n",
      "omim 2\n",
      "ncbisearch 9\n",
      "nuccore 552\n",
      "nucgss Error\n",
      "nucest Error\n",
      "protein 5615\n",
      "genome 1\n",
      "structure 106\n",
      "taxonomy 1\n",
      "snp 0\n",
      "dbvar 0\n",
      "gene 24\n",
      "sra 891\n",
      "biosystems 0\n",
      "unigene Error\n",
      "cdd 0\n",
      "clone Error\n",
      "popset 24\n",
      "geoprofiles 0\n",
      "gds 18\n",
      "homologene 0\n",
      "pccompound 0\n",
      "pcsubstance 187\n",
      "pcassay 38\n",
      "nlmcatalog 0\n",
      "probe 1\n",
      "gap 1\n",
      "proteinclusters 0\n",
      "bioproject 41\n",
      "biosample 874\n",
      "biocollections 1\n"
     ]
    }
   ],
   "source": [
    "handle = Entrez.egquery(term=\"sars-cov-2\")\n",
    "record = Entrez.read(handle)\n",
    "for row in record[\"eGQueryResult\"]:\n",
    "    print(row[\"DbName\"], row[\"Count\"])"
   ]
  },
  {
   "cell_type": "markdown",
   "metadata": {},
   "source": [
    "### 9.9 ESpell: Obtaining spelling suggestions"
   ]
  },
  {
   "cell_type": "code",
   "execution_count": 47,
   "metadata": {},
   "outputs": [
    {
     "data": {
      "text/plain": [
       "{'Database': 'pubmed', 'Query': 'virrusss', 'CorrectedQuery': 'viruses', 'SpelledQuery': ['', 'viruses']}"
      ]
     },
     "execution_count": 47,
     "metadata": {},
     "output_type": "execute_result"
    }
   ],
   "source": [
    "handle = Entrez.espell(term='virrusss')\n",
    "record = Entrez.read(handle)\n",
    "record"
   ]
  },
  {
   "cell_type": "markdown",
   "metadata": {},
   "source": [
    "### 10.1.1 Parsing Swiss-Prot records"
   ]
  },
  {
   "cell_type": "code",
   "execution_count": 48,
   "metadata": {},
   "outputs": [
    {
     "name": "stdout",
     "output_type": "stream",
     "text": [
      "SubName: Full=Plasma membrane intrinsic protein {ECO:0000313|EMBL:BAN04711.1}; SubName: Full=Predicted protein {ECO:0000313|EMBL:BAJ87517.1};\n"
     ]
    }
   ],
   "source": [
    "from urllib.request import urlopen # Python 3 only\n",
    "from io import TextIOWrapper\n",
    "\n",
    "opener = urlopen(\"https://raw.githubusercontent.com/biopython/biopython/master/Tests/SwissProt/F2CXE6.txt\")\n",
    "handle = TextIOWrapper(opener)\n",
    "\n",
    "from Bio import SwissProt\n",
    "record = SwissProt.read(handle)\n",
    "print(record.description)"
   ]
  },
  {
   "cell_type": "markdown",
   "metadata": {},
   "source": [
    "### 10.5 Accessing the ExPASy server"
   ]
  },
  {
   "cell_type": "code",
   "execution_count": 49,
   "metadata": {
    "scrolled": true
   },
   "outputs": [
    {
     "name": "stdout",
     "output_type": "stream",
     "text": [
      "authors: Matsumoto T., Tanaka T., Sakai H., Amano N., Kanamori H., Kurita K., Kikuta A., Kamiya K., Yamamoto M., Ikawa H., Fujii N., Hori K., Itoh T., Sato K.\n",
      "title: Comprehensive sequence analysis of 24,783 barley full-length cDNAs derived from 12 clone libraries.\n",
      "['Eukaryota', 'Viridiplantae', 'Streptophyta', 'Embryophyta', 'Tracheophyta', 'Spermatophyta', 'Magnoliophyta', 'Liliopsida', 'Poales', 'Poaceae', 'BEP clade', 'Pooideae', 'Triticeae', 'Hordeum']\n",
      "authors: Shibasaka M., Sasano S., Utsugi S., Katsuhara M.\n",
      "title: Functional characterization of a novel plasma membrane intrinsic protein2 in barley.\n",
      "['Eukaryota', 'Viridiplantae', 'Streptophyta', 'Embryophyta', 'Tracheophyta', 'Spermatophyta', 'Magnoliophyta', 'Liliopsida', 'Poales', 'Poaceae', 'BEP clade', 'Pooideae', 'Triticeae', 'Hordeum']\n",
      "authors: Shibasaka M., Katsuhara M., Sasano S.\n",
      "title: \n",
      "['Eukaryota', 'Viridiplantae', 'Streptophyta', 'Embryophyta', 'Tracheophyta', 'Spermatophyta', 'Magnoliophyta', 'Liliopsida', 'Poales', 'Poaceae', 'BEP clade', 'Pooideae', 'Triticeae', 'Hordeum']\n"
     ]
    }
   ],
   "source": [
    "for ref in record.references:\n",
    "    print(\"authors:\", ref.authors)\n",
    "    print(\"title:\", ref.title)\n",
    "    print(record.organism_classification)"
   ]
  },
  {
   "cell_type": "code",
   "execution_count": 55,
   "metadata": {
    "scrolled": true
   },
   "outputs": [
    {
     "name": "stdout",
     "output_type": "stream",
     "text": [
      "WARNING: Accession O23729 not found\n",
      "WARNING: Accession O23730 not found\n",
      "WARNING: Accession O23731 not found\n"
     ]
    }
   ],
   "source": [
    "from Bio import ExPASy\n",
    "from Bio import SwissProt\n",
    "accessions = [\"O23729\", \"O23730\", \"O23731\"]\n",
    "records = []\n",
    "\n",
    "for accession in accessions:\n",
    "    handle = ExPASy.get_sprot_raw(accession)\n",
    "    try:\n",
    "        record = SwissProt.read(handle)\n",
    "    except:\n",
    "        print(\"WARNING: Accession %s not found\" % accession)\n",
    "\n",
    "    records.append(record)"
   ]
  },
  {
   "cell_type": "code",
   "execution_count": 67,
   "metadata": {},
   "outputs": [
    {
     "name": "stdout",
     "output_type": "stream",
     "text": [
      "\u001b[1mbiopython does not have this feature well supported\u001b[0m\n"
     ]
    }
   ],
   "source": [
    "from Bio import SCOP\n",
    "\n",
    "'''\n",
    "def search(\n",
    "    pdb=None,\n",
    "    key=None,\n",
    "    sid=None,\n",
    "    disp=None,\n",
    "    dir=None,\n",
    "    loc=None,\n",
    "    cgi=\"http://scop.mrc-lmb.cam.ac.uk/scop/search.cgi\",\n",
    "    **keywds\n",
    "):\n",
    "'''\n",
    "\n",
    "# 2000668HIV-1 VPU cytoplasmic domain\n",
    "scop_id = '2000668'\n",
    "\n",
    "cgi = 'http://scop.mrc-lmb.cam.ac.uk/search?t=txt'\n",
    "handle = SCOP.search(key=scop_id, cgi=cgi)\n",
    "\n",
    "print(tc.colored('biopython does not have this feature well supported', attrs=['bold']))"
   ]
  },
  {
   "cell_type": "markdown",
   "metadata": {},
   "source": [
    "## Task 3. Да се напише пример за работа со `Seq` објекти, како што е опишано во поглавје 3, и да се обрне внимание на процесите транскрипција и транслација."
   ]
  },
  {
   "cell_type": "code",
   "execution_count": 85,
   "metadata": {},
   "outputs": [],
   "source": [
    "sars_cov_2_file = os.path.join(defs.DATA_DIR, 'MN908947.fna')\n",
    "sars_cov_2_record = list(SeqIO.parse(sars_cov_2_file, 'fasta'))[0]"
   ]
  },
  {
   "cell_type": "markdown",
   "metadata": {},
   "source": [
    "Let's just work with the first one."
   ]
  },
  {
   "cell_type": "code",
   "execution_count": 87,
   "metadata": {},
   "outputs": [
    {
     "data": {
      "text/plain": [
       "Bio.SeqRecord.SeqRecord"
      ]
     },
     "execution_count": 87,
     "metadata": {},
     "output_type": "execute_result"
    }
   ],
   "source": [
    "type(sars_cov_2_record)"
   ]
  },
  {
   "cell_type": "code",
   "execution_count": 88,
   "metadata": {},
   "outputs": [
    {
     "data": {
      "text/plain": [
       "Seq('ATTAAAGGTTTATACCTTCCCAGGTAACAAACCAACCAACTTTCGATCTCTTGT...AAA', SingleLetterAlphabet())"
      ]
     },
     "execution_count": 88,
     "metadata": {},
     "output_type": "execute_result"
    }
   ],
   "source": [
    "sars_cov_2_record.seq"
   ]
  },
  {
   "cell_type": "code",
   "execution_count": 99,
   "metadata": {},
   "outputs": [
    {
     "data": {
      "text/plain": [
       "SingleLetterAlphabet()"
      ]
     },
     "execution_count": 99,
     "metadata": {},
     "output_type": "execute_result"
    }
   ],
   "source": [
    "sars_cov_2_record.seq.alphabet"
   ]
  },
  {
   "cell_type": "markdown",
   "metadata": {},
   "source": [
    "source: https://dmnfarrell.github.io/bioinformatics/genomics-sarscov2-python <br>\n",
    "The genome of the newly emerging CoV consists of a single, <b>positive-stranded RNA</b> that is approximately 30k nucleotides long. The overall genome organization of the newly emerging CoV is similar to that of other coronaviruses."
   ]
  },
  {
   "cell_type": "code",
   "execution_count": 124,
   "metadata": {},
   "outputs": [
    {
     "name": "stdout",
     "output_type": "stream",
     "text": [
      "U 0\n",
      "C 5492\n",
      "A 8954\n",
      "G 5863\n",
      "T 9594\n"
     ]
    }
   ],
   "source": [
    "for letter in ['U', 'C', 'A', 'G', 'T']:\n",
    "    print(letter, sars_cov_2_record.seq.count(letter))"
   ]
  },
  {
   "cell_type": "markdown",
   "metadata": {},
   "source": [
    "source: https://en.wikipedia.org/wiki/Virus <br>\n",
    "When not inside an infected cell or in the process of infecting a cell, viruses exist in the form of independent particles, or virions, consisting of: (i) the genetic material, i.e. <b>long molecules of DNA or RNA</b> that encode the structure of the proteins by which the virus acts; (ii) a protein coat, the capsid, which surrounds and protects the genetic material; and in some cases (iii) an outside envelope of lipids. "
   ]
  },
  {
   "cell_type": "markdown",
   "metadata": {},
   "source": [
    "\n",
    "\n",
    "Since input sequence is FASTA (DNA), and Coronavirus is RNA type of virus, we need to:\n",
    "\n",
    "    Transcribe DNA to RNA (ATTAAAGGTT... => AUUAAAGGUU...)\n",
    "    Translate RNA to Amino acid sequence (AUUAAAGGUU... => IKGLYLPR*Q...)\n",
    "\n",
    "In the current scenario, the .fna file starts with ATTAAAGGTT, then we call transcribe() so T (thymine) is replaced with U (uracil), so we get the RNA sequence which starts with AUUAAAGGUU.\n",
    "\n",
    "When we translate() the RNA sequence to amino-acid sequence, we get something like IKGLYLPR*Q ( is so called STOP codon, effectively is separator for proteins). In our scenario, sequence looks like this: IKGLYLPR*QTNQLSISCRSVL*TNFKICV, where:\n",
    "\n",
    "    IKGLYLPR encodes first protein (every letter encodes single amino-acid)\n",
    "    QTNQLSISCRSVL encodes second protein, and so on\n",
    "\n"
   ]
  },
  {
   "cell_type": "code",
   "execution_count": 126,
   "metadata": {},
   "outputs": [
    {
     "name": "stdout",
     "output_type": "stream",
     "text": [
      "dna_corona: ATTAAAGGTTTATACCTTCCCAGGTAACAAACCAACCAACTTTCG\n",
      "messenger_rna: AUUAAAGGUUUAUACCUUCCCAGGUAACAAACCAACCAACUUUCG\n"
     ]
    }
   ],
   "source": [
    "from Bio.Alphabet import IUPAC\n",
    "\n",
    "b = 3 * 15 # bounding index, a multiple of 3 because codons are triplets.\n",
    "\n",
    "# So, I guess it's better to treat it with a DNA alphabet...\n",
    "dna_corona = Seq(str(sars_cov_2_record.seq), IUPAC.ambiguous_dna);\n",
    "print('dna_corona:', dna_corona[:b])\n",
    "messenger_rna = dna_corona.transcribe()\n",
    "print('messenger_rna:', messenger_rna[:b])"
   ]
  },
  {
   "cell_type": "code",
   "execution_count": 127,
   "metadata": {},
   "outputs": [
    {
     "name": "stdout",
     "output_type": "stream",
     "text": [
      "Total nucleotides: 29903\n"
     ]
    }
   ],
   "source": [
    "print('Total nucleotides:', len(messenger_rna))"
   ]
  },
  {
   "cell_type": "code",
   "execution_count": 129,
   "metadata": {},
   "outputs": [
    {
     "name": "stdout",
     "output_type": "stream",
     "text": [
      "GC: 37.97277865097148\n"
     ]
    }
   ],
   "source": [
    "from Bio.SeqUtils import GC\n",
    "\n",
    "print('GC:', GC(messenger_rna))"
   ]
  },
  {
   "cell_type": "code",
   "execution_count": 130,
   "metadata": {},
   "outputs": [
    {
     "data": {
      "text/plain": [
       "False"
      ]
     },
     "execution_count": 130,
     "metadata": {},
     "output_type": "execute_result"
    }
   ],
   "source": [
    "len(messenger_rna) % 3 == 0"
   ]
  },
  {
   "cell_type": "code",
   "execution_count": 136,
   "metadata": {},
   "outputs": [
    {
     "name": "stdout",
     "output_type": "stream",
     "text": [
      "Amino Acids: IKGLYLPR*QTNQLSISCRSVL*TNFKICVAVTRLHA*CTHAV*L\n",
      "Total Amino acids: 9967\n"
     ]
    }
   ],
   "source": [
    "# Obtain Amino Acid Sequence from mRNA (translation)\n",
    "amino_acids = messenger_rna.translate(table=1, cds=False) \n",
    "\n",
    "print('Amino Acids:', amino_acids[:b])\n",
    "print('Total Amino acids:', len(amino_acids))"
   ]
  },
  {
   "cell_type": "code",
   "execution_count": 143,
   "metadata": {
    "scrolled": false
   },
   "outputs": [
    {
     "name": "stdout",
     "output_type": "stream",
     "text": [
      "Total proteins: 775\n"
     ]
    },
    {
     "name": "stderr",
     "output_type": "stream",
     "text": [
      "D:\\code\\py\\corona-virus-analysis\\.env\\lib\\site-packages\\Bio\\Seq.py:182: BiopythonWarning: Biopython Seq objects now use string comparison. Older versions of Biopython used object comparison. During this transition, please use hash(id(my_seq)) or my_dict[id(my_seq)] if you want the old behaviour, or use hash(str(my_seq)) or my_dict[str(my_seq)] for the new string hashing behaviour.\n",
      "  BiopythonWarning,\n"
     ]
    },
    {
     "data": {
      "text/html": [
       "<div>\n",
       "<style scoped>\n",
       "    .dataframe tbody tr th:only-of-type {\n",
       "        vertical-align: middle;\n",
       "    }\n",
       "\n",
       "    .dataframe tbody tr th {\n",
       "        vertical-align: top;\n",
       "    }\n",
       "\n",
       "    .dataframe thead th {\n",
       "        text-align: right;\n",
       "    }\n",
       "</style>\n",
       "<table border=\"1\" class=\"dataframe\">\n",
       "  <thead>\n",
       "    <tr style=\"text-align: right;\">\n",
       "      <th></th>\n",
       "      <th>sequence</th>\n",
       "      <th>length</th>\n",
       "    </tr>\n",
       "  </thead>\n",
       "  <tbody>\n",
       "    <tr>\n",
       "      <th>770</th>\n",
       "      <td>(S, H, I, A, I, F, N, Q, C, V, T, L, G, R, T)</td>\n",
       "      <td>15</td>\n",
       "    </tr>\n",
       "    <tr>\n",
       "      <th>771</th>\n",
       "      <td>(K, S, H, H, I, F, T, E, A, T, R, S, T, I, E, ...</td>\n",
       "      <td>43</td>\n",
       "    </tr>\n",
       "    <tr>\n",
       "      <th>772</th>\n",
       "      <td>(F)</td>\n",
       "      <td>1</td>\n",
       "    </tr>\n",
       "    <tr>\n",
       "      <th>773</th>\n",
       "      <td>()</td>\n",
       "      <td>0</td>\n",
       "    </tr>\n",
       "    <tr>\n",
       "      <th>774</th>\n",
       "      <td>(L, L, R, R, M, T, K, K, K, K, K, K, K, K, K, K)</td>\n",
       "      <td>16</td>\n",
       "    </tr>\n",
       "  </tbody>\n",
       "</table>\n",
       "</div>"
      ],
      "text/plain": [
       "                                              sequence  length\n",
       "770      (S, H, I, A, I, F, N, Q, C, V, T, L, G, R, T)      15\n",
       "771  (K, S, H, H, I, F, T, E, A, T, R, S, T, I, E, ...      43\n",
       "772                                                (F)       1\n",
       "773                                                 ()       0\n",
       "774   (L, L, R, R, M, T, K, K, K, K, K, K, K, K, K, K)      16"
      ]
     },
     "execution_count": 143,
     "metadata": {},
     "output_type": "execute_result"
    }
   ],
   "source": [
    "#Identify all the Proteins (chains of amino acids)\n",
    "Proteins = amino_acids.split('*') # * is translated stop codon\n",
    "df = pd.DataFrame(Proteins)\n",
    "df.describe()\n",
    "print('Total proteins:', len(df))\n",
    "\n",
    "df['length'] = df[0].apply(lambda x: len(x))\n",
    "df.rename(columns={0: \"sequence\"}, inplace=True)\n",
    "df.tail()"
   ]
  },
  {
   "cell_type": "markdown",
   "metadata": {},
   "source": [
    "## Task 4. Да се преземе комплетната ДНА секвенција на Yersinia pestis (бактерија која ги инфектира белите дробови и предизвикува пневмонија). До неа се пристапува со употреба на идентификациониот број NC_005816 во GeneBank базата (работете со `SeqIO` објекти, имате детали во документацијат"
   ]
  },
  {
   "attachments": {
    "image.png": {
     "image/png": "[encoded data removed]"
    }
   },
   "cell_type": "markdown",
   "metadata": {},
   "source": [
    "![image.png](attachment:image.png)"
   ]
  },
  {
   "cell_type": "code",
   "execution_count": 146,
   "metadata": {},
   "outputs": [
    {
     "data": {
      "text/plain": [
       "['pubmed', 'protein', 'nuccore', 'ipg', 'nucleotide', 'structure', 'sparcle', 'genome', 'annotinfo', 'assembly', 'bioproject', 'biosample', 'blastdbinfo', 'books', 'cdd', 'clinvar', 'gap', 'gapplus', 'grasp', 'dbvar', 'gene', 'gds', 'geoprofiles', 'homologene', 'medgen', 'mesh', 'ncbisearch', 'nlmcatalog', 'omim', 'orgtrack', 'pmc', 'popset', 'probe', 'proteinclusters', 'pcassay', 'biosystems', 'pccompound', 'pcsubstance', 'seqannot', 'snp', 'sra', 'taxonomy', 'biocollections', 'gtr']"
      ]
     },
     "execution_count": 146,
     "metadata": {},
     "output_type": "execute_result"
    }
   ],
   "source": [
    "handle = Entrez.einfo()\n",
    "record = Entrez.read(handle)\n",
    "record['DbList']"
   ]
  },
  {
   "cell_type": "code",
   "execution_count": 194,
   "metadata": {
    "scrolled": false
   },
   "outputs": [
    {
     "name": "stdout",
     "output_type": "stream",
     "text": [
      "NC_005816.1\n",
      "Yersinia pestis biovar Microtus str. 91001 plasmid pPCP1, complete sequence\n"
     ]
    }
   ],
   "source": [
    "handle = Entrez.efetch(db='nuccore', id='NC_005816', rettype='gb', retmode='text')\n",
    "yersinia = SeqIO.read(handle, 'genbank')\n",
    "handle.close()\n",
    "print(yersinia.id)\n",
    "print(yersinia.description)"
   ]
  },
  {
   "cell_type": "code",
   "execution_count": 195,
   "metadata": {},
   "outputs": [
    {
     "data": {
      "text/plain": [
       "UnknownSeq(9609, alphabet=IUPACAmbiguousDNA(), character='N')"
      ]
     },
     "execution_count": 195,
     "metadata": {},
     "output_type": "execute_result"
    }
   ],
   "source": [
    "yersinia.seq "
   ]
  },
  {
   "cell_type": "markdown",
   "metadata": {},
   "source": [
    "Since Entrez doesn't provide the correct sequence, the one used here is found here: <br>\n",
    "https://raw.githubusercontent.com/biopython/biopython/master/Tests/GenBank/NC_005816.gb"
   ]
  },
  {
   "cell_type": "code",
   "execution_count": 204,
   "metadata": {},
   "outputs": [
    {
     "name": "stdout",
     "output_type": "stream",
     "text": [
      "NC_005816.1\n",
      "Seq('TGTAACGAACGGTGCAATAGTGATCCACACCCAACGCCTGAAATCAGATCCAGG...CTG', IUPACAmbiguousDNA())\n",
      "9609\n"
     ]
    }
   ],
   "source": [
    "yersinia_file = os.path.join(defs.DATA_DIR, 'NC_005816.gb')\n",
    "\n",
    "for seq_record in SeqIO.parse(yersinia_file, 'genbank'):\n",
    "    print(seq_record.id)\n",
    "    print(repr(seq_record.seq))\n",
    "    print(len(seq_record))"
   ]
  },
  {
   "cell_type": "code",
   "execution_count": 205,
   "metadata": {},
   "outputs": [
    {
     "name": "stdout",
     "output_type": "stream",
     "text": [
      "ID: NC_005816.1\n",
      "Name: NC_005816\n",
      "Description: Yersinia pestis biovar Microtus str. 91001 plasmid pPCP1, complete sequence\n",
      "Database cross-references: Project:58037\n",
      "Number of features: 41\n",
      "/molecule_type=DNA\n",
      "/topology=circular\n",
      "/data_file_division=BCT\n",
      "/date=21-JUL-2008\n",
      "/accessions=['NC_005816']\n",
      "/sequence_version=1\n",
      "/gi=45478711\n",
      "/keywords=['']\n",
      "/source=Yersinia pestis biovar Microtus str. 91001\n",
      "/organism=Yersinia pestis biovar Microtus str. 91001\n",
      "/taxonomy=['Bacteria', 'Proteobacteria', 'Gammaproteobacteria', 'Enterobacteriales', 'Enterobacteriaceae', 'Yersinia']\n",
      "/references=[Reference(title='Genetics of metabolic variations between Yersinia pestis biovars and the proposal of a new biovar, microtus', ...), Reference(title='Complete genome sequence of Yersinia pestis strain 91001, an isolate avirulent to humans', ...), Reference(title='Direct Submission', ...), Reference(title='Direct Submission', ...)]\n",
      "/comment=PROVISIONAL REFSEQ: This record has not yet been subject to final\n",
      "NCBI review. The reference sequence was derived from AE017046.\n",
      "COMPLETENESS: full length.\n",
      "Seq('TGTAACGAACGGTGCAATAGTGATCCACACCCAACGCCTGAAATCAGATCCAGG...CTG', IUPACAmbiguousDNA())\n"
     ]
    }
   ],
   "source": [
    "yersinia = list(SeqIO.parse(yersinia_file, 'genbank'))[0]\n",
    "print(yersinia)"
   ]
  },
  {
   "cell_type": "markdown",
   "metadata": {},
   "source": [
    "## Task 5. Имплеметирајте репликација на секвенцијата потпомогната од функции во biopython."
   ]
  },
  {
   "cell_type": "markdown",
   "metadata": {},
   "source": [
    "\n",
    "| ![image.png](docs/images/leading_strand.png)\t|   ![image.png](docs/images/lagging_strand.png) \t|\n",
    "|---\t|---\t|\n",
    "|  ![image.png](docs/images/dna_ligase.png) \t|   ![image.png](docs/images/transcription.png)\t|"
   ]
  },
  {
   "cell_type": "markdown",
   "metadata": {},
   "source": [
    "> The actual biological transcription process works from the template strand, doing a reverse complement\n",
    "(TCAG -> CUGA) to give the mRNA. However, in Biopython and bioinformatics in general, <b>we typically\n",
    "work directly with the coding strand</b> because this means we can get the mRNA sequence just by switching\n",
    "T -> U."
   ]
  },
  {
   "cell_type": "markdown",
   "metadata": {},
   "source": [
    "DNA polymerase can only copy strands in the 5' to 3' direction"
   ]
  },
  {
   "cell_type": "markdown",
   "metadata": {},
   "source": [
    "#### First a simple example"
   ]
  },
  {
   "cell_type": "code",
   "execution_count": 167,
   "metadata": {},
   "outputs": [
    {
     "name": "stdout",
     "output_type": "stream",
     "text": [
      "5' to 3': ATGGCCATTGTAATGGGCCGCTGAAAGGGTGCCCGATAG\n"
     ]
    }
   ],
   "source": [
    "from Bio.Seq import Seq\n",
    "from Bio.Alphabet import IUPAC\n",
    "# this is 5' to 3'\n",
    "coding_dna = Seq(\"ATGGCCATTGTAATGGGCCGCTGAAAGGGTGCCCGATAG\", IUPAC.unambiguous_dna)\n",
    "print(\"5' to 3':\", coding_dna)"
   ]
  },
  {
   "cell_type": "code",
   "execution_count": 169,
   "metadata": {},
   "outputs": [
    {
     "name": "stdout",
     "output_type": "stream",
     "text": [
      "3' to 5': TACCGGTAACATTACCCGGCGACTTTCCCACGGGCTATC\n"
     ]
    }
   ],
   "source": [
    "template_strand = coding_dna.complement()\n",
    "print(\"3' to 5':\", template_strand)"
   ]
  },
  {
   "cell_type": "code",
   "execution_count": 170,
   "metadata": {},
   "outputs": [
    {
     "name": "stdout",
     "output_type": "stream",
     "text": [
      "5' to 3': CTATCGGGCACCCTTTCAGCGGCCCATTACAATGGCCAT\n"
     ]
    }
   ],
   "source": [
    "# because the DNA polymerase works only in the 5' to 3' direction we must reverse the template_stand\n",
    "reversed_template_strand = template_strand[::-1]\n",
    "print(\"5' to 3':\", reversed_template_strand)"
   ]
  },
  {
   "cell_type": "code",
   "execution_count": 171,
   "metadata": {},
   "outputs": [
    {
     "name": "stdout",
     "output_type": "stream",
     "text": [
      "3' to 5': TACCGGTAACATTACCCGGCGACTTTCCCACGGGCTATC\n",
      "3' to 5': GATAGCCCGTGGGAAAGTCGCCGGGTAATGTTACCGGTA\n"
     ]
    }
   ],
   "source": [
    "# now we my construct the compliment to each parent strand\n",
    "coding_dna_partner = coding_dna.complement()\n",
    "reversed_template_strand_partner = reversed_template_strand.complement()\n",
    "\n",
    "print(\"3' to 5':\", coding_dna_partner)\n",
    "print(\"3' to 5':\", reversed_template_strand_partner)"
   ]
  },
  {
   "cell_type": "code",
   "execution_count": 176,
   "metadata": {},
   "outputs": [
    {
     "name": "stdout",
     "output_type": "stream",
     "text": [
      "5' to 3': ATGGCCATTGTAATGGGCCGCTGAAAGGGTGCCCGATAG\n"
     ]
    }
   ],
   "source": [
    "# we must reverse the reversed partner thereby setting it back to its original direction\n",
    "template_strand_partner = reversed_template_strand_partner[::-1]\n",
    "print(\"5' to 3':\", template_strand_partner)"
   ]
  },
  {
   "cell_type": "code",
   "execution_count": 179,
   "metadata": {},
   "outputs": [
    {
     "name": "stdout",
     "output_type": "stream",
     "text": [
      "\u001b[1mCoding parent strand\u001b[0m\n",
      "ATGGCCATTGTAATGGGCCGCTGAAAGGGTGCCCGATAG\n",
      "|||||||||||||||||||||||||||||||||||||||\n",
      "TACCGGTAACATTACCCGGCGACTTTCCCACGGGCTATC\n",
      "\n",
      "\u001b[1mTemplate parent strand\u001b[0m\n",
      "TACCGGTAACATTACCCGGCGACTTTCCCACGGGCTATC\n",
      "|||||||||||||||||||||||||||||||||||||||\n",
      "ATGGCCATTGTAATGGGCCGCTGAAAGGGTGCCCGATAG\n"
     ]
    }
   ],
   "source": [
    "# finally, join each parent strand with their newly constructed partner\n",
    "L = len(coding_dna)\n",
    "\n",
    "print(tc.colored('Coding parent strand', attrs=['bold']))\n",
    "print(coding_dna)\n",
    "print('|' * L)\n",
    "print(coding_dna_partner)\n",
    "\n",
    "print()\n",
    "\n",
    "print(tc.colored('Template parent strand', attrs=['bold']))\n",
    "print(template_strand)\n",
    "print('|' * L)\n",
    "print(template_strand_partner)"
   ]
  },
  {
   "cell_type": "markdown",
   "metadata": {},
   "source": [
    "#### Let's constuct a function that uses this simple example as the foundation for our logic"
   ]
  },
  {
   "cell_type": "code",
   "execution_count": 180,
   "metadata": {},
   "outputs": [],
   "source": [
    "def dna_replication(dna_coding_strand):\n",
    "    dna_template_strand = dna_coding_strand.complement()\n",
    "    reversed_dna_template_strand = dna_template_strand[::-1]\n",
    "    \n",
    "    # now we my construct the compliment to each parent strand\n",
    "    dna_coding_strand_partner = dna_coding_strand.complement()\n",
    "    reversed_dna_template_strand_partner = reversed_dna_template_strand.complement()\n",
    "    \n",
    "    # we must reverse the reversed partner thereby setting it back to its original direction\n",
    "    dna_template_strand_partner = reversed_dna_template_strand_partner[::-1]\n",
    "    \n",
    "    # finally, join each parent strand with their newly constructed partner\n",
    "    L = len(dna_coding_strand)\n",
    "\n",
    "    print(tc.colored('Coding parent strand', attrs=['bold']))\n",
    "    print(dna_coding_strand)\n",
    "    print('|' * L)\n",
    "    print(dna_coding_strand_partner)\n",
    "\n",
    "    print()\n",
    "\n",
    "    print(tc.colored('Template parent strand', attrs=['bold']))\n",
    "    print(dna_template_strand)\n",
    "    print('|' * L)\n",
    "    print(dna_template_strand_partner)"
   ]
  },
  {
   "cell_type": "code",
   "execution_count": 181,
   "metadata": {},
   "outputs": [
    {
     "name": "stdout",
     "output_type": "stream",
     "text": [
      "\u001b[1mCoding parent strand\u001b[0m\n",
      "ATGGCCATTGTAATGGGCCGCTGAAAGGGTGCCCGATAG\n",
      "|||||||||||||||||||||||||||||||||||||||\n",
      "TACCGGTAACATTACCCGGCGACTTTCCCACGGGCTATC\n",
      "\n",
      "\u001b[1mTemplate parent strand\u001b[0m\n",
      "TACCGGTAACATTACCCGGCGACTTTCCCACGGGCTATC\n",
      "|||||||||||||||||||||||||||||||||||||||\n",
      "ATGGCCATTGTAATGGGCCGCTGAAAGGGTGCCCGATAG\n"
     ]
    }
   ],
   "source": [
    "dna_replication(coding_dna)"
   ]
  },
  {
   "cell_type": "markdown",
   "metadata": {},
   "source": [
    "#### Since the function works, we may simply use it on our yersenia DNA (shortened to 50 base pairs)"
   ]
  },
  {
   "cell_type": "code",
   "execution_count": 207,
   "metadata": {},
   "outputs": [
    {
     "name": "stdout",
     "output_type": "stream",
     "text": [
      "\u001b[1mCoding parent strand\u001b[0m\n",
      "TGTAACGAACGGTGCAATAGTGATCCACACCCAACGCCTGAAATCAGATC\n",
      "||||||||||||||||||||||||||||||||||||||||||||||||||\n",
      "ACATTGCTTGCCACGTTATCACTAGGTGTGGGTTGCGGACTTTAGTCTAG\n",
      "\n",
      "\u001b[1mTemplate parent strand\u001b[0m\n",
      "ACATTGCTTGCCACGTTATCACTAGGTGTGGGTTGCGGACTTTAGTCTAG\n",
      "||||||||||||||||||||||||||||||||||||||||||||||||||\n",
      "TGTAACGAACGGTGCAATAGTGATCCACACCCAACGCCTGAAATCAGATC\n"
     ]
    }
   ],
   "source": [
    "dna_replication(yersinia.seq[:50])"
   ]
  },
  {
   "cell_type": "markdown",
   "metadata": {},
   "source": [
    "## Task 6. Со помош на biopython, пронајдете ги секвенциите на различните кодни региони означени како (CDS). CDS се регионите добиени после процедурата на отсекување на интроните."
   ]
  },
  {
   "cell_type": "markdown",
   "metadata": {},
   "source": [
    "source: https://en.wikipedia.org/wiki/Coding_region <br>\n",
    "The coding region of a gene, also known as the <b>CDS (from coding sequence)</b>, is the portion of a gene's DNA or RNA that codes for protein.[1] Studying the length, composition, regulation, splicing, structures, and functions of coding regions compared to non-coding regions over different species and time periods can provide a significant amount of important information regarding gene organization and evolution of prokaryotes and eukaryotes.[2] This can further assist in mapping the human genome and developing gene therapy."
   ]
  },
  {
   "cell_type": "code",
   "execution_count": 211,
   "metadata": {},
   "outputs": [
    {
     "data": {
      "text/plain": [
       "{'CDS', 'gene', 'misc_feature', 'repeat_region', 'source', 'variation'}"
      ]
     },
     "execution_count": 211,
     "metadata": {},
     "output_type": "execute_result"
    }
   ],
   "source": [
    "set(map(lambda f: f.type, yersenia.features))"
   ]
  },
  {
   "cell_type": "code",
   "execution_count": 7,
   "metadata": {},
   "outputs": [
    {
     "name": "stdout",
     "output_type": "stream",
     "text": [
      "\u001b[1mLength: 1023\u001b[0m\n",
      "type: CDS\n",
      "location: [86:1109](+)\n",
      "qualifiers:\n",
      "    Key: codon_start, Value: ['1']\n",
      "    Key: db_xref, Value: ['GI:45478712', 'GeneID:2767718']\n",
      "    Key: locus_tag, Value: ['YP_pPCP01']\n",
      "    Key: note, Value: ['similar to corresponding CDS from previously sequenced pPCP plasmid of Yersinia pestis KIM (AF053945) and CO92 (AL109969), also many transposase entries for insertion sequence IS100 of Yersinia pestis. Contains IS21-like element transposase, HTH domain (Interpro|IPR007101)']\n",
      "    Key: product, Value: ['putative transposase']\n",
      "    Key: protein_id, Value: ['NP_995567.1']\n",
      "    Key: transl_table, Value: ['11']\n",
      "    Key: translation, Value: ['MVTFETVMEIKILHKQGMSSRAIARELGISRNTVKRYLQAKSEPPKYTPRPAVASLLDEYRDYIRQRIADAHPYKIPATVIAREIRDQGYRGGMTILRAFIRSLSVPQEQEPAVRFETEPGRQMQVDWGTMRNGRSPLHVFVAVLGYSRMLYIEFTDNMRYDTLETCHRNAFRFFGGVPREVLYDNMKTVVLQRDAYQTGQHRFHPSLWQFGKEMGFSPRLCRPFRAQTKGKVERMVQYTRNSFYIPLMTRLRPMGITVDVETANRHGLRWLHDVANQRKHETIQARPCDRWLEEQQSMLALPPEKKEYDVHLDENLVNFDKHPLHHPLSIYDSFCRGVA']\n",
      "\n",
      "\n",
      "\u001b[1mLength: 783\u001b[0m\n",
      "type: CDS\n",
      "location: [1105:1888](+)\n",
      "qualifiers:\n",
      "    Key: codon_start, Value: ['1']\n",
      "    Key: db_xref, Value: ['GI:45478713', 'GeneID:2767716']\n",
      "    Key: locus_tag, Value: ['YP_pPCP02']\n",
      "    Key: note, Value: ['similar to corresponding CDS form previously sequenced pPCP plasmid of Yersinia pestis KIM (AF053945) and CO92 (AL109969), also many ATP-binding protein entries for insertion sequence IS100 of Yersinia pestis. Contains Chaperonin clpA/B (Interpro|IPR001270). Contains ATP/GTP-binding site motif A (P-loop) (Interpro|IPR001687, Molecular Function: ATP binding (GO:0005524)). Contains Bacterial chromosomal replication initiator protein, DnaA (Interpro|IPR001957, Molecular Function: DNA binding (GO:0003677), Molecular Function: DNA replication origin binding (GO:0003688), Molecular Function: ATP binding (GO:0005524), Biological Process: DNA replication initiation (GO:0006270), Biological Process: regulation of DNA replication (GO:0006275)). Contains AAA ATPase (Interpro|IPR003593, Molecular Function: nucleotide binding (GO:0000166))']\n",
      "    Key: product, Value: ['transposase/IS protein']\n",
      "    Key: protein_id, Value: ['NP_995568.1']\n",
      "    Key: transl_table, Value: ['11']\n",
      "    Key: translation, Value: ['MMMELQHQRLMALAGQLQLESLISAAPALSQQAVDQEWSYMDFLEHLLHEEKLARHQRKQAMYTRMAAFPAVKTFEEYDFTFATGAPQKQLQSLRSLSFIERNENIVLLGPSGVGKTHLAIAMGYEAVRAGIKVRFTTAADLLLQLSTAQRQGRYKTTLQRGVMAPRLLIIDEIGYLPFSQEEAKLFFQVIAKRYEKSAMILTSNLPFGQWDQTFAGDAALTSAMLDRILHHSHVVQIKGESYRLRQKRKAGVIAEANPE']\n",
      "\n",
      "\n",
      "\u001b[1mLength: 195\u001b[0m\n",
      "type: CDS\n",
      "location: [2924:3119](+)\n",
      "qualifiers:\n",
      "    Key: codon_start, Value: ['1']\n",
      "    Key: db_xref, Value: ['GI:45478714', 'GeneID:2767717']\n",
      "    Key: gene, Value: ['rop']\n",
      "    Key: gene_synonym, Value: ['rom']\n",
      "    Key: locus_tag, Value: ['YP_pPCP03']\n",
      "    Key: note, Value: ['Best Blastp hit =gi|16082682|ref|NP_395229.1| (NC_003132) putative replication regulatory protein [Yersinia pestis], gi|5763813|emb|CAB531 66.1| (AL109969) putative replication regulatory protein [Yersinia pestis]; similar to gb|AAK91579.1| (AY048853), RNAI modulator protein Rom [Salmonella choleraesuis], Contains Regulatory protein Rop (Interpro|IPR000769)']\n",
      "    Key: product, Value: ['putative replication regulatory protein']\n",
      "    Key: protein_id, Value: ['NP_995569.1']\n",
      "    Key: transl_table, Value: ['11']\n",
      "    Key: translation, Value: ['MNKQQQTALNMARFIRSQSLILLEKLDALDADEQAAMCERLHELAEELQNSIQARFEAESETGT']\n",
      "\n",
      "\n",
      "\u001b[1mLength: 372\u001b[0m\n",
      "type: CDS\n",
      "location: [3485:3857](+)\n",
      "qualifiers:\n",
      "    Key: codon_start, Value: ['1']\n",
      "    Key: db_xref, Value: ['GI:45478715', 'GeneID:2767720']\n",
      "    Key: locus_tag, Value: ['YP_pPCP04']\n",
      "    Key: note, Value: ['Best Blastp hit = gi|321919|pir||JQ1541 hypothetical 16.9K protein - Salmonella typhi murium plasmid NTP16.']\n",
      "    Key: product, Value: ['hypothetical protein']\n",
      "    Key: protein_id, Value: ['NP_995570.1']\n",
      "    Key: transl_table, Value: ['11']\n",
      "    Key: translation, Value: ['MSKKRRPQKRPRRRRFFHRLRPPDEHHKNRRSSQRWRNPTGLKDTRRFPPEAPSCALLFRPCRLPDTSPPFSLREAWRFLIAHAVGISVRCRSFAPSWAVCTNPPFSPTTAPYPVTIVLSPTR']\n",
      "\n",
      "\n",
      "\u001b[1mLength: 438\u001b[0m\n",
      "type: CDS\n",
      "location: [4342:4780](+)\n",
      "qualifiers:\n",
      "    Key: codon_start, Value: ['1']\n",
      "    Key: db_xref, Value: ['GI:45478716', 'GeneID:2767712']\n",
      "    Key: gene, Value: ['pim']\n",
      "    Key: locus_tag, Value: ['YP_pPCP05']\n",
      "    Key: note, Value: ['similar to many previously sequenced pesticin immunity protein entries of Yersinia pestis plasmid pPCP, e.g. gi| 16082683|,ref|NP_395230.1| (NC_003132) , gi|1200166|emb|CAA90861.1| (Z54145 ) , gi|1488655| emb|CAA63439.1| (X92856) , gi|2996219|gb|AAC62543.1| (AF053945) , and gi|5763814|emb|CAB531 67.1| (AL109969)']\n",
      "    Key: product, Value: ['pesticin immunity protein']\n",
      "    Key: protein_id, Value: ['NP_995571.1']\n",
      "    Key: transl_table, Value: ['11']\n",
      "    Key: translation, Value: ['MGGGMISKLFCLALIFLSSSGLAEKNTYTAKDILQNLELNTFGNSLSHGIYGKQTTFKQTEFTNIKSNTKKHIALINKDNSWMISLKILGIKRDEYTVCFEDFSLIRPPTYVAIHPLLIKKVKSGNFIVVKEIKKSIPGCTVYYH']\n",
      "\n",
      "\n",
      "\u001b[1mLength: 1074\u001b[0m\n",
      "type: CDS\n",
      "location: [4814:5888](-)\n",
      "qualifiers:\n",
      "    Key: codon_start, Value: ['1']\n",
      "    Key: db_xref, Value: ['GI:45478717', 'GeneID:2767721']\n",
      "    Key: gene, Value: ['pst']\n",
      "    Key: locus_tag, Value: ['YP_pPCP06']\n",
      "    Key: note, Value: ['Best Blastp hit =|16082684|ref|NP_395231.1| (NC_003132) pesticin [Yersinia pestis], gi|984824|gb|AAA75369.1| (U31974) pesticin [Yersinia pestis], gi|1488654|emb|CAA63438.1| (X92856) pesticin [Yersinia pestis], gi|2996220|gb|AAC62544.1| (AF053945) pesticin [Yersinia pestis], gi|5763815|emb|CAB53168.1| (AL1099 69) pesticin [Yersinia pestis]']\n",
      "    Key: product, Value: ['pesticin']\n",
      "    Key: protein_id, Value: ['NP_995572.1']\n",
      "    Key: transl_table, Value: ['11']\n",
      "    Key: translation, Value: ['MSDTMVVNGSGGVPAFLFSGSTLSSYRPNFEANSITIALPHYVDLPGRSNFKLMYIMGFPIDTEMEKDSEYSNKIRQESKISKTEGTVSYEQKITVETGQEKDGVKVYRVMVLEGTIAESIEHLDKKENEDILNNNRNRIVLADNTVINFDNISQLKEFLRRSVNIVDHDIFSSNGFEGFNPTSHFPSNPSSDYFNSTGVTFGSGVDLGQRSKQDLLNDGVPQYIADRLDGYYMLRGKEAYDKVRTAPLTLSDNEAHLLSNIYIDKFSHKIEGLFNDANIGLRFSDLPLRTRTALVSIGYQKGFKLSRTAPTVWNKVIAKDWNGLVNAFNNIVDGMSDRRKREGALVQKDIDSGLLK']\n",
      "\n",
      "\n",
      "\u001b[1mLength: 417\u001b[0m\n",
      "type: CDS\n",
      "location: [6004:6421](+)\n",
      "qualifiers:\n",
      "    Key: codon_start, Value: ['1']\n",
      "    Key: db_xref, Value: ['GI:45478718', 'GeneID:2767719']\n",
      "    Key: locus_tag, Value: ['YP_pPCP07']\n",
      "    Key: note, Value: ['Best Blastp hit = gi|16082685|ref|NP_395232.1| (NC_003132) hypothetical protein [Yersinia pestis], gi|5763816|emb|CAB53169.1| (AL109969) hypothetical protein [Yersinia pestis]']\n",
      "    Key: product, Value: ['hypothetical protein']\n",
      "    Key: protein_id, Value: ['NP_995573.1']\n",
      "    Key: transl_table, Value: ['11']\n",
      "    Key: translation, Value: ['MKFHFCDLNHSYKNQEGKIRSRKTAPGNIRKKQKGDNVSKTKSGRHRLSKTDKRLLAALVVAGYEERTARDLIQKHVYTLTQADLRHLVSEISNGVGQSQAYDAIYQARRIRLARKYLSGKKPEGVEPREGQEREDLP']\n",
      "\n",
      "\n",
      "\u001b[1mLength: 939\u001b[0m\n",
      "type: CDS\n",
      "location: [6663:7602](+)\n",
      "qualifiers:\n",
      "    Key: EC_number, Value: ['3.4.23.48']\n",
      "    Key: codon_start, Value: ['1']\n",
      "    Key: db_xref, Value: ['GI:45478719', 'GeneID:2767715']\n",
      "    Key: gene, Value: ['pla']\n",
      "    Key: locus_tag, Value: ['YP_pPCP08']\n",
      "    Key: note, Value: ['outer membrane protease; involved in virulence in many organisms; OmpT; IcsP; SopA; Pla; PgtE; omptin; in Escherichia coli OmpT can degrade antimicrobial peptides; in Yersinia Pla activates plasminogen during infection; in Shigella flexneria SopA cleaves the autotransporter IcsA']\n",
      "    Key: product, Value: ['outer membrane protease']\n",
      "    Key: protein_id, Value: ['NP_995574.1']\n",
      "    Key: transl_table, Value: ['11']\n",
      "    Key: translation, Value: ['MKKSSIVATIITILSGSANAASSQLIPNISPDSFTVAASTGMLSGKSHEMLYDAETGRKISQLDWKIKNVAILKGDISWDPYSFLTLNARGWTSLASGSGNMDDYDWMNENQSEWTDHSSHPATNVNHANEYDLNVKGWLLQDENYKAGITAGYQETRFSWTATGGSYSYNNGAYTGNFPKGVRVIGYNQRFSMPYIGLAGQYRINDFELNALFKFSDWVRAHDNDEHYMRDLTFREKTSGSRYYGTVINAGYYVTPNAKVFAEFTYSKYDEGKGGTQIIDKNSGDSVSIGGDAAGISNKNYTVTAGLQYRF']\n",
      "\n",
      "\n",
      "\u001b[1mLength: 300\u001b[0m\n",
      "type: CDS\n",
      "location: [7788:8088](-)\n",
      "qualifiers:\n",
      "    Key: codon_start, Value: ['1']\n",
      "    Key: db_xref, Value: ['GI:45478720', 'GeneID:2767713']\n",
      "    Key: locus_tag, Value: ['YP_pPCP09']\n",
      "    Key: note, Value: ['Best Blastp hit = gi|16082687|ref|NP_395234.1| (NC_003132) putative transcriptional regulator [Yersinia pestis], gi|5763818|emb|CAB53171.1| (AL109969) putative transcriptional regulator [Yersinia pestis].']\n",
      "    Key: product, Value: ['putative transcriptional regulator']\n",
      "    Key: protein_id, Value: ['NP_995575.1']\n",
      "    Key: transl_table, Value: ['11']\n",
      "    Key: translation, Value: ['MRTLDEVIASRSPESQTRIKEMADEMILEVGLQMMREELQLSQKQVAEAMGISQPAVTKLEQRGNDLKLATLKRYVEAMGGKLSLDVELPTGRRVAFHV']\n",
      "\n",
      "\n",
      "\u001b[1mLength: 273\u001b[0m\n",
      "type: CDS\n",
      "location: [8087:8360](-)\n",
      "qualifiers:\n",
      "    Key: codon_start, Value: ['1']\n",
      "    Key: db_xref, Value: ['GI:45478721', 'GeneID:2767714']\n",
      "    Key: locus_tag, Value: ['YP_pPCP10']\n",
      "    Key: note, Value: ['Best Blastp hit = gi|16082688|ref|NP_395235.1| (NC_003132) hypothetical protein [ Yersinia pestis], gi|5763819|emb|CAB53172.1| (AL109969) hypothetical protein [Yersinia pestis]']\n",
      "    Key: product, Value: ['hypothetical protein']\n",
      "    Key: protein_id, Value: ['NP_995576.1']\n",
      "    Key: transl_table, Value: ['11']\n",
      "    Key: translation, Value: ['MADLKKLQVYGPELPRPYADTVKGSRYKNMKELRVQFSGRPIRAFYAFDPIRRAIVLCAGDKSNDKRFYEKLVRIAEDEFTAHLNTLESK']\n",
      "\n",
      "\n"
     ]
    }
   ],
   "source": [
    "max_len = 10 ** 6\n",
    "shortest_cds = 0\n",
    "\n",
    "for feature in yersinia.features:\n",
    "    if feature.type == 'CDS':\n",
    "        print(tc.colored(f'Length: {len(feature)}', attrs=['bold']))\n",
    "        print(feature)        \n",
    "        print()\n",
    "        \n",
    "        if len(feature) < max_len:\n",
    "            max_len = len(feature)\n",
    "            shortest_cds = feature"
   ]
  },
  {
   "cell_type": "markdown",
   "metadata": {},
   "source": [
    "## Task 7. Одберете еден CDS и најдете ги сите старт и стоп кодони во неговата РНА."
   ]
  },
  {
   "cell_type": "markdown",
   "metadata": {},
   "source": [
    "Choosing the shortest CDS to work with.\n",
    "\n",
    "### Yersinia is a bacteria!"
   ]
  },
  {
   "cell_type": "code",
   "execution_count": 8,
   "metadata": {},
   "outputs": [],
   "source": [
    "from Bio import SeqIO\n",
    "\n",
    "yersinia_file = os.path.join(defs.DATA_DIR, 'NC_005816.gb')\n",
    "yersinia = list(SeqIO.parse(yersinia_file, 'genbank'))[0]"
   ]
  },
  {
   "cell_type": "code",
   "execution_count": 69,
   "metadata": {},
   "outputs": [
    {
     "name": "stdout",
     "output_type": "stream",
     "text": [
      "GTGAACAAACAACAACAAACTGCGCTGAATATGGCGCGATTTATCAGAAGCCAGAGCCTGATACTGCTTGAAAAACTGGATGCTCTGGATGCCGACGAGCAGGCGGCCATGTGTGAACGACTGCACGAACTCGCGGAAGAACTCCAGAACAGCATCCAGGCTCGCTTTGAAGCCGAAAGTGAAACAGGAACATAA\n",
      "length of yersinia sequence: 195\n",
      "is it a multiple of 3: True\n"
     ]
    }
   ],
   "source": [
    "# putative replication regulatory protein\n",
    "yersinia_dna_coding_seq = shortest_cds.extract(yersinia.seq)\n",
    "print(yersinia_dna_coding_seq)\n",
    "print('length of yersinia sequence:', len(yersinia_dna_coding_seq))\n",
    "print('is it a multiple of 3:', len(yersinia_dna_coding_seq) % 3 == 0)"
   ]
  },
  {
   "cell_type": "markdown",
   "metadata": {},
   "source": [
    "source: https://www.ncbi.nlm.nih.gov/Taxonomy/Utils/wprintgc.cgi"
   ]
  },
  {
   "cell_type": "code",
   "execution_count": 58,
   "metadata": {},
   "outputs": [
    {
     "name": "stdout",
     "output_type": "stream",
     "text": [
      "[0, 1, 2, 3, 4, 5, 6, 7, 8, 9, 10]\n",
      "\n",
      "[0, 1, 2]\n",
      "[1, 2, 3]\n",
      "[2, 3, 4]\n",
      "[3, 4, 5]\n",
      "[4, 5, 6]\n",
      "[5, 6, 7]\n",
      "[6, 7, 8]\n",
      "[7, 8, 9]\n",
      "[8, 9, 10]\n"
     ]
    }
   ],
   "source": [
    "lst = list(range(11))\n",
    "print(lst)\n",
    "print()\n",
    "for i in range(len(lst) - 2):\n",
    "    print(lst[i:i+3])"
   ]
  },
  {
   "cell_type": "code",
   "execution_count": 74,
   "metadata": {},
   "outputs": [
    {
     "data": {
      "text/plain": [
       "Seq('GUGAACAAACAACAACAAACUGCGCUGAAUAUGGCGCGAUUUAUCAGAAGCCAG...UAA', IUPACAmbiguousRNA())"
      ]
     },
     "execution_count": 74,
     "metadata": {},
     "output_type": "execute_result"
    }
   ],
   "source": [
    "yersinia_cds_mRNA = yersinia_dna_coding_seq.transcribe(); yersinia_cds_mRNA"
   ]
  },
  {
   "cell_type": "markdown",
   "metadata": {},
   "source": [
    "Below is probably the needed solution to the exercise. It looks for the typical start and stop codons in the messenger RNA, which was obtained by transcribing the yersinia DNA coding parent strand.\n",
    " <br> <br>\n",
    "Following from the Wikipedia source, truly, the start codons are AUG, whilst the stop codons are UAA, UAG, UGA. <br>\n",
    "https://en.wikipedia.org/wiki/Bacterial_translation"
   ]
  },
  {
   "cell_type": "code",
   "execution_count": 82,
   "metadata": {},
   "outputs": [
    {
     "name": "stdout",
     "output_type": "stream",
     "text": [
      "start_codons: 4 \r\n",
      " [(30, 'AUG'), (79, 'AUG'), (88, 'AUG'), (108, 'AUG')]\n",
      "\n",
      "stop_codons 8 \r\n",
      " [(1, 'UGA'), (25, 'UGA'), (58, 'UGA'), (68, 'UGA'), (113, 'UGA'), (167, 'UGA'), (179, 'UGA'), (192, 'UAA')]\n"
     ]
    }
   ],
   "source": [
    "start_codons = list()\n",
    "stop_codons = list()\n",
    "\n",
    "for i in range(len(yersinia_cds_mRNA) - 2):\n",
    "    codon = (i, yersinia_cds_mRNA[i:i+3])\n",
    "    if codon[1] in ['AUG']:\n",
    "        start_codons.append(codon)\n",
    "    elif codon[1] in ['UAA', 'UAG', 'UGA']:\n",
    "        stop_codons.append(codon)\n",
    "\n",
    "print('start_codons:', len(start_codons), os.linesep, \n",
    "      list(map(lambda codon: (codon[0], str(codon[1])), start_codons)))\n",
    "\n",
    "print()\n",
    "\n",
    "print('stop_codons', len(stop_codons), os.linesep, \n",
    "      list(map(lambda codon: (codon[0], str(codon[1])), stop_codons)))"
   ]
  },
  {
   "cell_type": "markdown",
   "metadata": {},
   "source": [
    "So, using the messenger RNA obtained by transcribing the DNA coding parent strand is the more traditional approach.\n",
    "<br> <br>\n",
    "From the following link (https://en.wikipedia.org/wiki/DNA_codon_table) <br>\n",
    "It mentions that most genes are now discovered at the DNA level. <br>\n",
    "Although the stop codons provided by the `Bacterial` DNA codon table below are truly the messenger RNA stop codons only reverse transcribed, seemingly there are a far more start codons. Perhaps findings based in bio-chemistry explain for the varying start codons when looking at them from the level of DNA."
   ]
  },
  {
   "attachments": {
    "image.png": {
     "image/png": "[encoded data removed]"
    }
   },
   "cell_type": "markdown",
   "metadata": {},
   "source": [
    "![image.png](attachment:image.png)"
   ]
  },
  {
   "cell_type": "code",
   "execution_count": 16,
   "metadata": {
    "scrolled": false
   },
   "outputs": [
    {
     "name": "stdout",
     "output_type": "stream",
     "text": [
      "Table 11 Bacterial, Archaeal, Plant Plastid\n",
      "\n",
      "  |  T      |  C      |  A      |  G      |\n",
      "--+---------+---------+---------+---------+--\n",
      "T | TTT F   | TCT S   | TAT Y   | TGT C   | T\n",
      "T | TTC F   | TCC S   | TAC Y   | TGC C   | C\n",
      "T | TTA L   | TCA S   | TAA Stop| TGA Stop| A\n",
      "T | TTG L(s)| TCG S   | TAG Stop| TGG W   | G\n",
      "--+---------+---------+---------+---------+--\n",
      "C | CTT L   | CCT P   | CAT H   | CGT R   | T\n",
      "C | CTC L   | CCC P   | CAC H   | CGC R   | C\n",
      "C | CTA L   | CCA P   | CAA Q   | CGA R   | A\n",
      "C | CTG L(s)| CCG P   | CAG Q   | CGG R   | G\n",
      "--+---------+---------+---------+---------+--\n",
      "A | ATT I(s)| ACT T   | AAT N   | AGT S   | T\n",
      "A | ATC I(s)| ACC T   | AAC N   | AGC S   | C\n",
      "A | ATA I(s)| ACA T   | AAA K   | AGA R   | A\n",
      "A | ATG M(s)| ACG T   | AAG K   | AGG R   | G\n",
      "--+---------+---------+---------+---------+--\n",
      "G | GTT V   | GCT A   | GAT D   | GGT G   | T\n",
      "G | GTC V   | GCC A   | GAC D   | GGC G   | C\n",
      "G | GTA V   | GCA A   | GAA E   | GGA G   | A\n",
      "G | GTG V(s)| GCG A   | GAG E   | GGG G   | G\n",
      "--+---------+---------+---------+---------+--\n",
      "Bacterial start codons: ['TTG', 'CTG', 'ATT', 'ATC', 'ATA', 'ATG', 'GTG']\n",
      "Bacterial stop codons: ['TAA', 'TAG', 'TGA']\n"
     ]
    }
   ],
   "source": [
    "from Bio.Data import CodonTable\n",
    "\n",
    "bacterial_table = CodonTable.unambiguous_dna_by_name['Bacterial']\n",
    "print(bacterial_table)\n",
    "\n",
    "print('Bacterial start codons:', bacterial_table.start_codons)\n",
    "print('Bacterial stop codons:', bacterial_table.stop_codons)"
   ]
  },
  {
   "cell_type": "markdown",
   "metadata": {},
   "source": [
    "These are the specific start and stop codons at the DNA level"
   ]
  },
  {
   "cell_type": "code",
   "execution_count": 17,
   "metadata": {},
   "outputs": [
    {
     "name": "stdout",
     "output_type": "stream",
     "text": [
      "start_codons: 23 \r\n",
      " [(0, 'GTG'), (19, 'CTG'), (24, 'CTG'), (28, 'ATA'), (30, 'ATG'), (38, 'ATT'), (42, 'ATC'), (57, 'CTG'), (60, 'ATA'), (63, 'CTG'), (67, 'TTG'), (75, 'CTG'), (79, 'ATG'), (84, 'CTG'), (88, 'ATG'), (108, 'ATG'), (110, 'GTG'), (112, 'GTG'), (120, 'CTG'), (153, 'ATC'), (166, 'TTG'), (178, 'GTG'), (191, 'ATA')]\n",
      "\n",
      "stop_codons 8 \r\n",
      " [(1, 'TGA'), (25, 'TGA'), (58, 'TGA'), (68, 'TGA'), (113, 'TGA'), (167, 'TGA'), (179, 'TGA'), (192, 'TAA')]\n"
     ]
    }
   ],
   "source": [
    "start_codons = list()\n",
    "stop_codons = list()\n",
    "\n",
    "for i in range(len(yersinia_dna_coding_seq) - 2):\n",
    "    codon = (i, yersinia_dna_coding_seq[i:i+3])\n",
    "    if codon[1] in bacterial_table.start_codons:\n",
    "        start_codons.append(codon)\n",
    "    elif codon[1] in bacterial_table.stop_codons:\n",
    "        stop_codons.append(codon)\n",
    "\n",
    "print('start_codons:', len(start_codons), os.linesep, \n",
    "      list(map(lambda codon: (codon[0], str(codon[1])), start_codons)))\n",
    "\n",
    "print()\n",
    "\n",
    "print('stop_codons', len(stop_codons), os.linesep, \n",
    "      list(map(lambda codon: (codon[0], str(codon[1])), stop_codons)))"
   ]
  },
  {
   "cell_type": "markdown",
   "metadata": {},
   "source": [
    "## Task 8. Направете транслација за да ги добиете сите можни протеински секвенции."
   ]
  },
  {
   "cell_type": "code",
   "execution_count": 99,
   "metadata": {},
   "outputs": [
    {
     "data": {
      "text/plain": [
       "SeqRecord(seq=Seq('CNERCNSDPHPTPEIRSRG*SALLIQESLWSLLRQLWKLKSCTSRE*VAGRLPE...RPL', HasStopCodon(ExtendedIUPACProtein(), '*')), id='<unknown id>', name='<unknown name>', description='<unknown description>', dbxrefs=[])"
      ]
     },
     "execution_count": 99,
     "metadata": {},
     "output_type": "execute_result"
    }
   ],
   "source": [
    "amino_acids"
   ]
  },
  {
   "cell_type": "code",
   "execution_count": 103,
   "metadata": {},
   "outputs": [
    {
     "name": "stdout",
     "output_type": "stream",
     "text": [
      "total amino acids: 3203\n",
      "total proteins: 126\n"
     ]
    },
    {
     "name": "stderr",
     "output_type": "stream",
     "text": [
      "D:\\code\\py\\corona-virus-analysis\\.env\\lib\\site-packages\\Bio\\Seq.py:182: BiopythonWarning: Biopython Seq objects now use string comparison. Older versions of Biopython used object comparison. During this transition, please use hash(id(my_seq)) or my_dict[id(my_seq)] if you want the old behaviour, or use hash(str(my_seq)) or my_dict[str(my_seq)] for the new string hashing behaviour.\n",
      "  BiopythonWarning,\n"
     ]
    },
    {
     "data": {
      "text/html": [
       "<div>\n",
       "<style scoped>\n",
       "    .dataframe tbody tr th:only-of-type {\n",
       "        vertical-align: middle;\n",
       "    }\n",
       "\n",
       "    .dataframe tbody tr th {\n",
       "        vertical-align: top;\n",
       "    }\n",
       "\n",
       "    .dataframe thead th {\n",
       "        text-align: right;\n",
       "    }\n",
       "</style>\n",
       "<table border=\"1\" class=\"dataframe\">\n",
       "  <thead>\n",
       "    <tr style=\"text-align: right;\">\n",
       "      <th></th>\n",
       "      <th>sequence</th>\n",
       "      <th>length</th>\n",
       "      <th>sequence_str</th>\n",
       "    </tr>\n",
       "  </thead>\n",
       "  <tbody>\n",
       "    <tr>\n",
       "      <th>121</th>\n",
       "      <td>(L, I, R, T, F, L, N, F, R, A, L, P, V, F, H, ...</td>\n",
       "      <td>59</td>\n",
       "      <td>LIRTFLNFRALPVFHFVISLKLPKVDNTRYFFAHIKPLLQAEGLFL...</td>\n",
       "    </tr>\n",
       "    <tr>\n",
       "      <th>122</th>\n",
       "      <td>(G, R, M, I, R, T, E, S, M, V, N, M, S, S, P, ...</td>\n",
       "      <td>36</td>\n",
       "      <td>GRMIRTESMVNMSSPDFCISEYKTLFNGMQNQKIKM</td>\n",
       "    </tr>\n",
       "    <tr>\n",
       "      <th>123</th>\n",
       "      <td>(H, R, N, A, R)</td>\n",
       "      <td>5</td>\n",
       "      <td>HRNAR</td>\n",
       "    </tr>\n",
       "    <tr>\n",
       "      <th>124</th>\n",
       "      <td>(Y)</td>\n",
       "      <td>1</td>\n",
       "      <td>Y</td>\n",
       "    </tr>\n",
       "    <tr>\n",
       "      <th>125</th>\n",
       "      <td>(R, M, R, E, C, V, P, R, P, L)</td>\n",
       "      <td>10</td>\n",
       "      <td>RMRECVPRPL</td>\n",
       "    </tr>\n",
       "  </tbody>\n",
       "</table>\n",
       "</div>"
      ],
      "text/plain": [
       "                                              sequence  length  \\\n",
       "121  (L, I, R, T, F, L, N, F, R, A, L, P, V, F, H, ...      59   \n",
       "122  (G, R, M, I, R, T, E, S, M, V, N, M, S, S, P, ...      36   \n",
       "123                                    (H, R, N, A, R)       5   \n",
       "124                                                (Y)       1   \n",
       "125                     (R, M, R, E, C, V, P, R, P, L)      10   \n",
       "\n",
       "                                          sequence_str  \n",
       "121  LIRTFLNFRALPVFHFVISLKLPKVDNTRYFFAHIKPLLQAEGLFL...  \n",
       "122               GRMIRTESMVNMSSPDFCISEYKTLFNGMQNQKIKM  \n",
       "123                                              HRNAR  \n",
       "124                                                  Y  \n",
       "125                                         RMRECVPRPL  "
      ]
     },
     "execution_count": 103,
     "metadata": {},
     "output_type": "execute_result"
    }
   ],
   "source": [
    "# Yersinia is a bacteria\n",
    "# yersinia_dna_coding_seq = shortest_cds.extract(yersinia.seq)\n",
    "\n",
    "amino_acids = yersinia.translate(table='Bacterial', cds=False)\n",
    "print('total amino acids:', len(amino_acids))\n",
    "\n",
    "proteins = amino_acids.seq.split('*')\n",
    "df = pd.DataFrame(data=proteins)\n",
    "\n",
    "df.describe()\n",
    "print('total proteins:', len(df))\n",
    "\n",
    "df['length'] = df[0].apply(lambda x: len(x))\n",
    "df['sequence_str'] = df[0].apply(lambda x: str(x))\n",
    "df.rename(columns={0: \"sequence\"}, inplace=True)\n",
    "df.tail()"
   ]
  },
  {
   "cell_type": "code",
   "execution_count": 113,
   "metadata": {},
   "outputs": [
    {
     "name": "stdout",
     "output_type": "stream",
     "text": [
      "total functional proteins: 17\n"
     ]
    },
    {
     "data": {
      "text/html": [
       "<div>\n",
       "<style scoped>\n",
       "    .dataframe tbody tr th:only-of-type {\n",
       "        vertical-align: middle;\n",
       "    }\n",
       "\n",
       "    .dataframe tbody tr th {\n",
       "        vertical-align: top;\n",
       "    }\n",
       "\n",
       "    .dataframe thead th {\n",
       "        text-align: right;\n",
       "    }\n",
       "</style>\n",
       "<table border=\"1\" class=\"dataframe\">\n",
       "  <thead>\n",
       "    <tr style=\"text-align: right;\">\n",
       "      <th></th>\n",
       "      <th>sequence</th>\n",
       "      <th>length</th>\n",
       "      <th>sequence_str</th>\n",
       "    </tr>\n",
       "  </thead>\n",
       "  <tbody>\n",
       "    <tr>\n",
       "      <th>2</th>\n",
       "      <td>(V, A, G, R, L, P, E, N, W, G, S, P, A, I, P, ...</td>\n",
       "      <td>61</td>\n",
       "      <td>VAGRLPENWGSPAIPLNVICRQNLSRQNIRRDLLLLHSWMNTGIIF...</td>\n",
       "    </tr>\n",
       "    <tr>\n",
       "      <th>4</th>\n",
       "      <td>(P, F, S, G, H, S, F, V, L, S, R, F, L, R, S, ...</td>\n",
       "      <td>92</td>\n",
       "      <td>PFSGHSFVLSRFLRSRSLPFGSKLNPDDRCRLTGALCVMVAHRFTC...</td>\n",
       "    </tr>\n",
       "    <tr>\n",
       "      <th>5</th>\n",
       "      <td>(K, L, W, F, C, N, V, T, H, I, R, P, V, S, T, ...</td>\n",
       "      <td>60</td>\n",
       "      <td>KLWFCNVTHIRPVSTGSILRCGSSARRWASLPDCVAPSGHRLKVRW...</td>\n",
       "    </tr>\n",
       "    <tr>\n",
       "      <th>7</th>\n",
       "      <td>(L, A, C, A, R, W, G, S, L, S, M, L, K, Q, P, ...</td>\n",
       "      <td>68</td>\n",
       "      <td>LACARWGSLSMLKQPTATVCAGCTMSLTNESMKQSRPVPAIAGSKS...</td>\n",
       "    </tr>\n",
       "    <tr>\n",
       "      <th>8</th>\n",
       "      <td>(T, S, T, N, T, P, C, I, I, H, S, P, S, T, T, ...</td>\n",
       "      <td>70</td>\n",
       "      <td>TSTNTPCIIHSPSTTHSAEEWRDDGTATSTTDGARRAVATGKPYKR...</td>\n",
       "    </tr>\n",
       "    <tr>\n",
       "      <th>32</th>\n",
       "      <td>(R, I, D, G, T, A, S, R, S, T, K, N, R, C, C, ...</td>\n",
       "      <td>62</td>\n",
       "      <td>RIDGTASRSTKNRCCTQSVVLQTALRQIEKVPYFQECPETMCQTSF...</td>\n",
       "    </tr>\n",
       "    <tr>\n",
       "      <th>40</th>\n",
       "      <td>(Y, C, L, K, N, W, M, L, W, M, P, T, S, R, R, ...</td>\n",
       "      <td>72</td>\n",
       "      <td>YCLKNWMLWMPTSRRPCVNDCTNSRKNSRTASRLALKPKVKQEHNE...</td>\n",
       "    </tr>\n",
       "    <tr>\n",
       "      <th>44</th>\n",
       "      <td>(K, V, H, H, V, R, C, E, M, P, H, R, C, V, R, ...</td>\n",
       "      <td>64</td>\n",
       "      <td>KVHHVRCEMPHRCVRRTCRCRCSSASSLTDSLRSVVRLRRAVSAHS...</td>\n",
       "    </tr>\n",
       "    <tr>\n",
       "      <th>45</th>\n",
       "      <td>(A, K, N, E, D, P, R, K, G, R, A, G, G, A, F, ...</td>\n",
       "      <td>79</td>\n",
       "      <td>AKNEDPRKGRAGGAFSIGSAPLTSITKIDAQVRGGETRQDLKIPGV...</td>\n",
       "    </tr>\n",
       "    <tr>\n",
       "      <th>56</th>\n",
       "      <td>(E, Q, D, G, R, G, N, D, L, K, V, I, L, L, G, ...</td>\n",
       "      <td>67</td>\n",
       "      <td>EQDGRGNDLKVILLGSHIFIIKWPCRKKHIYSKRHLAKPRIKYLWQ...</td>\n",
       "    </tr>\n",
       "    <tr>\n",
       "      <th>61</th>\n",
       "      <td>(R, F, L, S, N, K, T, A, N, I, C, S, H, T, S, ...</td>\n",
       "      <td>52</td>\n",
       "      <td>RFLSNKTANICSHTSSTYKKSKIWKLYSSERNKEIYPWLHCILSLI...</td>\n",
       "    </tr>\n",
       "    <tr>\n",
       "      <th>62</th>\n",
       "      <td>(G, A, H, G, Y, F, N, N, P, L, S, I, S, F, C, ...</td>\n",
       "      <td>61</td>\n",
       "      <td>GAHGYFNNPLSISFCTRAPSRLRLSDIPSTILLKAFTRPFQSFAIT...</td>\n",
       "    </tr>\n",
       "    <tr>\n",
       "      <th>88</th>\n",
       "      <td>(I, P, E, R, K, K, T, G, R, G, G, T, P, G, R, ...</td>\n",
       "      <td>61</td>\n",
       "      <td>IPERKKTGRGGTPGRAGTGRFTITPVISTIGSTLVVGSEKFAQKII...</td>\n",
       "    </tr>\n",
       "    <tr>\n",
       "      <th>92</th>\n",
       "      <td>(G, C, L, M, K, K, S, S, I, V, A, T, I, I, T, ...</td>\n",
       "      <td>315</td>\n",
       "      <td>GCLMKKSSIVATIITILSGSANAASSQLIPNISPDSFTVAASTGML...</td>\n",
       "    </tr>\n",
       "    <tr>\n",
       "      <th>94</th>\n",
       "      <td>(P, T, F, R, C, V, K, N, H, L, F, H, H, N, D, ...</td>\n",
       "      <td>54</td>\n",
       "      <td>PTFRCVKNHLFHHNDGALILLFCLDILHVFQGMEKVKLDMERYSPS...</td>\n",
       "    </tr>\n",
       "    <tr>\n",
       "      <th>108</th>\n",
       "      <td>(R, Q, F, V, R, T, T, E, M, R, S, A, R, S, R, ...</td>\n",
       "      <td>54</td>\n",
       "      <td>RQFVRTTEMRSARSRQQTGKNSNKPPEKPPRSRLINFNLMHIYAAR...</td>\n",
       "    </tr>\n",
       "    <tr>\n",
       "      <th>121</th>\n",
       "      <td>(L, I, R, T, F, L, N, F, R, A, L, P, V, F, H, ...</td>\n",
       "      <td>59</td>\n",
       "      <td>LIRTFLNFRALPVFHFVISLKLPKVDNTRYFFAHIKPLLQAEGLFL...</td>\n",
       "    </tr>\n",
       "  </tbody>\n",
       "</table>\n",
       "</div>"
      ],
      "text/plain": [
       "                                              sequence  length  \\\n",
       "2    (V, A, G, R, L, P, E, N, W, G, S, P, A, I, P, ...      61   \n",
       "4    (P, F, S, G, H, S, F, V, L, S, R, F, L, R, S, ...      92   \n",
       "5    (K, L, W, F, C, N, V, T, H, I, R, P, V, S, T, ...      60   \n",
       "7    (L, A, C, A, R, W, G, S, L, S, M, L, K, Q, P, ...      68   \n",
       "8    (T, S, T, N, T, P, C, I, I, H, S, P, S, T, T, ...      70   \n",
       "32   (R, I, D, G, T, A, S, R, S, T, K, N, R, C, C, ...      62   \n",
       "40   (Y, C, L, K, N, W, M, L, W, M, P, T, S, R, R, ...      72   \n",
       "44   (K, V, H, H, V, R, C, E, M, P, H, R, C, V, R, ...      64   \n",
       "45   (A, K, N, E, D, P, R, K, G, R, A, G, G, A, F, ...      79   \n",
       "56   (E, Q, D, G, R, G, N, D, L, K, V, I, L, L, G, ...      67   \n",
       "61   (R, F, L, S, N, K, T, A, N, I, C, S, H, T, S, ...      52   \n",
       "62   (G, A, H, G, Y, F, N, N, P, L, S, I, S, F, C, ...      61   \n",
       "88   (I, P, E, R, K, K, T, G, R, G, G, T, P, G, R, ...      61   \n",
       "92   (G, C, L, M, K, K, S, S, I, V, A, T, I, I, T, ...     315   \n",
       "94   (P, T, F, R, C, V, K, N, H, L, F, H, H, N, D, ...      54   \n",
       "108  (R, Q, F, V, R, T, T, E, M, R, S, A, R, S, R, ...      54   \n",
       "121  (L, I, R, T, F, L, N, F, R, A, L, P, V, F, H, ...      59   \n",
       "\n",
       "                                          sequence_str  \n",
       "2    VAGRLPENWGSPAIPLNVICRQNLSRQNIRRDLLLLHSWMNTGIIF...  \n",
       "4    PFSGHSFVLSRFLRSRSLPFGSKLNPDDRCRLTGALCVMVAHRFTC...  \n",
       "5    KLWFCNVTHIRPVSTGSILRCGSSARRWASLPDCVAPSGHRLKVRW...  \n",
       "7    LACARWGSLSMLKQPTATVCAGCTMSLTNESMKQSRPVPAIAGSKS...  \n",
       "8    TSTNTPCIIHSPSTTHSAEEWRDDGTATSTTDGARRAVATGKPYKR...  \n",
       "32   RIDGTASRSTKNRCCTQSVVLQTALRQIEKVPYFQECPETMCQTSF...  \n",
       "40   YCLKNWMLWMPTSRRPCVNDCTNSRKNSRTASRLALKPKVKQEHNE...  \n",
       "44   KVHHVRCEMPHRCVRRTCRCRCSSASSLTDSLRSVVRLRRAVSAHS...  \n",
       "45   AKNEDPRKGRAGGAFSIGSAPLTSITKIDAQVRGGETRQDLKIPGV...  \n",
       "56   EQDGRGNDLKVILLGSHIFIIKWPCRKKHIYSKRHLAKPRIKYLWQ...  \n",
       "61   RFLSNKTANICSHTSSTYKKSKIWKLYSSERNKEIYPWLHCILSLI...  \n",
       "62   GAHGYFNNPLSISFCTRAPSRLRLSDIPSTILLKAFTRPFQSFAIT...  \n",
       "88   IPERKKTGRGGTPGRAGTGRFTITPVISTIGSTLVVGSEKFAQKII...  \n",
       "92   GCLMKKSSIVATIITILSGSANAASSQLIPNISPDSFTVAASTGML...  \n",
       "94   PTFRCVKNHLFHHNDGALILLFCLDILHVFQGMEKVKLDMERYSPS...  \n",
       "108  RQFVRTTEMRSARSRQQTGKNSNKPPEKPPRSRLINFNLMHIYAAR...  \n",
       "121  LIRTFLNFRALPVFHFVISLKLPKVDNTRYFFAHIKPLLQAEGLFL...  "
      ]
     },
     "execution_count": 113,
     "metadata": {},
     "output_type": "execute_result"
    }
   ],
   "source": [
    "functional_proteins = df.loc[df['length'] >= 50]\n",
    "print('total functional proteins:', len(functional_proteins))\n",
    "functional_proteins"
   ]
  },
  {
   "cell_type": "code",
   "execution_count": 143,
   "metadata": {
    "scrolled": false
   },
   "outputs": [
    {
     "name": "stdout",
     "output_type": "stream",
     "text": [
      "\u001b[1mLength: 1023\u001b[0m\n",
      "[86:1109](+)\n",
      "['NP_995567.1']\n",
      "MVTFETVMEIKILHKQGMSSRAIARELGISRNTVKRYLQAKSEPPKYTPRPAVASLLDEYRDYIRQRIADAHPYKIPATVIAREIRDQGYRGGMTILRAFIRSLSVPQEQEPAVRFETEPGRQMQVDWGTMRNGRSPLHVFVAVLGYSRMLYIEFTDNMRYDTLETCHRNAFRFFGGVPREVLYDNMKTVVLQRDAYQTGQHRFHPSLWQFGKEMGFSPRLCRPFRAQTKGKVERMVQYTRNSFYIPLMTRLRPMGITVDVETANRHGLRWLHDVANQRKHETIQARPCDRWLEEQQSMLALPPEKKEYDVHLDENLVNFDKHPLHHPLSIYDSFCRGVA\n",
      "\n",
      "MVTFETVMEIKILHKQGMSSRAIARELGISRNTVKRYLQAKSEPPKYTPRPAVASLLDEYRDYIRQRIADAHPYKIPATVIAREIRDQGYRGGMTILRAFIRSLSVPQEQEPAVRFETEPGRQMQVDWGTMRNGRSPLHVFVAVLGYSRMLYIEFTDNMRYDTLETCHRNAFRFFGGVPREVLYDNMKTVVLQRDAYQTGQHRFHPSLWQFGKEMGFSPRLCRPFRAQTKGKVERMVQYTRNSFYIPLMTRLRPMGITVDVETANRHGLRWLHDVANQRKHETIQARPCDRWLEEQQSMLALPPEKKEYDVHLDENLVNFDKHPLHHPLSIYDSFCRGVA\n",
      "\u001b[1m\u001b[32mTrue\u001b[0m\n",
      "\n",
      "\u001b[1mLength: 783\u001b[0m\n",
      "[1105:1888](+)\n",
      "['NP_995568.1']\n",
      "MMMELQHQRLMALAGQLQLESLISAAPALSQQAVDQEWSYMDFLEHLLHEEKLARHQRKQAMYTRMAAFPAVKTFEEYDFTFATGAPQKQLQSLRSLSFIERNENIVLLGPSGVGKTHLAIAMGYEAVRAGIKVRFTTAADLLLQLSTAQRQGRYKTTLQRGVMAPRLLIIDEIGYLPFSQEEAKLFFQVIAKRYEKSAMILTSNLPFGQWDQTFAGDAALTSAMLDRILHHSHVVQIKGESYRLRQKRKAGVIAEANPE\n",
      "\n",
      "MMMELQHQRLMALAGQLQLESLISAAPALSQQAVDQEWSYMDFLEHLLHEEKLARHQRKQAMYTRMAAFPAVKTFEEYDFTFATGAPQKQLQSLRSLSFIERNENIVLLGPSGVGKTHLAIAMGYEAVRAGIKVRFTTAADLLLQLSTAQRQGRYKTTLQRGVMAPRLLIIDEIGYLPFSQEEAKLFFQVIAKRYEKSAMILTSNLPFGQWDQTFAGDAALTSAMLDRILHHSHVVQIKGESYRLRQKRKAGVIAEANPE\n",
      "\u001b[1m\u001b[32mTrue\u001b[0m\n",
      "\n",
      "\u001b[1mLength: 195\u001b[0m\n",
      "[2924:3119](+)\n",
      "['NP_995569.1']\n",
      "MNKQQQTALNMARFIRSQSLILLEKLDALDADEQAAMCERLHELAEELQNSIQARFEAESETGT\n",
      "\n",
      "MNKQQQTALNMARFIRSQSLILLEKLDALDADEQAAMCERLHELAEELQNSIQARFEAESETGT\n",
      "\u001b[1m\u001b[32mTrue\u001b[0m\n",
      "\n",
      "\u001b[1mLength: 372\u001b[0m\n",
      "[3485:3857](+)\n",
      "['NP_995570.1']\n",
      "MSKKRRPQKRPRRRRFFHRLRPPDEHHKNRRSSQRWRNPTGLKDTRRFPPEAPSCALLFRPCRLPDTSPPFSLREAWRFLIAHAVGISVRCRSFAPSWAVCTNPPFSPTTAPYPVTIVLSPTR\n",
      "\n",
      "MSKKRRPQKRPRRRRFFHRLRPPDEHHKNRRSSQRWRNPTGLKDTRRFPPEAPSCALLFRPCRLPDTSPPFSLREAWRFLIAHAVGISVRCRSFAPSWAVCTNPPFSPTTAPYPVTIVLSPTR\n",
      "\u001b[1m\u001b[32mTrue\u001b[0m\n",
      "\n",
      "\u001b[1mLength: 438\u001b[0m\n",
      "[4342:4780](+)\n",
      "['NP_995571.1']\n",
      "MGGGMISKLFCLALIFLSSSGLAEKNTYTAKDILQNLELNTFGNSLSHGIYGKQTTFKQTEFTNIKSNTKKHIALINKDNSWMISLKILGIKRDEYTVCFEDFSLIRPPTYVAIHPLLIKKVKSGNFIVVKEIKKSIPGCTVYYH\n",
      "\n",
      "MGGGMISKLFCLALIFLSSSGLAEKNTYTAKDILQNLELNTFGNSLSHGIYGKQTTFKQTEFTNIKSNTKKHIALINKDNSWMISLKILGIKRDEYTVCFEDFSLIRPPTYVAIHPLLIKKVKSGNFIVVKEIKKSIPGCTVYYH\n",
      "\u001b[1m\u001b[32mTrue\u001b[0m\n",
      "\n",
      "\u001b[1mLength: 1074\u001b[0m\n",
      "[4814:5888](-)\n",
      "['NP_995572.1']\n",
      "MSDTMVVNGSGGVPAFLFSGSTLSSYRPNFEANSITIALPHYVDLPGRSNFKLMYIMGFPIDTEMEKDSEYSNKIRQESKISKTEGTVSYEQKITVETGQEKDGVKVYRVMVLEGTIAESIEHLDKKENEDILNNNRNRIVLADNTVINFDNISQLKEFLRRSVNIVDHDIFSSNGFEGFNPTSHFPSNPSSDYFNSTGVTFGSGVDLGQRSKQDLLNDGVPQYIADRLDGYYMLRGKEAYDKVRTAPLTLSDNEAHLLSNIYIDKFSHKIEGLFNDANIGLRFSDLPLRTRTALVSIGYQKGFKLSRTAPTVWNKVIAKDWNGLVNAFNNIVDGMSDRRKREGALVQKDIDSGLLK\n",
      "\n",
      "MSDTMVVNGSGGVPAFLFSGSTLSSYRPNFEANSITIALPHYVDLPGRSNFKLMYIMGFPIDTEMEKDSEYSNKIRQESKISKTEGTVSYEQKITVETGQEKDGVKVYRVMVLEGTIAESIEHLDKKENEDILNNNRNRIVLADNTVINFDNISQLKEFLRRSVNIVDHDIFSSNGFEGFNPTSHFPSNPSSDYFNSTGVTFGSGVDLGQRSKQDLLNDGVPQYIADRLDGYYMLRGKEAYDKVRTAPLTLSDNEAHLLSNIYIDKFSHKIEGLFNDANIGLRFSDLPLRTRTALVSIGYQKGFKLSRTAPTVWNKVIAKDWNGLVNAFNNIVDGMSDRRKREGALVQKDIDSGLLK\n",
      "\u001b[1m\u001b[32mTrue\u001b[0m\n",
      "\n",
      "\u001b[1mLength: 417\u001b[0m\n",
      "[6004:6421](+)\n",
      "['NP_995573.1']\n",
      "MKFHFCDLNHSYKNQEGKIRSRKTAPGNIRKKQKGDNVSKTKSGRHRLSKTDKRLLAALVVAGYEERTARDLIQKHVYTLTQADLRHLVSEISNGVGQSQAYDAIYQARRIRLARKYLSGKKPEGVEPREGQEREDLP\n",
      "\n",
      "MKFHFCDLNHSYKNQEGKIRSRKTAPGNIRKKQKGDNVSKTKSGRHRLSKTDKRLLAALVVAGYEERTARDLIQKHVYTLTQADLRHLVSEISNGVGQSQAYDAIYQARRIRLARKYLSGKKPEGVEPREGQEREDLP\n",
      "\u001b[1m\u001b[32mTrue\u001b[0m\n",
      "\n",
      "\u001b[1mLength: 939\u001b[0m\n",
      "[6663:7602](+)\n",
      "['NP_995574.1']\n",
      "MKKSSIVATIITILSGSANAASSQLIPNISPDSFTVAASTGMLSGKSHEMLYDAETGRKISQLDWKIKNVAILKGDISWDPYSFLTLNARGWTSLASGSGNMDDYDWMNENQSEWTDHSSHPATNVNHANEYDLNVKGWLLQDENYKAGITAGYQETRFSWTATGGSYSYNNGAYTGNFPKGVRVIGYNQRFSMPYIGLAGQYRINDFELNALFKFSDWVRAHDNDEHYMRDLTFREKTSGSRYYGTVINAGYYVTPNAKVFAEFTYSKYDEGKGGTQIIDKNSGDSVSIGGDAAGISNKNYTVTAGLQYRF\n",
      "\n",
      "MKKSSIVATIITILSGSANAASSQLIPNISPDSFTVAASTGMLSGKSHEMLYDAETGRKISQLDWKIKNVAILKGDISWDPYSFLTLNARGWTSLASGSGNMDDYDWMNENQSEWTDHSSHPATNVNHANEYDLNVKGWLLQDENYKAGITAGYQETRFSWTATGGSYSYNNGAYTGNFPKGVRVIGYNQRFSMPYIGLAGQYRINDFELNALFKFSDWVRAHDNDEHYMRDLTFREKTSGSRYYGTVINAGYYVTPNAKVFAEFTYSKYDEGKGGTQIIDKNSGDSVSIGGDAAGISNKNYTVTAGLQYRF\n",
      "\u001b[1m\u001b[32mTrue\u001b[0m\n",
      "\n",
      "\u001b[1mLength: 300\u001b[0m\n",
      "[7788:8088](-)\n",
      "['NP_995575.1']\n",
      "MRTLDEVIASRSPESQTRIKEMADEMILEVGLQMMREELQLSQKQVAEAMGISQPAVTKLEQRGNDLKLATLKRYVEAMGGKLSLDVELPTGRRVAFHV\n",
      "\n",
      "MRTLDEVIASRSPESQTRIKEMADEMILEVGLQMMREELQLSQKQVAEAMGISQPAVTKLEQRGNDLKLATLKRYVEAMGGKLSLDVELPTGRRVAFHV\n",
      "\u001b[1m\u001b[32mTrue\u001b[0m\n",
      "\n",
      "\u001b[1mLength: 273\u001b[0m\n",
      "[8087:8360](-)\n",
      "['NP_995576.1']\n",
      "MADLKKLQVYGPELPRPYADTVKGSRYKNMKELRVQFSGRPIRAFYAFDPIRRAIVLCAGDKSNDKRFYEKLVRIAEDEFTAHLNTLESK\n",
      "\n",
      "MADLKKLQVYGPELPRPYADTVKGSRYKNMKELRVQFSGRPIRAFYAFDPIRRAIVLCAGDKSNDKRFYEKLVRIAEDEFTAHLNTLESK\n",
      "\u001b[1m\u001b[32mTrue\u001b[0m\n",
      "\n"
     ]
    }
   ],
   "source": [
    "# do it with features, the proteins are already found\n",
    "\n",
    "for feature in yersinia.features:\n",
    "    if feature.type == 'CDS':\n",
    "        print(tc.colored(f'Length: {len(feature)}', attrs=['bold']))\n",
    "        print(feature.location)\n",
    "        print(feature.qualifiers['protein_id'])        \n",
    "        translation = feature.qualifiers['translation'][0]\n",
    "        print(translation)        \n",
    "        \n",
    "        print()\n",
    "        sequence = feature.location.extract(yersinia).seq\n",
    "        sequence_translated = sequence.translate(table='Bacterial', cds=True)\n",
    "        print(sequence_translated)\n",
    "        \n",
    "        comparison = (str(translation) == str(sequence_translated))\n",
    "            \n",
    "        if comparison:\n",
    "            print(tc.colored('True', 'green', attrs=['bold']))\n",
    "        else: \n",
    "            print(tc.colored('False', 'red', attrs=['bold']))\n",
    "        \n",
    "        print()\n",
    "        "
   ]
  },
  {
   "cell_type": "markdown",
   "metadata": {},
   "source": [
    "## Task 9. Одберете еден од кодните региони и направете мутација со поместување на рамката за 2 нуклеотиди. Анализирајте ги новите протеински секвенции. Внимавајте, сега има нови старт и стоп кодони."
   ]
  },
  {
   "cell_type": "code",
   "execution_count": 147,
   "metadata": {},
   "outputs": [
    {
     "name": "stdout",
     "output_type": "stream",
     "text": [
      "195\n"
     ]
    },
    {
     "data": {
      "text/plain": [
       "Seq('GTGAACAAACAACAACAAACTGCGCTGAATATGGCGCGATTTATCAGAAGCCAG...TAA', IUPACAmbiguousDNA())"
      ]
     },
     "execution_count": 147,
     "metadata": {},
     "output_type": "execute_result"
    }
   ],
   "source": [
    "# yersinia_dna_coding_seq = shortest_cds.extract(yersinia.seq)\n",
    "print(len(yersinia_dna_coding_seq))\n",
    "yersinia_dna_coding_seq\n",
    "yer"
   ]
  },
  {
   "cell_type": "code",
   "execution_count": 149,
   "metadata": {},
   "outputs": [
    {
     "name": "stdout",
     "output_type": "stream",
     "text": [
      "195\n"
     ]
    },
    {
     "data": {
      "text/plain": [
       "Seq('GUGAACAAACAACAACAAACUGCGCUGAAUAUGGCGCGAUUUAUCAGAAGCCAG...UAA', IUPACAmbiguousRNA())"
      ]
     },
     "execution_count": 149,
     "metadata": {},
     "output_type": "execute_result"
    }
   ],
   "source": [
    "# yersinia_cds_mRNA = yersinia_dna_coding_seq.transcribe()\n",
    "print(len(yersinia_cds_mRNA))\n",
    "yersinia_cds_mRNA"
   ]
  },
  {
   "cell_type": "code",
   "execution_count": 23,
   "metadata": {
    "scrolled": true
   },
   "outputs": [
    {
     "name": "stdout",
     "output_type": "stream",
     "text": [
      "193\n"
     ]
    },
    {
     "data": {
      "text/plain": [
       "Seq('GAACAAACAACAACAAACUGCGCUGAAUAUGGCGCGAUUUAUCAGAAGCCAGAG...UAA', IUPACAmbiguousRNA())"
      ]
     },
     "execution_count": 23,
     "metadata": {},
     "output_type": "execute_result"
    }
   ],
   "source": [
    "mutated_yersinia_cds_mRNA = yersinia_cds_mRNA[2:]\n",
    "print(len(mutated_yersinia_cds_mRNA))\n",
    "mutated_yersinia_cds_mRNA"
   ]
  },
  {
   "cell_type": "markdown",
   "metadata": {},
   "source": [
    "From our previous analysis on the yersinia's shortest coding sequence transcribed to messenger RNA we obtained the following locations:\n",
    "\n",
    "start_codons: 4 \n",
    " [(30, 'AUG'), (79, 'AUG'), (88, 'AUG'), (108, 'AUG')]\n",
    "\n",
    "stop_codons 8 \n",
    " [(1, 'UGA'), (25, 'UGA'), (58, 'UGA'), (68, 'UGA'), (113, 'UGA'), (167, 'UGA'), (179, 'UGA'), (192, 'UAA')]\n",
    " \n",
    " We needn't remember these positions in the messenger RNA, we only need to set the parameter `cds=False`. This will make it so the sequence is treated as a seperate or novel sequence of which we can extract protein sub-sequences."
   ]
  },
  {
   "cell_type": "code",
   "execution_count": 159,
   "metadata": {},
   "outputs": [
    {
     "name": "stderr",
     "output_type": "stream",
     "text": [
      "D:\\code\\py\\corona-virus-analysis\\.env\\lib\\site-packages\\Bio\\Seq.py:2859: BiopythonWarning: Partial codon, len(sequence) not a multiple of three. Explicitly trim the sequence or add trailing N before translation. This may become an error in future.\n",
      "  BiopythonWarning,\n"
     ]
    },
    {
     "data": {
      "text/plain": [
       "Seq('EQTTTNCAEYGAIYQKPEPDTA*KTGCSGCRRAGGHV*TTARTRGRTPEQHPGS...RNI', HasStopCodon(ExtendedIUPACProtein(), '*'))"
      ]
     },
     "execution_count": 159,
     "metadata": {},
     "output_type": "execute_result"
    }
   ],
   "source": [
    "amino_acids = mutated_yersinia_cds_mRNA.translate(table='Bacterial', cds=False); amino_acids"
   ]
  },
  {
   "cell_type": "code",
   "execution_count": 156,
   "metadata": {},
   "outputs": [
    {
     "name": "stdout",
     "output_type": "stream",
     "text": [
      "total proteins: 5\n"
     ]
    },
    {
     "name": "stderr",
     "output_type": "stream",
     "text": [
      "D:\\code\\py\\corona-virus-analysis\\.env\\lib\\site-packages\\Bio\\Seq.py:182: BiopythonWarning: Biopython Seq objects now use string comparison. Older versions of Biopython used object comparison. During this transition, please use hash(id(my_seq)) or my_dict[id(my_seq)] if you want the old behaviour, or use hash(str(my_seq)) or my_dict[str(my_seq)] for the new string hashing behaviour.\n",
      "  BiopythonWarning,\n"
     ]
    },
    {
     "data": {
      "text/html": [
       "<div>\n",
       "<style scoped>\n",
       "    .dataframe tbody tr th:only-of-type {\n",
       "        vertical-align: middle;\n",
       "    }\n",
       "\n",
       "    .dataframe tbody tr th {\n",
       "        vertical-align: top;\n",
       "    }\n",
       "\n",
       "    .dataframe thead th {\n",
       "        text-align: right;\n",
       "    }\n",
       "</style>\n",
       "<table border=\"1\" class=\"dataframe\">\n",
       "  <thead>\n",
       "    <tr style=\"text-align: right;\">\n",
       "      <th></th>\n",
       "      <th>sequence</th>\n",
       "      <th>length</th>\n",
       "      <th>sequence_str</th>\n",
       "    </tr>\n",
       "  </thead>\n",
       "  <tbody>\n",
       "    <tr>\n",
       "      <th>0</th>\n",
       "      <td>(E, Q, T, T, T, N, C, A, E, Y, G, A, I, Y, Q, ...</td>\n",
       "      <td>22</td>\n",
       "      <td>EQTTTNCAEYGAIYQKPEPDTA</td>\n",
       "    </tr>\n",
       "    <tr>\n",
       "      <th>1</th>\n",
       "      <td>(K, T, G, C, S, G, C, R, R, A, G, G, H, V)</td>\n",
       "      <td>14</td>\n",
       "      <td>KTGCSGCRRAGGHV</td>\n",
       "    </tr>\n",
       "    <tr>\n",
       "      <th>2</th>\n",
       "      <td>(T, T, A, R, T, R, G, R, T, P, E, Q, H, P, G, ...</td>\n",
       "      <td>17</td>\n",
       "      <td>TTARTRGRTPEQHPGSL</td>\n",
       "    </tr>\n",
       "    <tr>\n",
       "      <th>3</th>\n",
       "      <td>(S, R, K)</td>\n",
       "      <td>3</td>\n",
       "      <td>SRK</td>\n",
       "    </tr>\n",
       "    <tr>\n",
       "      <th>4</th>\n",
       "      <td>(N, R, N, I)</td>\n",
       "      <td>4</td>\n",
       "      <td>NRNI</td>\n",
       "    </tr>\n",
       "  </tbody>\n",
       "</table>\n",
       "</div>"
      ],
      "text/plain": [
       "                                            sequence  length  \\\n",
       "0  (E, Q, T, T, T, N, C, A, E, Y, G, A, I, Y, Q, ...      22   \n",
       "1         (K, T, G, C, S, G, C, R, R, A, G, G, H, V)      14   \n",
       "2  (T, T, A, R, T, R, G, R, T, P, E, Q, H, P, G, ...      17   \n",
       "3                                          (S, R, K)       3   \n",
       "4                                       (N, R, N, I)       4   \n",
       "\n",
       "             sequence_str  \n",
       "0  EQTTTNCAEYGAIYQKPEPDTA  \n",
       "1          KTGCSGCRRAGGHV  \n",
       "2       TTARTRGRTPEQHPGSL  \n",
       "3                     SRK  \n",
       "4                    NRNI  "
      ]
     },
     "execution_count": 156,
     "metadata": {},
     "output_type": "execute_result"
    }
   ],
   "source": [
    "proteins = amino_acids.split('*')\n",
    "df = pd.DataFrame(data=proteins)\n",
    "\n",
    "df.describe()\n",
    "print('total proteins:', len(df))\n",
    "\n",
    "df['length'] = df[0].apply(lambda x: len(x))\n",
    "df['sequence_str'] = df[0].apply(lambda x: str(x))\n",
    "df.rename(columns={0: \"sequence\"}, inplace=True)\n",
    "df.tail()"
   ]
  },
  {
   "cell_type": "markdown",
   "metadata": {},
   "source": [
    "And of course, the true coding sequence corresponds to a single protein. Thus, we set `cds=True`"
   ]
  },
  {
   "cell_type": "code",
   "execution_count": 161,
   "metadata": {
    "scrolled": true
   },
   "outputs": [
    {
     "name": "stdout",
     "output_type": "stream",
     "text": [
      "total proteins: 1\n"
     ]
    },
    {
     "name": "stderr",
     "output_type": "stream",
     "text": [
      "D:\\code\\py\\corona-virus-analysis\\.env\\lib\\site-packages\\Bio\\Seq.py:182: BiopythonWarning: Biopython Seq objects now use string comparison. Older versions of Biopython used object comparison. During this transition, please use hash(id(my_seq)) or my_dict[id(my_seq)] if you want the old behaviour, or use hash(str(my_seq)) or my_dict[str(my_seq)] for the new string hashing behaviour.\n",
      "  BiopythonWarning,\n"
     ]
    },
    {
     "data": {
      "text/html": [
       "<div>\n",
       "<style scoped>\n",
       "    .dataframe tbody tr th:only-of-type {\n",
       "        vertical-align: middle;\n",
       "    }\n",
       "\n",
       "    .dataframe tbody tr th {\n",
       "        vertical-align: top;\n",
       "    }\n",
       "\n",
       "    .dataframe thead th {\n",
       "        text-align: right;\n",
       "    }\n",
       "</style>\n",
       "<table border=\"1\" class=\"dataframe\">\n",
       "  <thead>\n",
       "    <tr style=\"text-align: right;\">\n",
       "      <th></th>\n",
       "      <th>sequence</th>\n",
       "      <th>length</th>\n",
       "      <th>sequence_str</th>\n",
       "    </tr>\n",
       "  </thead>\n",
       "  <tbody>\n",
       "    <tr>\n",
       "      <th>0</th>\n",
       "      <td>(M, N, K, Q, Q, Q, T, A, L, N, M, A, R, F, I, ...</td>\n",
       "      <td>64</td>\n",
       "      <td>MNKQQQTALNMARFIRSQSLILLEKLDALDADEQAAMCERLHELAE...</td>\n",
       "    </tr>\n",
       "  </tbody>\n",
       "</table>\n",
       "</div>"
      ],
      "text/plain": [
       "                                            sequence  length  \\\n",
       "0  (M, N, K, Q, Q, Q, T, A, L, N, M, A, R, F, I, ...      64   \n",
       "\n",
       "                                        sequence_str  \n",
       "0  MNKQQQTALNMARFIRSQSLILLEKLDALDADEQAAMCERLHELAE...  "
      ]
     },
     "execution_count": 161,
     "metadata": {},
     "output_type": "execute_result"
    }
   ],
   "source": [
    "amino_acids = yersinia_cds_mRNA.translate(table='Bacterial', cds=True); amino_acids\n",
    "proteins = amino_acids.split('*')\n",
    "df = pd.DataFrame(data=proteins)\n",
    "\n",
    "df.describe()\n",
    "print('total proteins:', len(df))\n",
    "\n",
    "df['length'] = df[0].apply(lambda x: len(x))\n",
    "df['sequence_str'] = df[0].apply(lambda x: str(x))\n",
    "df.rename(columns={0: \"sequence\"}, inplace=True)\n",
    "df.tail()"
   ]
  },
  {
   "cell_type": "markdown",
   "metadata": {},
   "source": [
    "The result are equal even when we set `cds=False`"
   ]
  },
  {
   "cell_type": "code",
   "execution_count": 14,
   "metadata": {},
   "outputs": [
    {
     "name": "stdout",
     "output_type": "stream",
     "text": [
      "total proteins: 2\n"
     ]
    },
    {
     "name": "stderr",
     "output_type": "stream",
     "text": [
      "D:\\code\\py\\corona-virus-analysis\\.env\\lib\\site-packages\\Bio\\Seq.py:182: BiopythonWarning: Biopython Seq objects now use string comparison. Older versions of Biopython used object comparison. During this transition, please use hash(id(my_seq)) or my_dict[id(my_seq)] if you want the old behaviour, or use hash(str(my_seq)) or my_dict[str(my_seq)] for the new string hashing behaviour.\n",
      "  BiopythonWarning,\n"
     ]
    },
    {
     "data": {
      "text/html": [
       "<div>\n",
       "<style scoped>\n",
       "    .dataframe tbody tr th:only-of-type {\n",
       "        vertical-align: middle;\n",
       "    }\n",
       "\n",
       "    .dataframe tbody tr th {\n",
       "        vertical-align: top;\n",
       "    }\n",
       "\n",
       "    .dataframe thead th {\n",
       "        text-align: right;\n",
       "    }\n",
       "</style>\n",
       "<table border=\"1\" class=\"dataframe\">\n",
       "  <thead>\n",
       "    <tr style=\"text-align: right;\">\n",
       "      <th></th>\n",
       "      <th>sequence</th>\n",
       "      <th>length</th>\n",
       "      <th>sequence_str</th>\n",
       "    </tr>\n",
       "  </thead>\n",
       "  <tbody>\n",
       "    <tr>\n",
       "      <th>0</th>\n",
       "      <td>(V, N, K, Q, Q, Q, T, A, L, N, M, A, R, F, I, ...</td>\n",
       "      <td>64</td>\n",
       "      <td>VNKQQQTALNMARFIRSQSLILLEKLDALDADEQAAMCERLHELAE...</td>\n",
       "    </tr>\n",
       "    <tr>\n",
       "      <th>1</th>\n",
       "      <td>()</td>\n",
       "      <td>0</td>\n",
       "      <td></td>\n",
       "    </tr>\n",
       "  </tbody>\n",
       "</table>\n",
       "</div>"
      ],
      "text/plain": [
       "                                            sequence  length  \\\n",
       "0  (V, N, K, Q, Q, Q, T, A, L, N, M, A, R, F, I, ...      64   \n",
       "1                                                 ()       0   \n",
       "\n",
       "                                        sequence_str  \n",
       "0  VNKQQQTALNMARFIRSQSLILLEKLDALDADEQAAMCERLHELAE...  \n",
       "1                                                     "
      ]
     },
     "execution_count": 14,
     "metadata": {},
     "output_type": "execute_result"
    }
   ],
   "source": [
    "amino_acids = yersinia_cds_mRNA.translate(table='Bacterial', cds=False); amino_acids\n",
    "proteins = amino_acids.split('*')\n",
    "df = pd.DataFrame(data=proteins)\n",
    "\n",
    "df.describe()\n",
    "print('total proteins:', len(df))\n",
    "\n",
    "df['length'] = df[0].apply(lambda x: len(x))\n",
    "df['sequence_str'] = df[0].apply(lambda x: str(x))\n",
    "df.rename(columns={0: \"sequence\"}, inplace=True)\n",
    "df.tail()"
   ]
  },
  {
   "cell_type": "markdown",
   "metadata": {},
   "source": [
    "The same works with the DNA parent coding sequence, thus `biopython` seems to distinguish between when it's working with mRNA and when it is working with DNA."
   ]
  },
  {
   "cell_type": "code",
   "execution_count": 10,
   "metadata": {},
   "outputs": [
    {
     "name": "stdout",
     "output_type": "stream",
     "text": [
      "total proteins: 2\n"
     ]
    },
    {
     "name": "stderr",
     "output_type": "stream",
     "text": [
      "D:\\code\\py\\corona-virus-analysis\\.env\\lib\\site-packages\\Bio\\Seq.py:182: BiopythonWarning: Biopython Seq objects now use string comparison. Older versions of Biopython used object comparison. During this transition, please use hash(id(my_seq)) or my_dict[id(my_seq)] if you want the old behaviour, or use hash(str(my_seq)) or my_dict[str(my_seq)] for the new string hashing behaviour.\n",
      "  BiopythonWarning,\n"
     ]
    },
    {
     "data": {
      "text/html": [
       "<div>\n",
       "<style scoped>\n",
       "    .dataframe tbody tr th:only-of-type {\n",
       "        vertical-align: middle;\n",
       "    }\n",
       "\n",
       "    .dataframe tbody tr th {\n",
       "        vertical-align: top;\n",
       "    }\n",
       "\n",
       "    .dataframe thead th {\n",
       "        text-align: right;\n",
       "    }\n",
       "</style>\n",
       "<table border=\"1\" class=\"dataframe\">\n",
       "  <thead>\n",
       "    <tr style=\"text-align: right;\">\n",
       "      <th></th>\n",
       "      <th>sequence</th>\n",
       "      <th>length</th>\n",
       "      <th>sequence_str</th>\n",
       "    </tr>\n",
       "  </thead>\n",
       "  <tbody>\n",
       "    <tr>\n",
       "      <th>0</th>\n",
       "      <td>(V, N, K, Q, Q, Q, T, A, L, N, M, A, R, F, I, ...</td>\n",
       "      <td>64</td>\n",
       "      <td>VNKQQQTALNMARFIRSQSLILLEKLDALDADEQAAMCERLHELAE...</td>\n",
       "    </tr>\n",
       "    <tr>\n",
       "      <th>1</th>\n",
       "      <td>()</td>\n",
       "      <td>0</td>\n",
       "      <td></td>\n",
       "    </tr>\n",
       "  </tbody>\n",
       "</table>\n",
       "</div>"
      ],
      "text/plain": [
       "                                            sequence  length  \\\n",
       "0  (V, N, K, Q, Q, Q, T, A, L, N, M, A, R, F, I, ...      64   \n",
       "1                                                 ()       0   \n",
       "\n",
       "                                        sequence_str  \n",
       "0  VNKQQQTALNMARFIRSQSLILLEKLDALDADEQAAMCERLHELAE...  \n",
       "1                                                     "
      ]
     },
     "execution_count": 10,
     "metadata": {},
     "output_type": "execute_result"
    }
   ],
   "source": [
    "amino_acids = yersinia_dna_coding_seq.translate(table='Bacterial', cds=False); amino_acids\n",
    "proteins = amino_acids.split('*')\n",
    "df = pd.DataFrame(data=proteins)\n",
    "\n",
    "df.describe()\n",
    "print('total proteins:', len(df))\n",
    "\n",
    "df['length'] = df[0].apply(lambda x: len(x))\n",
    "df['sequence_str'] = df[0].apply(lambda x: str(x))\n",
    "df.rename(columns={0: \"sequence\"}, inplace=True)\n",
    "df.tail()"
   ]
  },
  {
   "cell_type": "markdown",
   "metadata": {},
   "source": [
    "And the results are identical when working with a mutated mRNA or mutated DNA cds sequence, here is the proof:"
   ]
  },
  {
   "cell_type": "code",
   "execution_count": 20,
   "metadata": {},
   "outputs": [
    {
     "name": "stdout",
     "output_type": "stream",
     "text": [
      "total proteins: 5\n"
     ]
    },
    {
     "name": "stderr",
     "output_type": "stream",
     "text": [
      "D:\\code\\py\\corona-virus-analysis\\.env\\lib\\site-packages\\Bio\\Seq.py:2859: BiopythonWarning: Partial codon, len(sequence) not a multiple of three. Explicitly trim the sequence or add trailing N before translation. This may become an error in future.\n",
      "  BiopythonWarning,\n",
      "D:\\code\\py\\corona-virus-analysis\\.env\\lib\\site-packages\\Bio\\Seq.py:182: BiopythonWarning: Biopython Seq objects now use string comparison. Older versions of Biopython used object comparison. During this transition, please use hash(id(my_seq)) or my_dict[id(my_seq)] if you want the old behaviour, or use hash(str(my_seq)) or my_dict[str(my_seq)] for the new string hashing behaviour.\n",
      "  BiopythonWarning,\n"
     ]
    },
    {
     "data": {
      "text/html": [
       "<div>\n",
       "<style scoped>\n",
       "    .dataframe tbody tr th:only-of-type {\n",
       "        vertical-align: middle;\n",
       "    }\n",
       "\n",
       "    .dataframe tbody tr th {\n",
       "        vertical-align: top;\n",
       "    }\n",
       "\n",
       "    .dataframe thead th {\n",
       "        text-align: right;\n",
       "    }\n",
       "</style>\n",
       "<table border=\"1\" class=\"dataframe\">\n",
       "  <thead>\n",
       "    <tr style=\"text-align: right;\">\n",
       "      <th></th>\n",
       "      <th>sequence</th>\n",
       "      <th>length</th>\n",
       "      <th>sequence_str</th>\n",
       "    </tr>\n",
       "  </thead>\n",
       "  <tbody>\n",
       "    <tr>\n",
       "      <th>0</th>\n",
       "      <td>(E, Q, T, T, T, N, C, A, E, Y, G, A, I, Y, Q, ...</td>\n",
       "      <td>22</td>\n",
       "      <td>EQTTTNCAEYGAIYQKPEPDTA</td>\n",
       "    </tr>\n",
       "    <tr>\n",
       "      <th>1</th>\n",
       "      <td>(K, T, G, C, S, G, C, R, R, A, G, G, H, V)</td>\n",
       "      <td>14</td>\n",
       "      <td>KTGCSGCRRAGGHV</td>\n",
       "    </tr>\n",
       "    <tr>\n",
       "      <th>2</th>\n",
       "      <td>(T, T, A, R, T, R, G, R, T, P, E, Q, H, P, G, ...</td>\n",
       "      <td>17</td>\n",
       "      <td>TTARTRGRTPEQHPGSL</td>\n",
       "    </tr>\n",
       "    <tr>\n",
       "      <th>3</th>\n",
       "      <td>(S, R, K)</td>\n",
       "      <td>3</td>\n",
       "      <td>SRK</td>\n",
       "    </tr>\n",
       "    <tr>\n",
       "      <th>4</th>\n",
       "      <td>(N, R, N, I)</td>\n",
       "      <td>4</td>\n",
       "      <td>NRNI</td>\n",
       "    </tr>\n",
       "  </tbody>\n",
       "</table>\n",
       "</div>"
      ],
      "text/plain": [
       "                                            sequence  length  \\\n",
       "0  (E, Q, T, T, T, N, C, A, E, Y, G, A, I, Y, Q, ...      22   \n",
       "1         (K, T, G, C, S, G, C, R, R, A, G, G, H, V)      14   \n",
       "2  (T, T, A, R, T, R, G, R, T, P, E, Q, H, P, G, ...      17   \n",
       "3                                          (S, R, K)       3   \n",
       "4                                       (N, R, N, I)       4   \n",
       "\n",
       "             sequence_str  \n",
       "0  EQTTTNCAEYGAIYQKPEPDTA  \n",
       "1          KTGCSGCRRAGGHV  \n",
       "2       TTARTRGRTPEQHPGSL  \n",
       "3                     SRK  \n",
       "4                    NRNI  "
      ]
     },
     "execution_count": 20,
     "metadata": {},
     "output_type": "execute_result"
    }
   ],
   "source": [
    "mutated_yersinia_dna_coding_seq = yersinia_dna_coding_seq[2:]\n",
    "amino_acids = mutated_yersinia_dna_coding_seq.translate(table='Bacterial', cds=False); amino_acids\n",
    "\n",
    "proteins = amino_acids.split('*')\n",
    "df = pd.DataFrame(data=proteins)\n",
    "\n",
    "df.describe()\n",
    "print('total proteins:', len(df))\n",
    "\n",
    "df['length'] = df[0].apply(lambda x: len(x))\n",
    "df['sequence_str'] = df[0].apply(lambda x: str(x))\n",
    "df.rename(columns={0: \"sequence\"}, inplace=True)\n",
    "df.tail()"
   ]
  },
  {
   "cell_type": "code",
   "execution_count": 25,
   "metadata": {},
   "outputs": [
    {
     "name": "stdout",
     "output_type": "stream",
     "text": [
      "start_codons: 4 \r\n",
      " [(28, 'AUG'), (77, 'AUG'), (86, 'AUG'), (106, 'AUG')]\n",
      "\n",
      "stop_codons 7 \r\n",
      " [(23, 'UGA'), (56, 'UGA'), (66, 'UGA'), (111, 'UGA'), (165, 'UGA'), (177, 'UGA'), (190, 'UAA')]\n"
     ]
    }
   ],
   "source": [
    "start_codons = list()\n",
    "stop_codons = list()\n",
    "\n",
    "mRNA_sequence = mutated_yersinia_cds_mRNA\n",
    "\n",
    "for i in range(len(mRNA_sequence) - 2):\n",
    "    codon = (i, mRNA_sequence[i:i+3])\n",
    "    if codon[1] in ['AUG']:\n",
    "        start_codons.append(codon)\n",
    "    elif codon[1] in ['UAA', 'UAG', 'UGA']:\n",
    "        stop_codons.append(codon)\n",
    "\n",
    "print('start_codons:', len(start_codons), os.linesep, \n",
    "      list(map(lambda codon: (codon[0], str(codon[1])), start_codons)))\n",
    "\n",
    "print()\n",
    "\n",
    "print('stop_codons', len(stop_codons), os.linesep, \n",
    "      list(map(lambda codon: (codon[0], str(codon[1])), stop_codons)))"
   ]
  },
  {
   "cell_type": "code",
   "execution_count": 29,
   "metadata": {},
   "outputs": [
    {
     "data": {
      "text/plain": [
       "[(23, Seq('UGA', IUPACAmbiguousRNA())),\n",
       " (28, Seq('AUG', IUPACAmbiguousRNA())),\n",
       " (56, Seq('UGA', IUPACAmbiguousRNA())),\n",
       " (66, Seq('UGA', IUPACAmbiguousRNA())),\n",
       " (77, Seq('AUG', IUPACAmbiguousRNA())),\n",
       " (86, Seq('AUG', IUPACAmbiguousRNA())),\n",
       " (106, Seq('AUG', IUPACAmbiguousRNA())),\n",
       " (111, Seq('UGA', IUPACAmbiguousRNA())),\n",
       " (165, Seq('UGA', IUPACAmbiguousRNA())),\n",
       " (177, Seq('UGA', IUPACAmbiguousRNA())),\n",
       " (190, Seq('UAA', IUPACAmbiguousRNA()))]"
      ]
     },
     "execution_count": 29,
     "metadata": {},
     "output_type": "execute_result"
    }
   ],
   "source": [
    "relevant_codons = []\n",
    "relevant_codons.extend(start_codons)\n",
    "relevant_codons.extend(stop_codons)\n",
    "relevant_codons.sort()\n",
    "relevant_codons"
   ]
  },
  {
   "cell_type": "code",
   "execution_count": 36,
   "metadata": {},
   "outputs": [
    {
     "data": {
      "text/plain": [
       "[((28, Seq('AUG', IUPACAmbiguousRNA())),\n",
       "  (66, Seq('UGA', IUPACAmbiguousRNA()))),\n",
       " ((86, Seq('AUG', IUPACAmbiguousRNA())),\n",
       "  (111, Seq('UGA', IUPACAmbiguousRNA()))),\n",
       " ((106, Seq('AUG', IUPACAmbiguousRNA())),\n",
       "  (165, Seq('UGA', IUPACAmbiguousRNA())))]"
      ]
     },
     "execution_count": 36,
     "metadata": {},
     "output_type": "execute_result"
    }
   ],
   "source": [
    "rna_start_codons = ['AUG']\n",
    "\n",
    "pairs = list()\n",
    "\n",
    "for position, codon in enumerate(relevant_codons[1:]):\n",
    "    previous_codon = relevant_codons[position - 1]\n",
    "        \n",
    "    if previous_codon[1] in rna_start_codons and codon[1] not in rna_start_codons:\n",
    "        pair = (previous_codon, codon)\n",
    "        pairs.append(pair)\n",
    "        \n",
    "pairs"
   ]
  },
  {
   "cell_type": "code",
   "execution_count": 44,
   "metadata": {},
   "outputs": [
    {
     "name": "stdout",
     "output_type": "stream",
     "text": [
      "28 66 AUGGCGCGAUUUAUCAGAAGCCAGAGCCUGAUACUGCUUGA 41 False\n",
      "86 111 AUGCCGACGAGCAGGCGGCCAUGUGUGA 28 False\n",
      "106 165 AUGUGUGAACGACUGCACGAACUCGCGGAAGAACUCCAGAACAGCAUCCAGGCUCGCUUUGA 62 False\n"
     ]
    }
   ],
   "source": [
    "sequence = mutated_yersinia_cds_mRNA\n",
    "\n",
    "proteins = list()\n",
    "\n",
    "for pair in pairs:\n",
    "    start, stop = pair\n",
    "    \n",
    "    # idx stands for index\n",
    "    start_idx = start[0]\n",
    "    stop_idx = stop[0]\n",
    "    \n",
    "    protein = sequence[start_idx:stop_idx + 3]\n",
    "    proteins.append(protein)\n",
    "    print(start_idx, stop_idx, protein, len(protein), len(protein) % 3 == 0)"
   ]
  },
  {
   "cell_type": "markdown",
   "metadata": {},
   "source": [
    "None of these is a multiple of three, thus they are not cds, and thus the following translation is meaningless."
   ]
  },
  {
   "cell_type": "code",
   "execution_count": 42,
   "metadata": {},
   "outputs": [
    {
     "name": "stdout",
     "output_type": "stream",
     "text": [
      "total proteins: 1\n",
      "                               sequence  length  sequence_str\n",
      "0  (M, A, R, F, I, R, S, Q, S, L, I, L)      12  MARFIRSQSLIL\n",
      "total proteins: 1\n",
      "                   sequence  length sequence_str\n",
      "0  (M, P, T, S, R, R, P, C)       8     MPTSRRPC\n",
      "total proteins: 1\n",
      "                                            sequence  length  \\\n",
      "0  (M, C, E, R, L, H, E, L, A, E, E, L, Q, N, S, ...      19   \n",
      "\n",
      "          sequence_str  \n",
      "0  MCERLHELAEELQNSIQAR  \n"
     ]
    },
    {
     "name": "stderr",
     "output_type": "stream",
     "text": [
      "D:\\code\\py\\corona-virus-analysis\\.env\\lib\\site-packages\\Bio\\Seq.py:2859: BiopythonWarning: Partial codon, len(sequence) not a multiple of three. Explicitly trim the sequence or add trailing N before translation. This may become an error in future.\n",
      "  BiopythonWarning,\n",
      "D:\\code\\py\\corona-virus-analysis\\.env\\lib\\site-packages\\Bio\\Seq.py:182: BiopythonWarning: Biopython Seq objects now use string comparison. Older versions of Biopython used object comparison. During this transition, please use hash(id(my_seq)) or my_dict[id(my_seq)] if you want the old behaviour, or use hash(str(my_seq)) or my_dict[str(my_seq)] for the new string hashing behaviour.\n",
      "  BiopythonWarning,\n",
      "D:\\code\\py\\corona-virus-analysis\\.env\\lib\\site-packages\\Bio\\Seq.py:2859: BiopythonWarning: Partial codon, len(sequence) not a multiple of three. Explicitly trim the sequence or add trailing N before translation. This may become an error in future.\n",
      "  BiopythonWarning,\n",
      "D:\\code\\py\\corona-virus-analysis\\.env\\lib\\site-packages\\Bio\\Seq.py:182: BiopythonWarning: Biopython Seq objects now use string comparison. Older versions of Biopython used object comparison. During this transition, please use hash(id(my_seq)) or my_dict[id(my_seq)] if you want the old behaviour, or use hash(str(my_seq)) or my_dict[str(my_seq)] for the new string hashing behaviour.\n",
      "  BiopythonWarning,\n",
      "D:\\code\\py\\corona-virus-analysis\\.env\\lib\\site-packages\\Bio\\Seq.py:2859: BiopythonWarning: Partial codon, len(sequence) not a multiple of three. Explicitly trim the sequence or add trailing N before translation. This may become an error in future.\n",
      "  BiopythonWarning,\n",
      "D:\\code\\py\\corona-virus-analysis\\.env\\lib\\site-packages\\Bio\\Seq.py:182: BiopythonWarning: Biopython Seq objects now use string comparison. Older versions of Biopython used object comparison. During this transition, please use hash(id(my_seq)) or my_dict[id(my_seq)] if you want the old behaviour, or use hash(str(my_seq)) or my_dict[str(my_seq)] for the new string hashing behaviour.\n",
      "  BiopythonWarning,\n"
     ]
    }
   ],
   "source": [
    "mRNA_protein_sequences = proteins\n",
    "\n",
    "# cds set to TRUE!\n",
    "for mRNA_protein_sequence in mRNA_protein_sequences:\n",
    "    amino_acids = mRNA_protein_sequence.translate(table='Bacterial', cds=False); amino_acids\n",
    "\n",
    "    proteins = amino_acids.split('*')\n",
    "    df = pd.DataFrame(data=proteins)\n",
    "\n",
    "    df.describe()\n",
    "    print('total proteins:', len(df))\n",
    "\n",
    "    df['length'] = df[0].apply(lambda x: len(x))\n",
    "    df['sequence_str'] = df[0].apply(lambda x: str(x))\n",
    "    df.rename(columns={0: \"sequence\"}, inplace=True)\n",
    "    print(df)"
   ]
  },
  {
   "cell_type": "markdown",
   "metadata": {},
   "source": [
    "## Task 10. Да се разработи поглавје 5.5 за креирање на сопствени записи во FASTA формат."
   ]
  },
  {
   "cell_type": "code",
   "execution_count": 163,
   "metadata": {},
   "outputs": [
    {
     "data": {
      "text/plain": [
       "3"
      ]
     },
     "execution_count": 163,
     "metadata": {},
     "output_type": "execute_result"
    }
   ],
   "source": [
    "from Bio.Seq import Seq\n",
    "from Bio.SeqRecord import SeqRecord\n",
    "from Bio.Alphabet import generic_protein\n",
    "\n",
    "rec1 = SeqRecord(\n",
    "    Seq(\n",
    "        \"MMYQQGCFAGGTVLRLAKDLAENNRGARVLVVCSEITAVTFRGPSETHLDSMVGQALFGD\"\n",
    "        \"GAGAVIVGSDPDLSVERPLYELVWTGATLLPDSEGAIDGHLREVGLTFHLLKDVPGLISK\"\n",
    "        \"NIEKSLKEAFTPLGISDWNSTFWIAHPGGPAILDQVEAKLGLKEEKMRATREVLSEYGNM\"\n",
    "        \"SSAC\",\n",
    "        generic_protein,\n",
    "    ),\n",
    "    id=\"gi|14150838|gb|AAK54648.1|AF376133_1\",\n",
    "    description=\"chalcone synthase [Cucumis sativus]\",\n",
    ")\n",
    "\n",
    "rec2 = SeqRecord(\n",
    "    Seq(\n",
    "        \"YPDYYFRITNREHKAELKEKFQRMCDKSMIKKRYMYLTEEILKENPSMCEYMAPSLDARQ\"\n",
    "        \"DMVVVEIPKLGKEAAVKAIKEWGQ\",\n",
    "        generic_protein,\n",
    "    ),\n",
    "    id=\"gi|13919613|gb|AAK33142.1|\",\n",
    "    description=\"chalcone synthase [Fragaria vesca subsp. bracteata]\",\n",
    ")\n",
    "\n",
    "rec3 = SeqRecord(\n",
    "    Seq(\n",
    "        \"MVTVEEFRRAQCAEGPATVMAIGTATPSNCVDQSTYPDYYFRITNSEHKVELKEKFKRMC\"\n",
    "        \"EKSMIKKRYMHLTEEILKENPNICAYMAPSLDARQDIVVVEVPKLGKEAAQKAIKEWGQP\"\n",
    "        \"KSKITHLVFCTTSGVDMPGCDYQLTKLLGLRPSVKRFMMYQQGCFAGGTVLRMAKDLAEN\"\n",
    "        \"NKGARVLVVCSEITAVTFRGPNDTHLDSLVGQALFGDGAAAVIIGSDPIPEVERPLFELV\"\n",
    "        \"SAAQTLLPDSEGAIDGHLREVGLTFHLLKDVPGLISKNIEKSLVEAFQPLGISDWNSLFW\"\n",
    "        \"IAHPGGPAILDQVELKLGLKQEKLKATRKVLSNYGNMSSACVLFILDEMRKASAKEGLGT\"\n",
    "        \"TGEGLEWGVLFGFGPGLTVETVVLHSVAT\",\n",
    "        generic_protein,\n",
    "    ),\n",
    "    id=\"gi|13925890|gb|AAK49457.1|\",\n",
    "    description=\"chalcone synthase [Nicotiana tabacum]\",\n",
    ")\n",
    "\n",
    "my_records = [rec1, rec2, rec3]\n",
    "\n",
    "from Bio import SeqIO\n",
    "\n",
    "# The Bio.SeqIO.write() function returns the number of SeqRecord objects written to the file.\n",
    "SeqIO.write(my_records, \"example.faa\", \"fasta\")   "
   ]
  },
  {
   "cell_type": "code",
   "execution_count": 164,
   "metadata": {},
   "outputs": [
    {
     "name": "stdout",
     "output_type": "stream",
     "text": [
      "gi|14150838|gb|AAK54648.1|AF376133_1\n",
      "Seq('MMYQQGCFAGGTVLRLAKDLAENNRGARVLVVCSEITAVTFRGPSETHLDSMVG...SAC', SingleLetterAlphabet())\n",
      "184\n",
      "gi|13919613|gb|AAK33142.1|\n",
      "Seq('YPDYYFRITNREHKAELKEKFQRMCDKSMIKKRYMYLTEEILKENPSMCEYMAP...WGQ', SingleLetterAlphabet())\n",
      "84\n",
      "gi|13925890|gb|AAK49457.1|\n",
      "Seq('MVTVEEFRRAQCAEGPATVMAIGTATPSNCVDQSTYPDYYFRITNSEHKVELKE...VAT', SingleLetterAlphabet())\n",
      "389\n"
     ]
    }
   ],
   "source": [
    "for seq_record in SeqIO.parse(\"example.faa\", \"fasta\"):\n",
    "    print(seq_record.id)\n",
    "    print(repr(seq_record.seq))\n",
    "    print(len(seq_record))\n",
    "# with this for cycle we print the written records"
   ]
  },
  {
   "cell_type": "markdown",
   "metadata": {},
   "source": [
    "## Task 11. Да реализира примерот за предвидување на структурата на оперонот кај бактеријата Bacillus subtilis опишан во поглавје 16 од туторијалот. Да се употреби методот на Логистичка регресија и Машини со Поддржувачки Вектори (SVM) и да се споредат резултатите."
   ]
  },
  {
   "cell_type": "markdown",
   "metadata": {},
   "source": [
    "We now have two predictor variables that we can use to predict if two adjacent genes on the same strand\n",
    "of DNA belong to the same operon:\n",
    "\n",
    "- x1: the number of base pairs between them;\n",
    "- x2: their similarity in expression profile.\n",
    "\n",
    "In a logistic regression model, we use a weighted sum of these two predictors to calculate a joint score S:\n",
    "\n",
    "S = β0 + β1 x1 + β2 x2.     (16.1)\n",
    "\n",
    "- OP: Adjacent genes, on the same strand of DNA, known to belong to the same operon; denoted as 1\n",
    "- NOP: Adjacent genes, on the same strand of DNA, known to belong to di\u000b",
    "erent operons. denoted as 0"
   ]
  },
  {
   "cell_type": "code",
   "execution_count": 198,
   "metadata": {},
   "outputs": [
    {
     "name": "stdout",
     "output_type": "stream",
     "text": [
      "Iteration:  0 Log-likelihood function: -11.78350\n",
      "Iteration:  1 Log-likelihood function: -7.15887\n",
      "Iteration:  2 Log-likelihood function: -5.76877\n",
      "Iteration:  3 Log-likelihood function: -5.11362\n",
      "Iteration:  4 Log-likelihood function: -4.74871\n",
      "Iteration:  5 Log-likelihood function: -4.50026\n",
      "Iteration:  6 Log-likelihood function: -4.31128\n",
      "Iteration:  7 Log-likelihood function: -4.16015\n",
      "Iteration:  8 Log-likelihood function: -4.03562\n",
      "Iteration:  9 Log-likelihood function: -3.93073\n",
      "Iteration: 10 Log-likelihood function: -3.84088\n",
      "Iteration: 11 Log-likelihood function: -3.76283\n",
      "Iteration: 12 Log-likelihood function: -3.69425\n",
      "Iteration: 13 Log-likelihood function: -3.63342\n",
      "Iteration: 14 Log-likelihood function: -3.57901\n",
      "Iteration: 15 Log-likelihood function: -3.53000\n",
      "Iteration: 16 Log-likelihood function: -3.48557\n",
      "Iteration: 17 Log-likelihood function: -3.44508\n",
      "Iteration: 18 Log-likelihood function: -3.40800\n",
      "Iteration: 19 Log-likelihood function: -3.37389\n",
      "Iteration: 20 Log-likelihood function: -3.34239\n",
      "Iteration: 21 Log-likelihood function: -3.31319\n",
      "Iteration: 22 Log-likelihood function: -3.28605\n",
      "Iteration: 23 Log-likelihood function: -3.26074\n",
      "Iteration: 24 Log-likelihood function: -3.23707\n",
      "Iteration: 25 Log-likelihood function: -3.21488\n",
      "Iteration: 26 Log-likelihood function: -3.19403\n",
      "Iteration: 27 Log-likelihood function: -3.17441\n",
      "Iteration: 28 Log-likelihood function: -3.15589\n",
      "Iteration: 29 Log-likelihood function: -3.13839\n",
      "Iteration: 30 Log-likelihood function: -3.12181\n",
      "Iteration: 31 Log-likelihood function: -3.10610\n",
      "Iteration: 32 Log-likelihood function: -3.09117\n",
      "Iteration: 33 Log-likelihood function: -3.07697\n",
      "Iteration: 34 Log-likelihood function: -3.06345\n",
      "Iteration: 35 Log-likelihood function: -3.05055\n",
      "Iteration: 36 Log-likelihood function: -3.03824\n",
      "Iteration: 37 Log-likelihood function: -3.02647\n",
      "Iteration: 38 Log-likelihood function: -3.01520\n",
      "Iteration: 39 Log-likelihood function: -3.00441\n",
      "Iteration: 40 Log-likelihood function: -2.99407\n",
      "Iteration: 41 Log-likelihood function: -2.98414\n"
     ]
    }
   ],
   "source": [
    "\n",
    "from Bio import LogisticRegression\n",
    "\n",
    "xs = [[-53, -200.78],\n",
    "      [117, -267.14],\n",
    "      [57, -163.47],\n",
    "      [16, -190.30],\n",
    "      [11, -220.94],\n",
    "      [85, -193.94],\n",
    "      [16, -182.71],\n",
    "      [15, -180.41],\n",
    "      [-26, -181.73],\n",
    "      [58, -259.87],\n",
    "      [126, -414.53],\n",
    "      [191, -249.57],\n",
    "      [113, -265.28],\n",
    "      [145, -312.99],\n",
    "      [154, -213.83],\n",
    "      [147, -380.85],\n",
    "      [93, -291.13]]\n",
    "ys = [1,\n",
    "      1,\n",
    "      1,\n",
    "      1,\n",
    "      1,\n",
    "      1,\n",
    "      1,\n",
    "      1,\n",
    "      1,\n",
    "      1,\n",
    "      0,\n",
    "      0,\n",
    "      0,\n",
    "      0,\n",
    "      0,\n",
    "      0,\n",
    "      0]\n",
    "\n",
    "# update_fn(iter, llik)\n",
    "# the iter function doesn't output a python iterator\n",
    "# let's just a simple solution instead\n",
    "\n",
    "global_iteration = 0\n",
    "log_likelihood_lst = []\n",
    "def show_progress(iteration, loglikelihood):\n",
    "    global global_iteration \n",
    "    global log_likelihood_lst\n",
    "    print(f'Iteration: {global_iteration:2}', f'Log-likelihood function: {loglikelihood:2.5f}')\n",
    "    global_iteration += 1\n",
    "    log_likelihood_lst.append(loglikelihood)\n",
    "    \n",
    "\n",
    "model = LogisticRegression.train(xs, ys, update_fn=show_progress)"
   ]
  },
  {
   "cell_type": "code",
   "execution_count": 200,
   "metadata": {},
   "outputs": [
    {
     "data": {
      "text/plain": [
       "<matplotlib.axes._subplots.AxesSubplot at 0x1e7958087f0>"
      ]
     },
     "execution_count": 200,
     "metadata": {},
     "output_type": "execute_result"
    },
    {
     "data": {
      "image/png": "[encoded data removed]",
      "text/plain": [
       "<Figure size 432x288 with 1 Axes>"
      ]
     },
     "metadata": {
      "needs_background": "light"
     },
     "output_type": "display_data"
    }
   ],
   "source": [
    "pd.DataFrame(log_likelihood_lst).plot()"
   ]
  },
  {
   "cell_type": "markdown",
   "metadata": {},
   "source": [
    "This is probably using negative log-likelihood and it's attemption to minimize the error rate and that is evident from the plot. We can see that the function is approaching zero."
   ]
  },
  {
   "cell_type": "code",
   "execution_count": 168,
   "metadata": {},
   "outputs": [
    {
     "data": {
      "text/plain": [
       "{'beta': [8.98302901571447, -0.03596896044485088, 0.021813956629835204]}"
      ]
     },
     "execution_count": 168,
     "metadata": {},
     "output_type": "execute_result"
    }
   ],
   "source": [
    "vars(model)"
   ]
  },
  {
   "cell_type": "markdown",
   "metadata": {},
   "source": [
    "Note that β1 is negative, as gene pairs with a shorter intergene distance have a higher probability of belonging to the same operon (class OP). On the other hand, β2 is positive, as gene pairs belonging to the same operon typically have a higher similarity score of their gene expression profiles. The parameter β0 is positive due to the higher prevalence of operon gene pairs than non-operon gene pairs in the training data."
   ]
  },
  {
   "cell_type": "markdown",
   "metadata": {},
   "source": [
    "Now, let's use our classifier to classify unknown samples"
   ]
  },
  {
   "attachments": {
    "image.png": {
     "image/png": "[encoded data removed]"
    }
   },
   "cell_type": "markdown",
   "metadata": {},
   "source": [
    "![image.png](attachment:image.png)"
   ]
  },
  {
   "cell_type": "code",
   "execution_count": 201,
   "metadata": {},
   "outputs": [
    {
     "name": "stdout",
     "output_type": "stream",
     "text": [
      "yxcE, yxcD: 1\n",
      "yxiB, yxiA: 0\n"
     ]
    }
   ],
   "source": [
    "print(\"yxcE, yxcD:\", LogisticRegression.classify(model, [6, -173.143442352]))\n",
    "print(\"yxiB, yxiA:\", LogisticRegression.classify(model, [309, -271.005880394]))"
   ]
  },
  {
   "cell_type": "code",
   "execution_count": 202,
   "metadata": {},
   "outputs": [
    {
     "name": "stdout",
     "output_type": "stream",
     "text": [
      "class OP: probability = 0.9932421635025626 class NOP: probability = 0.006757836497437442\n"
     ]
    }
   ],
   "source": [
    "q, p = LogisticRegression.calculate(model, [6, -173.143442352])\n",
    "print(\"class OP: probability =\", p, \"class NOP: probability =\", q)"
   ]
  },
  {
   "cell_type": "code",
   "execution_count": 203,
   "metadata": {},
   "outputs": [
    {
     "name": "stdout",
     "output_type": "stream",
     "text": [
      "class OP: probability = 0.00032121125181733316 class NOP: probability = 0.9996787887481826\n"
     ]
    }
   ],
   "source": [
    "q, p = LogisticRegression.calculate(model, [309, -271.005880394])\n",
    "print(\"class OP: probability =\", p, \"class NOP: probability =\", q)"
   ]
  },
  {
   "cell_type": "markdown",
   "metadata": {},
   "source": [
    "These are pretty credible estimates given to us by our logistic regression classifier"
   ]
  },
  {
   "cell_type": "code",
   "execution_count": 205,
   "metadata": {},
   "outputs": [
    {
     "name": "stdout",
     "output_type": "stream",
     "text": [
      "Target: 1 Predicted: 1\n",
      "Target: 1 Predicted: 0\n",
      "Target: 1 Predicted: 1\n",
      "Target: 1 Predicted: 1\n",
      "Target: 1 Predicted: 1\n",
      "Target: 1 Predicted: 1\n",
      "Target: 1 Predicted: 1\n",
      "Target: 1 Predicted: 1\n",
      "Target: 1 Predicted: 1\n",
      "Target: 1 Predicted: 1\n",
      "Target: 0 Predicted: 0\n",
      "Target: 0 Predicted: 0\n",
      "Target: 0 Predicted: 0\n",
      "Target: 0 Predicted: 0\n",
      "Target: 0 Predicted: 1\n",
      "Target: 0 Predicted: 0\n",
      "Target: 0 Predicted: 0\n"
     ]
    }
   ],
   "source": [
    "# Leave one out\n",
    "for i in range(len(ys)):\n",
    "    model = LogisticRegression.train(xs[:i]+xs[i+1:], ys[:i]+ys[i+1:])\n",
    "    print(\"Target:\", ys[i], \"Predicted:\", LogisticRegression.classify(model, xs[i]))"
   ]
  },
  {
   "cell_type": "markdown",
   "metadata": {},
   "source": [
    "The leave-one-out analysis shows that the prediction of the logistic regression model is incorrect for only two\n",
    "of the gene pairs, which corresponds to a prediction accuracy of 88%."
   ]
  },
  {
   "cell_type": "code",
   "execution_count": 209,
   "metadata": {},
   "outputs": [
    {
     "data": {
      "text/html": [
       "<div>\n",
       "<style scoped>\n",
       "    .dataframe tbody tr th:only-of-type {\n",
       "        vertical-align: middle;\n",
       "    }\n",
       "\n",
       "    .dataframe tbody tr th {\n",
       "        vertical-align: top;\n",
       "    }\n",
       "\n",
       "    .dataframe thead th {\n",
       "        text-align: right;\n",
       "    }\n",
       "</style>\n",
       "<table border=\"1\" class=\"dataframe\">\n",
       "  <thead>\n",
       "    <tr style=\"text-align: right;\">\n",
       "      <th></th>\n",
       "      <th>inter-gene distance</th>\n",
       "      <th>gene expression similarity score</th>\n",
       "    </tr>\n",
       "  </thead>\n",
       "  <tbody>\n",
       "    <tr>\n",
       "      <th>0</th>\n",
       "      <td>-53</td>\n",
       "      <td>-200.78</td>\n",
       "    </tr>\n",
       "    <tr>\n",
       "      <th>1</th>\n",
       "      <td>117</td>\n",
       "      <td>-267.14</td>\n",
       "    </tr>\n",
       "    <tr>\n",
       "      <th>2</th>\n",
       "      <td>57</td>\n",
       "      <td>-163.47</td>\n",
       "    </tr>\n",
       "    <tr>\n",
       "      <th>3</th>\n",
       "      <td>16</td>\n",
       "      <td>-190.30</td>\n",
       "    </tr>\n",
       "    <tr>\n",
       "      <th>4</th>\n",
       "      <td>11</td>\n",
       "      <td>-220.94</td>\n",
       "    </tr>\n",
       "    <tr>\n",
       "      <th>5</th>\n",
       "      <td>85</td>\n",
       "      <td>-193.94</td>\n",
       "    </tr>\n",
       "    <tr>\n",
       "      <th>6</th>\n",
       "      <td>16</td>\n",
       "      <td>-182.71</td>\n",
       "    </tr>\n",
       "    <tr>\n",
       "      <th>7</th>\n",
       "      <td>15</td>\n",
       "      <td>-180.41</td>\n",
       "    </tr>\n",
       "    <tr>\n",
       "      <th>8</th>\n",
       "      <td>-26</td>\n",
       "      <td>-181.73</td>\n",
       "    </tr>\n",
       "    <tr>\n",
       "      <th>9</th>\n",
       "      <td>58</td>\n",
       "      <td>-259.87</td>\n",
       "    </tr>\n",
       "    <tr>\n",
       "      <th>10</th>\n",
       "      <td>126</td>\n",
       "      <td>-414.53</td>\n",
       "    </tr>\n",
       "    <tr>\n",
       "      <th>11</th>\n",
       "      <td>191</td>\n",
       "      <td>-249.57</td>\n",
       "    </tr>\n",
       "    <tr>\n",
       "      <th>12</th>\n",
       "      <td>113</td>\n",
       "      <td>-265.28</td>\n",
       "    </tr>\n",
       "    <tr>\n",
       "      <th>13</th>\n",
       "      <td>145</td>\n",
       "      <td>-312.99</td>\n",
       "    </tr>\n",
       "    <tr>\n",
       "      <th>14</th>\n",
       "      <td>154</td>\n",
       "      <td>-213.83</td>\n",
       "    </tr>\n",
       "    <tr>\n",
       "      <th>15</th>\n",
       "      <td>147</td>\n",
       "      <td>-380.85</td>\n",
       "    </tr>\n",
       "    <tr>\n",
       "      <th>16</th>\n",
       "      <td>93</td>\n",
       "      <td>-291.13</td>\n",
       "    </tr>\n",
       "  </tbody>\n",
       "</table>\n",
       "</div>"
      ],
      "text/plain": [
       "    inter-gene distance  gene expression similarity score\n",
       "0                   -53                           -200.78\n",
       "1                   117                           -267.14\n",
       "2                    57                           -163.47\n",
       "3                    16                           -190.30\n",
       "4                    11                           -220.94\n",
       "5                    85                           -193.94\n",
       "6                    16                           -182.71\n",
       "7                    15                           -180.41\n",
       "8                   -26                           -181.73\n",
       "9                    58                           -259.87\n",
       "10                  126                           -414.53\n",
       "11                  191                           -249.57\n",
       "12                  113                           -265.28\n",
       "13                  145                           -312.99\n",
       "14                  154                           -213.83\n",
       "15                  147                           -380.85\n",
       "16                   93                           -291.13"
      ]
     },
     "execution_count": 209,
     "metadata": {},
     "output_type": "execute_result"
    }
   ],
   "source": [
    "df = pd.DataFrame(data=xs, columns=['inter-gene distance', 'gene expression similarity score']); df"
   ]
  },
  {
   "cell_type": "code",
   "execution_count": 210,
   "metadata": {},
   "outputs": [
    {
     "data": {
      "text/plain": [
       "<matplotlib.axes._subplots.AxesSubplot at 0x1e7958ec390>"
      ]
     },
     "execution_count": 210,
     "metadata": {},
     "output_type": "execute_result"
    },
    {
     "data": {
      "image/png": "[encoded data removed]",
      "text/plain": [
       "<Figure size 432x288 with 1 Axes>"
      ]
     },
     "metadata": {
      "needs_background": "light"
     },
     "output_type": "display_data"
    }
   ],
   "source": [
    "df.iloc[0].plot()"
   ]
  },
  {
   "cell_type": "code",
   "execution_count": 216,
   "metadata": {},
   "outputs": [
    {
     "data": {
      "text/plain": [
       "<matplotlib.axes._subplots.AxesSubplot at 0x1e795b9e128>"
      ]
     },
     "execution_count": 216,
     "metadata": {},
     "output_type": "execute_result"
    },
    {
     "data": {
      "image/png": "[encoded data removed]",
      "text/plain": [
       "<Figure size 432x288 with 1 Axes>"
      ]
     },
     "metadata": {
      "needs_background": "light"
     },
     "output_type": "display_data"
    }
   ],
   "source": [
    "df.iloc[1].plot()"
   ]
  },
  {
   "cell_type": "code",
   "execution_count": 214,
   "metadata": {
    "scrolled": true
   },
   "outputs": [
    {
     "data": {
      "text/plain": [
       "<matplotlib.axes._subplots.AxesSubplot at 0x1e795b2bcc0>"
      ]
     },
     "execution_count": 214,
     "metadata": {},
     "output_type": "execute_result"
    },
    {
     "data": {
      "image/png": "[encoded data removed]",
      "text/plain": [
       "<Figure size 432x288 with 1 Axes>"
      ]
     },
     "metadata": {
      "needs_background": "light"
     },
     "output_type": "display_data"
    }
   ],
   "source": [
    "df.plot()"
   ]
  },
  {
   "cell_type": "code",
   "execution_count": 217,
   "metadata": {},
   "outputs": [
    {
     "data": {
      "text/html": [
       "<div>\n",
       "<style scoped>\n",
       "    .dataframe tbody tr th:only-of-type {\n",
       "        vertical-align: middle;\n",
       "    }\n",
       "\n",
       "    .dataframe tbody tr th {\n",
       "        vertical-align: top;\n",
       "    }\n",
       "\n",
       "    .dataframe thead th {\n",
       "        text-align: right;\n",
       "    }\n",
       "</style>\n",
       "<table border=\"1\" class=\"dataframe\">\n",
       "  <thead>\n",
       "    <tr style=\"text-align: right;\">\n",
       "      <th></th>\n",
       "      <th>inter-gene distance</th>\n",
       "      <th>gene expression similarity score</th>\n",
       "    </tr>\n",
       "  </thead>\n",
       "  <tbody>\n",
       "    <tr>\n",
       "      <th>count</th>\n",
       "      <td>17.000000</td>\n",
       "      <td>17.000000</td>\n",
       "    </tr>\n",
       "    <tr>\n",
       "      <th>mean</th>\n",
       "      <td>74.411765</td>\n",
       "      <td>-245.262941</td>\n",
       "    </tr>\n",
       "    <tr>\n",
       "      <th>std</th>\n",
       "      <td>69.760357</td>\n",
       "      <td>71.979062</td>\n",
       "    </tr>\n",
       "    <tr>\n",
       "      <th>min</th>\n",
       "      <td>-53.000000</td>\n",
       "      <td>-414.530000</td>\n",
       "    </tr>\n",
       "    <tr>\n",
       "      <th>25%</th>\n",
       "      <td>16.000000</td>\n",
       "      <td>-267.140000</td>\n",
       "    </tr>\n",
       "    <tr>\n",
       "      <th>50%</th>\n",
       "      <td>85.000000</td>\n",
       "      <td>-220.940000</td>\n",
       "    </tr>\n",
       "    <tr>\n",
       "      <th>75%</th>\n",
       "      <td>126.000000</td>\n",
       "      <td>-190.300000</td>\n",
       "    </tr>\n",
       "    <tr>\n",
       "      <th>max</th>\n",
       "      <td>191.000000</td>\n",
       "      <td>-163.470000</td>\n",
       "    </tr>\n",
       "  </tbody>\n",
       "</table>\n",
       "</div>"
      ],
      "text/plain": [
       "       inter-gene distance  gene expression similarity score\n",
       "count            17.000000                         17.000000\n",
       "mean             74.411765                       -245.262941\n",
       "std              69.760357                         71.979062\n",
       "min             -53.000000                       -414.530000\n",
       "25%              16.000000                       -267.140000\n",
       "50%              85.000000                       -220.940000\n",
       "75%             126.000000                       -190.300000\n",
       "max             191.000000                       -163.470000"
      ]
     },
     "execution_count": 217,
     "metadata": {},
     "output_type": "execute_result"
    }
   ],
   "source": [
    "df.describeribe()"
   ]
  },
  {
   "cell_type": "code",
   "execution_count": 223,
   "metadata": {},
   "outputs": [
    {
     "name": "stdout",
     "output_type": "stream",
     "text": [
      "Requirement already satisfied: scipy in d:\\code\\py\\corona-virus-analysis\\.env\\lib\\site-packages (1.4.1)\n",
      "Requirement already satisfied: numpy>=1.13.3 in d:\\code\\py\\corona-virus-analysis\\.env\\lib\\site-packages (from scipy) (1.18.1)\n",
      "Note: you may need to restart the kernel to use updated packages.\n"
     ]
    }
   ],
   "source": [
    "%pip install scipy"
   ]
  },
  {
   "cell_type": "code",
   "execution_count": 232,
   "metadata": {},
   "outputs": [],
   "source": [
    "import scipy\n",
    "import numpy as np\n",
    "def examine_distribution(sequence, title=''):\n",
    "    # Calculate statistics\n",
    "    mean = np.mean(sequence)\n",
    "    median = np.median(sequence)\n",
    "    mode = int(scipy.stats.mode(sequence).mode)\n",
    "    statistics = {'Mean':mean,'Median':median,'Mode':mode}\n",
    "\n",
    "    # Plot distribution\n",
    "    fig, ax = plt.subplots()\n",
    "    sns.distplot(sequence)\n",
    "    ax.axvline(mean, color='r', linestyle='--')\n",
    "    ax.axvline(median, color='g', linestyle='-')\n",
    "    ax.axvline(mode, color='b', linestyle='-')\n",
    "\n",
    "    plt.title(title.capitalize())\n",
    "    plt.legend(statistics)\n",
    "    plt.show()\n",
    "\n",
    "    for key, value in statistics.items():\n",
    "        print(f'\\t{key}={value:.2f}')"
   ]
  },
  {
   "cell_type": "code",
   "execution_count": 235,
   "metadata": {},
   "outputs": [
    {
     "data": {
      "image/png": "[encoded data removed]",
      "text/plain": [
       "<Figure size 432x288 with 1 Axes>"
      ]
     },
     "metadata": {
      "needs_background": "light"
     },
     "output_type": "display_data"
    },
    {
     "name": "stdout",
     "output_type": "stream",
     "text": [
      "\tMean=-126.89\n",
      "\tMedian=-126.89\n",
      "\tMode=-200.00\n"
     ]
    }
   ],
   "source": [
    "i = 0\n",
    "examine_distribution(df.iloc[i], title=df.columns[i])"
   ]
  },
  {
   "cell_type": "code",
   "execution_count": 236,
   "metadata": {},
   "outputs": [
    {
     "data": {
      "image/png": "[encoded data removed]",
      "text/plain": [
       "<Figure size 432x288 with 1 Axes>"
      ]
     },
     "metadata": {
      "needs_background": "light"
     },
     "output_type": "display_data"
    },
    {
     "name": "stdout",
     "output_type": "stream",
     "text": [
      "\tMean=-75.07\n",
      "\tMedian=-75.07\n",
      "\tMode=-267.00\n"
     ]
    }
   ],
   "source": [
    "i = 1\n",
    "examine_distribution(df.iloc[i], title=df.columns[i])"
   ]
  },
  {
   "cell_type": "markdown",
   "metadata": {},
   "source": [
    "These features look Gaussian, thus using Linear Discriminant Analysis should preform the best. <br>\n",
    "Additionally, a relevance vector machine would probably perform better than an SVM due to this feature as well."
   ]
  },
  {
   "cell_type": "code",
   "execution_count": 238,
   "metadata": {},
   "outputs": [],
   "source": [
    "from sklearn import svm"
   ]
  },
  {
   "cell_type": "code",
   "execution_count": 240,
   "metadata": {},
   "outputs": [
    {
     "data": {
      "text/plain": [
       "SVC(C=1.0, break_ties=False, cache_size=200, class_weight=None, coef0=0.0,\n",
       "    decision_function_shape='ovr', degree=3, gamma='scale', kernel='rbf',\n",
       "    max_iter=-1, probability=False, random_state=None, shrinking=True,\n",
       "    tol=0.001, verbose=False)"
      ]
     },
     "execution_count": 240,
     "metadata": {},
     "output_type": "execute_result"
    }
   ],
   "source": [
    "clf = svm.SVC()\n",
    "clf.fit(xs, ys)"
   ]
  },
  {
   "cell_type": "code",
   "execution_count": 243,
   "metadata": {},
   "outputs": [
    {
     "name": "stdout",
     "output_type": "stream",
     "text": [
      "Target: 1 Predicted: 1\n",
      "Target: 1 Predicted: 0\n",
      "Target: 1 Predicted: 1\n",
      "Target: 1 Predicted: 1\n",
      "Target: 1 Predicted: 1\n",
      "Target: 1 Predicted: 1\n",
      "Target: 1 Predicted: 1\n",
      "Target: 1 Predicted: 1\n",
      "Target: 1 Predicted: 1\n",
      "Target: 1 Predicted: 1\n",
      "Target: 0 Predicted: 0\n",
      "Target: 0 Predicted: 0\n",
      "Target: 0 Predicted: 0\n",
      "Target: 0 Predicted: 0\n",
      "Target: 0 Predicted: 0\n",
      "Target: 0 Predicted: 0\n",
      "Target: 0 Predicted: 0\n"
     ]
    }
   ],
   "source": [
    "# Using leave one out\n",
    "guesses = list()\n",
    "for i in range(len(ys)):\n",
    "    clf = svm.SVC()\n",
    "    model = clf.fit(xs[:i]+xs[i+1:], ys[:i]+ys[i+1:])\n",
    "    prediction = clf.predict(np.array(xs[i]).reshape(1,-1))[0]\n",
    "    print(\"Target:\", ys[i], \"Predicted:\", prediction)\n",
    "    guesses.append(ys[i] == prediction)"
   ]
  },
  {
   "cell_type": "code",
   "execution_count": 245,
   "metadata": {},
   "outputs": [
    {
     "name": "stdout",
     "output_type": "stream",
     "text": [
      "Accuracy: 0.9411764705882353\n"
     ]
    }
   ],
   "source": [
    "correct = 0\n",
    "for guess in guesses:\n",
    "    if guess == True:\n",
    "        correct += 1\n",
    "        \n",
    "print('Accuracy:', correct / len(guesses))"
   ]
  },
  {
   "cell_type": "code",
   "execution_count": 248,
   "metadata": {},
   "outputs": [
    {
     "name": "stdout",
     "output_type": "stream",
     "text": [
      "Target: 1 Predicted: 1\n",
      "Target: 1 Predicted: 0\n",
      "Target: 1 Predicted: 1\n",
      "Target: 1 Predicted: 1\n",
      "Target: 1 Predicted: 1\n",
      "Target: 1 Predicted: 1\n",
      "Target: 1 Predicted: 1\n",
      "Target: 1 Predicted: 1\n",
      "Target: 1 Predicted: 1\n",
      "Target: 1 Predicted: 1\n",
      "Target: 0 Predicted: 0\n",
      "Target: 0 Predicted: 0\n",
      "Target: 0 Predicted: 0\n",
      "Target: 0 Predicted: 0\n",
      "Target: 0 Predicted: 0\n",
      "Target: 0 Predicted: 0\n",
      "Target: 0 Predicted: 0\n"
     ]
    }
   ],
   "source": [
    "from sklearn.discriminant_analysis import LinearDiscriminantAnalysis\n",
    "\n",
    "# Using leave one out\n",
    "guesses = list()\n",
    "for i in range(len(ys)):\n",
    "    clf = LinearDiscriminantAnalysis()\n",
    "    model = clf.fit(xs[:i]+xs[i+1:], ys[:i]+ys[i+1:])\n",
    "    prediction = clf.predict(np.array(xs[i]).reshape(1,-1))[0]\n",
    "    print(\"Target:\", ys[i], \"Predicted:\", prediction)\n",
    "    guesses.append(ys[i] == prediction)"
   ]
  },
  {
   "cell_type": "code",
   "execution_count": 249,
   "metadata": {},
   "outputs": [
    {
     "name": "stdout",
     "output_type": "stream",
     "text": [
      "Accuracy: 0.9411764705882353\n"
     ]
    }
   ],
   "source": [
    "correct = 0\n",
    "for guess in guesses:\n",
    "    if guess == True:\n",
    "        correct += 1\n",
    "        \n",
    "print('Accuracy:', correct / len(guesses))"
   ]
  },
  {
   "cell_type": "markdown",
   "metadata": {},
   "source": [
    "Well, the SVM and the LDA produce the exact same accuracy."
   ]
  },
  {
   "cell_type": "markdown",
   "metadata": {},
   "source": [
    "## Task 12. Да се испрограмира алгоритмот на Nussinov како функција во `Python` која на влез ќе добива стринг од нуклеотиди, а на излез ќе ја дава нивната секундарна структура. \n",
    "Влез нека биде следната tRNA молекула: \n",
    "`ACCGCGGGGCGUCCGGCUCAGCUUGCCGCUGCGGAGCGCCGCAGUAGCCGAAACUUCCGGCUCGGGCCGUGGGCGGUCUCUAGUCGCCCCG`"
   ]
  },
  {
   "cell_type": "code",
   "execution_count": 1,
   "metadata": {},
   "outputs": [],
   "source": [
    "rna = 'GGGAAAUCC'"
   ]
  },
  {
   "cell_type": "code",
   "execution_count": 53,
   "metadata": {},
   "outputs": [
    {
     "name": "stdout",
     "output_type": "stream",
     "text": [
      "(9, 9)\n"
     ]
    },
    {
     "data": {
      "text/plain": [
       "array([[ 0., nan, nan, nan, nan, nan, nan, nan, nan],\n",
       "       [ 0.,  0., nan, nan, nan, nan, nan, nan, nan],\n",
       "       [nan,  0.,  0., nan, nan, nan, nan, nan, nan],\n",
       "       [nan, nan,  0.,  0., nan, nan, nan, nan, nan],\n",
       "       [nan, nan, nan,  0.,  0., nan, nan, nan, nan],\n",
       "       [nan, nan, nan, nan,  0.,  0., nan, nan, nan],\n",
       "       [nan, nan, nan, nan, nan,  0.,  0., nan, nan],\n",
       "       [nan, nan, nan, nan, nan, nan,  0.,  0., nan],\n",
       "       [nan, nan, nan, nan, nan, nan, nan,  0.,  0.]])"
      ]
     },
     "execution_count": 53,
     "metadata": {},
     "output_type": "execute_result"
    }
   ],
   "source": [
    "L = len(rna)\n",
    "M = np.zeros(shape=(L, L)); \n",
    "M[:] = np.nan\n",
    "\n",
    "# Initialize the main diagonal to zeros\n",
    "M[range(L), range(L)] = 0\n",
    "\n",
    "# Initialize the diagonal below the main diagonal to zeros\n",
    "M[range(1, L), range(L - 1)] = 0\n",
    "\n",
    "print(M.shape)\n",
    "M"
   ]
  },
  {
   "cell_type": "code",
   "execution_count": 21,
   "metadata": {},
   "outputs": [],
   "source": [
    "from Bio.Seq import Seq\n",
    "from Bio.Alphabet import IUPAC\n",
    "\n",
    "def complementary(nucleotide_a, nucleotide_b):\n",
    "    a_compliment = Seq(nucleotide_a, IUPAC.unambiguous_rna).complement()\n",
    "    \n",
    "    return a_compliment == nucleotide_b"
   ]
  },
  {
   "cell_type": "code",
   "execution_count": 129,
   "metadata": {},
   "outputs": [],
   "source": [
    "def initialize_nussinov_matrix(M, rna):\n",
    "    L = len(rna)\n",
    "\n",
    "    for n in range(1, L):\n",
    "        for i in range(L - n):\n",
    "            j = i + n\n",
    "\n",
    "            down = M[i + 1][j]  # 1st rule\n",
    "            left = M[i][j - 1]  # 2nd rule\n",
    "            diag_left_down = M[i + 1][j - 1] + complementary(rna[i], rna[j])  # 3rd rule\n",
    "            rc = max([M[i][k] + M[k + 1][j] for k in range(i, j)])  # 4th rule\n",
    "\n",
    "            M[i][j] = max(down, left, diag_left_down, rc)  # max of all\n",
    "\n",
    "    return M"
   ]
  },
  {
   "cell_type": "code",
   "execution_count": 98,
   "metadata": {},
   "outputs": [
    {
     "name": "stdout",
     "output_type": "stream",
     "text": [
      "0.0 0.0 0.0 0.0\n",
      "0.0 0.0 0.0 0.0\n",
      "0.0 0.0 0.0 0.0\n",
      "0.0 0.0 0.0 0.0\n",
      "0.0 0.0 0.0 0.0\n",
      "1.0 0.0 0.0 1.0\n",
      "2.0 1.0 2.0 2.0\n",
      "3.0 2.0 3.0 3.0\n"
     ]
    },
    {
     "data": {
      "text/html": [
       "<style  type=\"text/css\" >\n",
       "    #T_61e51f18_7cc9_11ea_9f83_10bf4885f553row0_col6 {\n",
       "            background-color:  yellow;\n",
       "        }    #T_61e51f18_7cc9_11ea_9f83_10bf4885f553row0_col7 {\n",
       "            background-color:  yellow;\n",
       "        }    #T_61e51f18_7cc9_11ea_9f83_10bf4885f553row0_col8 {\n",
       "            background-color:  yellow;\n",
       "        }    #T_61e51f18_7cc9_11ea_9f83_10bf4885f553row1_col6 {\n",
       "            background-color:  yellow;\n",
       "        }    #T_61e51f18_7cc9_11ea_9f83_10bf4885f553row1_col7 {\n",
       "            background-color:  yellow;\n",
       "        }    #T_61e51f18_7cc9_11ea_9f83_10bf4885f553row1_col8 {\n",
       "            background-color:  yellow;\n",
       "        }    #T_61e51f18_7cc9_11ea_9f83_10bf4885f553row2_col6 {\n",
       "            background-color:  yellow;\n",
       "        }    #T_61e51f18_7cc9_11ea_9f83_10bf4885f553row2_col7 {\n",
       "            background-color:  yellow;\n",
       "        }    #T_61e51f18_7cc9_11ea_9f83_10bf4885f553row2_col8 {\n",
       "            background-color:  yellow;\n",
       "        }    #T_61e51f18_7cc9_11ea_9f83_10bf4885f553row3_col6 {\n",
       "            background-color:  yellow;\n",
       "        }    #T_61e51f18_7cc9_11ea_9f83_10bf4885f553row3_col7 {\n",
       "            background-color:  yellow;\n",
       "        }    #T_61e51f18_7cc9_11ea_9f83_10bf4885f553row3_col8 {\n",
       "            background-color:  yellow;\n",
       "        }    #T_61e51f18_7cc9_11ea_9f83_10bf4885f553row4_col6 {\n",
       "            background-color:  yellow;\n",
       "        }    #T_61e51f18_7cc9_11ea_9f83_10bf4885f553row4_col7 {\n",
       "            background-color:  yellow;\n",
       "        }    #T_61e51f18_7cc9_11ea_9f83_10bf4885f553row4_col8 {\n",
       "            background-color:  yellow;\n",
       "        }    #T_61e51f18_7cc9_11ea_9f83_10bf4885f553row5_col6 {\n",
       "            background-color:  yellow;\n",
       "        }    #T_61e51f18_7cc9_11ea_9f83_10bf4885f553row5_col7 {\n",
       "            background-color:  yellow;\n",
       "        }    #T_61e51f18_7cc9_11ea_9f83_10bf4885f553row5_col8 {\n",
       "            background-color:  yellow;\n",
       "        }</style><table id=\"T_61e51f18_7cc9_11ea_9f83_10bf4885f553\" ><thead>    <tr>        <th class=\"blank level0\" ></th>        <th class=\"col_heading level0 col0\" >1</th>        <th class=\"col_heading level0 col1\" >2</th>        <th class=\"col_heading level0 col2\" >3</th>        <th class=\"col_heading level0 col3\" >4</th>        <th class=\"col_heading level0 col4\" >5</th>        <th class=\"col_heading level0 col5\" >6</th>        <th class=\"col_heading level0 col6\" >7</th>        <th class=\"col_heading level0 col7\" >8</th>        <th class=\"col_heading level0 col8\" >9</th>    </tr></thead><tbody>\n",
       "                <tr>\n",
       "                        <th id=\"T_61e51f18_7cc9_11ea_9f83_10bf4885f553level0_row0\" class=\"row_heading level0 row0\" >1</th>\n",
       "                        <td id=\"T_61e51f18_7cc9_11ea_9f83_10bf4885f553row0_col0\" class=\"data row0 col0\" >0.000000</td>\n",
       "                        <td id=\"T_61e51f18_7cc9_11ea_9f83_10bf4885f553row0_col1\" class=\"data row0 col1\" >0.000000</td>\n",
       "                        <td id=\"T_61e51f18_7cc9_11ea_9f83_10bf4885f553row0_col2\" class=\"data row0 col2\" >0.000000</td>\n",
       "                        <td id=\"T_61e51f18_7cc9_11ea_9f83_10bf4885f553row0_col3\" class=\"data row0 col3\" >0.000000</td>\n",
       "                        <td id=\"T_61e51f18_7cc9_11ea_9f83_10bf4885f553row0_col4\" class=\"data row0 col4\" >0.000000</td>\n",
       "                        <td id=\"T_61e51f18_7cc9_11ea_9f83_10bf4885f553row0_col5\" class=\"data row0 col5\" >0.000000</td>\n",
       "                        <td id=\"T_61e51f18_7cc9_11ea_9f83_10bf4885f553row0_col6\" class=\"data row0 col6\" >1.000000</td>\n",
       "                        <td id=\"T_61e51f18_7cc9_11ea_9f83_10bf4885f553row0_col7\" class=\"data row0 col7\" >2.000000</td>\n",
       "                        <td id=\"T_61e51f18_7cc9_11ea_9f83_10bf4885f553row0_col8\" class=\"data row0 col8\" >3.000000</td>\n",
       "            </tr>\n",
       "            <tr>\n",
       "                        <th id=\"T_61e51f18_7cc9_11ea_9f83_10bf4885f553level0_row1\" class=\"row_heading level0 row1\" >2</th>\n",
       "                        <td id=\"T_61e51f18_7cc9_11ea_9f83_10bf4885f553row1_col0\" class=\"data row1 col0\" >0.000000</td>\n",
       "                        <td id=\"T_61e51f18_7cc9_11ea_9f83_10bf4885f553row1_col1\" class=\"data row1 col1\" >0.000000</td>\n",
       "                        <td id=\"T_61e51f18_7cc9_11ea_9f83_10bf4885f553row1_col2\" class=\"data row1 col2\" >0.000000</td>\n",
       "                        <td id=\"T_61e51f18_7cc9_11ea_9f83_10bf4885f553row1_col3\" class=\"data row1 col3\" >0.000000</td>\n",
       "                        <td id=\"T_61e51f18_7cc9_11ea_9f83_10bf4885f553row1_col4\" class=\"data row1 col4\" >0.000000</td>\n",
       "                        <td id=\"T_61e51f18_7cc9_11ea_9f83_10bf4885f553row1_col5\" class=\"data row1 col5\" >0.000000</td>\n",
       "                        <td id=\"T_61e51f18_7cc9_11ea_9f83_10bf4885f553row1_col6\" class=\"data row1 col6\" >1.000000</td>\n",
       "                        <td id=\"T_61e51f18_7cc9_11ea_9f83_10bf4885f553row1_col7\" class=\"data row1 col7\" >2.000000</td>\n",
       "                        <td id=\"T_61e51f18_7cc9_11ea_9f83_10bf4885f553row1_col8\" class=\"data row1 col8\" >3.000000</td>\n",
       "            </tr>\n",
       "            <tr>\n",
       "                        <th id=\"T_61e51f18_7cc9_11ea_9f83_10bf4885f553level0_row2\" class=\"row_heading level0 row2\" >3</th>\n",
       "                        <td id=\"T_61e51f18_7cc9_11ea_9f83_10bf4885f553row2_col0\" class=\"data row2 col0\" >nan</td>\n",
       "                        <td id=\"T_61e51f18_7cc9_11ea_9f83_10bf4885f553row2_col1\" class=\"data row2 col1\" >0.000000</td>\n",
       "                        <td id=\"T_61e51f18_7cc9_11ea_9f83_10bf4885f553row2_col2\" class=\"data row2 col2\" >0.000000</td>\n",
       "                        <td id=\"T_61e51f18_7cc9_11ea_9f83_10bf4885f553row2_col3\" class=\"data row2 col3\" >0.000000</td>\n",
       "                        <td id=\"T_61e51f18_7cc9_11ea_9f83_10bf4885f553row2_col4\" class=\"data row2 col4\" >0.000000</td>\n",
       "                        <td id=\"T_61e51f18_7cc9_11ea_9f83_10bf4885f553row2_col5\" class=\"data row2 col5\" >0.000000</td>\n",
       "                        <td id=\"T_61e51f18_7cc9_11ea_9f83_10bf4885f553row2_col6\" class=\"data row2 col6\" >1.000000</td>\n",
       "                        <td id=\"T_61e51f18_7cc9_11ea_9f83_10bf4885f553row2_col7\" class=\"data row2 col7\" >2.000000</td>\n",
       "                        <td id=\"T_61e51f18_7cc9_11ea_9f83_10bf4885f553row2_col8\" class=\"data row2 col8\" >2.000000</td>\n",
       "            </tr>\n",
       "            <tr>\n",
       "                        <th id=\"T_61e51f18_7cc9_11ea_9f83_10bf4885f553level0_row3\" class=\"row_heading level0 row3\" >4</th>\n",
       "                        <td id=\"T_61e51f18_7cc9_11ea_9f83_10bf4885f553row3_col0\" class=\"data row3 col0\" >nan</td>\n",
       "                        <td id=\"T_61e51f18_7cc9_11ea_9f83_10bf4885f553row3_col1\" class=\"data row3 col1\" >nan</td>\n",
       "                        <td id=\"T_61e51f18_7cc9_11ea_9f83_10bf4885f553row3_col2\" class=\"data row3 col2\" >0.000000</td>\n",
       "                        <td id=\"T_61e51f18_7cc9_11ea_9f83_10bf4885f553row3_col3\" class=\"data row3 col3\" >0.000000</td>\n",
       "                        <td id=\"T_61e51f18_7cc9_11ea_9f83_10bf4885f553row3_col4\" class=\"data row3 col4\" >0.000000</td>\n",
       "                        <td id=\"T_61e51f18_7cc9_11ea_9f83_10bf4885f553row3_col5\" class=\"data row3 col5\" >0.000000</td>\n",
       "                        <td id=\"T_61e51f18_7cc9_11ea_9f83_10bf4885f553row3_col6\" class=\"data row3 col6\" >1.000000</td>\n",
       "                        <td id=\"T_61e51f18_7cc9_11ea_9f83_10bf4885f553row3_col7\" class=\"data row3 col7\" >1.000000</td>\n",
       "                        <td id=\"T_61e51f18_7cc9_11ea_9f83_10bf4885f553row3_col8\" class=\"data row3 col8\" >1.000000</td>\n",
       "            </tr>\n",
       "            <tr>\n",
       "                        <th id=\"T_61e51f18_7cc9_11ea_9f83_10bf4885f553level0_row4\" class=\"row_heading level0 row4\" >5</th>\n",
       "                        <td id=\"T_61e51f18_7cc9_11ea_9f83_10bf4885f553row4_col0\" class=\"data row4 col0\" >nan</td>\n",
       "                        <td id=\"T_61e51f18_7cc9_11ea_9f83_10bf4885f553row4_col1\" class=\"data row4 col1\" >nan</td>\n",
       "                        <td id=\"T_61e51f18_7cc9_11ea_9f83_10bf4885f553row4_col2\" class=\"data row4 col2\" >nan</td>\n",
       "                        <td id=\"T_61e51f18_7cc9_11ea_9f83_10bf4885f553row4_col3\" class=\"data row4 col3\" >0.000000</td>\n",
       "                        <td id=\"T_61e51f18_7cc9_11ea_9f83_10bf4885f553row4_col4\" class=\"data row4 col4\" >0.000000</td>\n",
       "                        <td id=\"T_61e51f18_7cc9_11ea_9f83_10bf4885f553row4_col5\" class=\"data row4 col5\" >0.000000</td>\n",
       "                        <td id=\"T_61e51f18_7cc9_11ea_9f83_10bf4885f553row4_col6\" class=\"data row4 col6\" >1.000000</td>\n",
       "                        <td id=\"T_61e51f18_7cc9_11ea_9f83_10bf4885f553row4_col7\" class=\"data row4 col7\" >1.000000</td>\n",
       "                        <td id=\"T_61e51f18_7cc9_11ea_9f83_10bf4885f553row4_col8\" class=\"data row4 col8\" >1.000000</td>\n",
       "            </tr>\n",
       "            <tr>\n",
       "                        <th id=\"T_61e51f18_7cc9_11ea_9f83_10bf4885f553level0_row5\" class=\"row_heading level0 row5\" >6</th>\n",
       "                        <td id=\"T_61e51f18_7cc9_11ea_9f83_10bf4885f553row5_col0\" class=\"data row5 col0\" >nan</td>\n",
       "                        <td id=\"T_61e51f18_7cc9_11ea_9f83_10bf4885f553row5_col1\" class=\"data row5 col1\" >nan</td>\n",
       "                        <td id=\"T_61e51f18_7cc9_11ea_9f83_10bf4885f553row5_col2\" class=\"data row5 col2\" >nan</td>\n",
       "                        <td id=\"T_61e51f18_7cc9_11ea_9f83_10bf4885f553row5_col3\" class=\"data row5 col3\" >nan</td>\n",
       "                        <td id=\"T_61e51f18_7cc9_11ea_9f83_10bf4885f553row5_col4\" class=\"data row5 col4\" >0.000000</td>\n",
       "                        <td id=\"T_61e51f18_7cc9_11ea_9f83_10bf4885f553row5_col5\" class=\"data row5 col5\" >0.000000</td>\n",
       "                        <td id=\"T_61e51f18_7cc9_11ea_9f83_10bf4885f553row5_col6\" class=\"data row5 col6\" >1.000000</td>\n",
       "                        <td id=\"T_61e51f18_7cc9_11ea_9f83_10bf4885f553row5_col7\" class=\"data row5 col7\" >1.000000</td>\n",
       "                        <td id=\"T_61e51f18_7cc9_11ea_9f83_10bf4885f553row5_col8\" class=\"data row5 col8\" >1.000000</td>\n",
       "            </tr>\n",
       "            <tr>\n",
       "                        <th id=\"T_61e51f18_7cc9_11ea_9f83_10bf4885f553level0_row6\" class=\"row_heading level0 row6\" >7</th>\n",
       "                        <td id=\"T_61e51f18_7cc9_11ea_9f83_10bf4885f553row6_col0\" class=\"data row6 col0\" >nan</td>\n",
       "                        <td id=\"T_61e51f18_7cc9_11ea_9f83_10bf4885f553row6_col1\" class=\"data row6 col1\" >nan</td>\n",
       "                        <td id=\"T_61e51f18_7cc9_11ea_9f83_10bf4885f553row6_col2\" class=\"data row6 col2\" >nan</td>\n",
       "                        <td id=\"T_61e51f18_7cc9_11ea_9f83_10bf4885f553row6_col3\" class=\"data row6 col3\" >nan</td>\n",
       "                        <td id=\"T_61e51f18_7cc9_11ea_9f83_10bf4885f553row6_col4\" class=\"data row6 col4\" >nan</td>\n",
       "                        <td id=\"T_61e51f18_7cc9_11ea_9f83_10bf4885f553row6_col5\" class=\"data row6 col5\" >0.000000</td>\n",
       "                        <td id=\"T_61e51f18_7cc9_11ea_9f83_10bf4885f553row6_col6\" class=\"data row6 col6\" >0.000000</td>\n",
       "                        <td id=\"T_61e51f18_7cc9_11ea_9f83_10bf4885f553row6_col7\" class=\"data row6 col7\" >0.000000</td>\n",
       "                        <td id=\"T_61e51f18_7cc9_11ea_9f83_10bf4885f553row6_col8\" class=\"data row6 col8\" >0.000000</td>\n",
       "            </tr>\n",
       "            <tr>\n",
       "                        <th id=\"T_61e51f18_7cc9_11ea_9f83_10bf4885f553level0_row7\" class=\"row_heading level0 row7\" >8</th>\n",
       "                        <td id=\"T_61e51f18_7cc9_11ea_9f83_10bf4885f553row7_col0\" class=\"data row7 col0\" >nan</td>\n",
       "                        <td id=\"T_61e51f18_7cc9_11ea_9f83_10bf4885f553row7_col1\" class=\"data row7 col1\" >nan</td>\n",
       "                        <td id=\"T_61e51f18_7cc9_11ea_9f83_10bf4885f553row7_col2\" class=\"data row7 col2\" >nan</td>\n",
       "                        <td id=\"T_61e51f18_7cc9_11ea_9f83_10bf4885f553row7_col3\" class=\"data row7 col3\" >nan</td>\n",
       "                        <td id=\"T_61e51f18_7cc9_11ea_9f83_10bf4885f553row7_col4\" class=\"data row7 col4\" >nan</td>\n",
       "                        <td id=\"T_61e51f18_7cc9_11ea_9f83_10bf4885f553row7_col5\" class=\"data row7 col5\" >nan</td>\n",
       "                        <td id=\"T_61e51f18_7cc9_11ea_9f83_10bf4885f553row7_col6\" class=\"data row7 col6\" >0.000000</td>\n",
       "                        <td id=\"T_61e51f18_7cc9_11ea_9f83_10bf4885f553row7_col7\" class=\"data row7 col7\" >0.000000</td>\n",
       "                        <td id=\"T_61e51f18_7cc9_11ea_9f83_10bf4885f553row7_col8\" class=\"data row7 col8\" >0.000000</td>\n",
       "            </tr>\n",
       "            <tr>\n",
       "                        <th id=\"T_61e51f18_7cc9_11ea_9f83_10bf4885f553level0_row8\" class=\"row_heading level0 row8\" >9</th>\n",
       "                        <td id=\"T_61e51f18_7cc9_11ea_9f83_10bf4885f553row8_col0\" class=\"data row8 col0\" >nan</td>\n",
       "                        <td id=\"T_61e51f18_7cc9_11ea_9f83_10bf4885f553row8_col1\" class=\"data row8 col1\" >nan</td>\n",
       "                        <td id=\"T_61e51f18_7cc9_11ea_9f83_10bf4885f553row8_col2\" class=\"data row8 col2\" >nan</td>\n",
       "                        <td id=\"T_61e51f18_7cc9_11ea_9f83_10bf4885f553row8_col3\" class=\"data row8 col3\" >nan</td>\n",
       "                        <td id=\"T_61e51f18_7cc9_11ea_9f83_10bf4885f553row8_col4\" class=\"data row8 col4\" >nan</td>\n",
       "                        <td id=\"T_61e51f18_7cc9_11ea_9f83_10bf4885f553row8_col5\" class=\"data row8 col5\" >nan</td>\n",
       "                        <td id=\"T_61e51f18_7cc9_11ea_9f83_10bf4885f553row8_col6\" class=\"data row8 col6\" >nan</td>\n",
       "                        <td id=\"T_61e51f18_7cc9_11ea_9f83_10bf4885f553row8_col7\" class=\"data row8 col7\" >0.000000</td>\n",
       "                        <td id=\"T_61e51f18_7cc9_11ea_9f83_10bf4885f553row8_col8\" class=\"data row8 col8\" >0.000000</td>\n",
       "            </tr>\n",
       "    </tbody></table>"
      ],
      "text/plain": [
       "<pandas.io.formats.style.Styler at 0x29460b30358>"
      ]
     },
     "execution_count": 98,
     "metadata": {},
     "output_type": "execute_result"
    }
   ],
   "source": [
    "def highlight_non_zeros(s):\n",
    "    # s stands for pd.Series\n",
    "    is_zero = (s > 0)\n",
    "    return ['background-color: yellow' if v else '' for v in is_zero]\n",
    "\n",
    "\n",
    "df = pd.DataFrame(data=initialize_nussinov_matrix(M, rna), columns=[i+1 for i in range(L)])\n",
    "df.index += 1\n",
    "# df.astype('int32').style.apply(highlight_non_zeros)\n",
    "df.style.apply(highlight_non_zeros)"
   ]
  },
  {
   "cell_type": "code",
   "execution_count": 70,
   "metadata": {},
   "outputs": [],
   "source": [
    "def traceback(M, rna, i, L, fold=None):\n",
    "    if fold is None:\n",
    "        fold = []\n",
    "\n",
    "    j = L\n",
    "\n",
    "    if i < j:\n",
    "        if M[i][j] == M[i + 1][j]:  # 1st rule\n",
    "            traceback(M, rna, i + 1, j, fold=fold)\n",
    "        elif M[i][j] == M[i][j - 1]:  # 2nd rule\n",
    "            traceback(M, rna, i, j - 1, fold=fold)\n",
    "        elif M[i][j] == M[i + 1][j - 1] + complementary(rna[i], rna[j]):  # 3rd rule\n",
    "            fold.append((i, j))\n",
    "            traceback(M, rna, i + 1, j - 1, fold=fold)\n",
    "        else:\n",
    "            for k in range(i + 1, j - 1):\n",
    "                if M[i][j] == M[i, k] + M[k + 1][j]:  # 4th rule\n",
    "                    traceback(M, rna, i, k, fold=fold)\n",
    "                    traceback(M, rna, k + 1, j, fold=fold)\n",
    "                    break\n",
    "\n",
    "    return fold"
   ]
  },
  {
   "cell_type": "code",
   "execution_count": 99,
   "metadata": {},
   "outputs": [
    {
     "data": {
      "text/html": [
       "<div>\n",
       "<style scoped>\n",
       "    .dataframe tbody tr th:only-of-type {\n",
       "        vertical-align: middle;\n",
       "    }\n",
       "\n",
       "    .dataframe tbody tr th {\n",
       "        vertical-align: top;\n",
       "    }\n",
       "\n",
       "    .dataframe thead th {\n",
       "        text-align: right;\n",
       "    }\n",
       "</style>\n",
       "<table border=\"1\" class=\"dataframe\">\n",
       "  <thead>\n",
       "    <tr style=\"text-align: right;\">\n",
       "      <th></th>\n",
       "      <th>G</th>\n",
       "      <th>G</th>\n",
       "      <th>G</th>\n",
       "      <th>A</th>\n",
       "      <th>A</th>\n",
       "      <th>A</th>\n",
       "      <th>U</th>\n",
       "      <th>C</th>\n",
       "      <th>C</th>\n",
       "    </tr>\n",
       "  </thead>\n",
       "  <tbody>\n",
       "    <tr>\n",
       "      <th>G</th>\n",
       "      <td>0.0</td>\n",
       "      <td>0.0</td>\n",
       "      <td>0.0</td>\n",
       "      <td>0.0</td>\n",
       "      <td>0.0</td>\n",
       "      <td>0.0</td>\n",
       "      <td>1.0</td>\n",
       "      <td>2.0</td>\n",
       "      <td>3.0</td>\n",
       "    </tr>\n",
       "    <tr>\n",
       "      <th>G</th>\n",
       "      <td>0.0</td>\n",
       "      <td>0.0</td>\n",
       "      <td>0.0</td>\n",
       "      <td>0.0</td>\n",
       "      <td>0.0</td>\n",
       "      <td>0.0</td>\n",
       "      <td>1.0</td>\n",
       "      <td>2.0</td>\n",
       "      <td>3.0</td>\n",
       "    </tr>\n",
       "    <tr>\n",
       "      <th>G</th>\n",
       "      <td>NaN</td>\n",
       "      <td>0.0</td>\n",
       "      <td>0.0</td>\n",
       "      <td>0.0</td>\n",
       "      <td>0.0</td>\n",
       "      <td>0.0</td>\n",
       "      <td>1.0</td>\n",
       "      <td>2.0</td>\n",
       "      <td>2.0</td>\n",
       "    </tr>\n",
       "    <tr>\n",
       "      <th>A</th>\n",
       "      <td>NaN</td>\n",
       "      <td>NaN</td>\n",
       "      <td>0.0</td>\n",
       "      <td>0.0</td>\n",
       "      <td>0.0</td>\n",
       "      <td>0.0</td>\n",
       "      <td>1.0</td>\n",
       "      <td>1.0</td>\n",
       "      <td>1.0</td>\n",
       "    </tr>\n",
       "    <tr>\n",
       "      <th>A</th>\n",
       "      <td>NaN</td>\n",
       "      <td>NaN</td>\n",
       "      <td>NaN</td>\n",
       "      <td>0.0</td>\n",
       "      <td>0.0</td>\n",
       "      <td>0.0</td>\n",
       "      <td>1.0</td>\n",
       "      <td>1.0</td>\n",
       "      <td>1.0</td>\n",
       "    </tr>\n",
       "    <tr>\n",
       "      <th>A</th>\n",
       "      <td>NaN</td>\n",
       "      <td>NaN</td>\n",
       "      <td>NaN</td>\n",
       "      <td>NaN</td>\n",
       "      <td>0.0</td>\n",
       "      <td>0.0</td>\n",
       "      <td>1.0</td>\n",
       "      <td>1.0</td>\n",
       "      <td>1.0</td>\n",
       "    </tr>\n",
       "    <tr>\n",
       "      <th>U</th>\n",
       "      <td>NaN</td>\n",
       "      <td>NaN</td>\n",
       "      <td>NaN</td>\n",
       "      <td>NaN</td>\n",
       "      <td>NaN</td>\n",
       "      <td>0.0</td>\n",
       "      <td>0.0</td>\n",
       "      <td>0.0</td>\n",
       "      <td>0.0</td>\n",
       "    </tr>\n",
       "    <tr>\n",
       "      <th>C</th>\n",
       "      <td>NaN</td>\n",
       "      <td>NaN</td>\n",
       "      <td>NaN</td>\n",
       "      <td>NaN</td>\n",
       "      <td>NaN</td>\n",
       "      <td>NaN</td>\n",
       "      <td>0.0</td>\n",
       "      <td>0.0</td>\n",
       "      <td>0.0</td>\n",
       "    </tr>\n",
       "    <tr>\n",
       "      <th>C</th>\n",
       "      <td>NaN</td>\n",
       "      <td>NaN</td>\n",
       "      <td>NaN</td>\n",
       "      <td>NaN</td>\n",
       "      <td>NaN</td>\n",
       "      <td>NaN</td>\n",
       "      <td>NaN</td>\n",
       "      <td>0.0</td>\n",
       "      <td>0.0</td>\n",
       "    </tr>\n",
       "  </tbody>\n",
       "</table>\n",
       "</div>"
      ],
      "text/plain": [
       "     G    G    G    A    A    A    U    C    C\n",
       "G  0.0  0.0  0.0  0.0  0.0  0.0  1.0  2.0  3.0\n",
       "G  0.0  0.0  0.0  0.0  0.0  0.0  1.0  2.0  3.0\n",
       "G  NaN  0.0  0.0  0.0  0.0  0.0  1.0  2.0  2.0\n",
       "A  NaN  NaN  0.0  0.0  0.0  0.0  1.0  1.0  1.0\n",
       "A  NaN  NaN  NaN  0.0  0.0  0.0  1.0  1.0  1.0\n",
       "A  NaN  NaN  NaN  NaN  0.0  0.0  1.0  1.0  1.0\n",
       "U  NaN  NaN  NaN  NaN  NaN  0.0  0.0  0.0  0.0\n",
       "C  NaN  NaN  NaN  NaN  NaN  NaN  0.0  0.0  0.0\n",
       "C  NaN  NaN  NaN  NaN  NaN  NaN  NaN  0.0  0.0"
      ]
     },
     "execution_count": 99,
     "metadata": {},
     "output_type": "execute_result"
    }
   ],
   "source": [
    "names = list(rna); names\n",
    "pd.DataFrame(data=M, index = names, columns = names)"
   ]
  },
  {
   "cell_type": "code",
   "execution_count": 104,
   "metadata": {},
   "outputs": [
    {
     "data": {
      "text/plain": [
       "[(1, 8), (2, 7), (5, 6)]"
      ]
     },
     "execution_count": 104,
     "metadata": {},
     "output_type": "execute_result"
    }
   ],
   "source": [
    "traceback(M, rna, i=0, L=L-1, fold=list())"
   ]
  },
  {
   "cell_type": "code",
   "execution_count": 123,
   "metadata": {
    "scrolled": true
   },
   "outputs": [
    {
     "name": "stdout",
     "output_type": "stream",
     "text": [
      "G(G(GAA(AU)C)C)\n"
     ]
    }
   ],
   "source": [
    "def present_nussinov_result(folds: list, rna: list):\n",
    "    # make a copy of the rna sequence\n",
    "    result = list((rna + '.')[:-1] )\n",
    "    \n",
    "    s = 0\n",
    "    for boundary_pair in folds[::-1]:\n",
    "        l, r = boundary_pair\n",
    "        result.insert(l  , '(')\n",
    "        result.insert(r + s + 2, ')')\n",
    "        s += 2    \n",
    "    \n",
    "    return result\n",
    "    \n",
    "folds = [(1, 8), (2, 7), (5, 6)]\n",
    "presentation: list = present_nussinov_result(folds, rna)\n",
    "print(''.join(presentation))"
   ]
  },
  {
   "cell_type": "code",
   "execution_count": 132,
   "metadata": {},
   "outputs": [
    {
     "name": "stdout",
     "output_type": "stream",
     "text": [
      "GGGAAAUCC\n",
      ".((..()))\n"
     ]
    }
   ],
   "source": [
    "def dot_write(rna, fold):\n",
    "    dot = [\".\" for i in range(len(rna))]\n",
    "\n",
    "    for s in fold:\n",
    "        dot[min(s)] = \"(\"\n",
    "        dot[max(s)] = \")\"\n",
    "\n",
    "    return \"\".join(dot)\n",
    "\n",
    "rna = 'GGGAAAUCC'\n",
    "print(rna)\n",
    "print(dot_write(rna, folds))"
   ]
  },
  {
   "cell_type": "code",
   "execution_count": 127,
   "metadata": {},
   "outputs": [],
   "source": [
    "def nussinov_dot_write(rna):\n",
    "    L = len(rna)\n",
    "    M = np.zeros(shape=(L, L)); \n",
    "    M[:] = np.nan\n",
    "\n",
    "    # Initialize the main diagonal to zeros\n",
    "    M[range(L), range(L)] = 0\n",
    "\n",
    "    # Initialize the diagonal below the main diagonal to zeros\n",
    "    M[range(1, L), range(L - 1)] = 0\n",
    "    \n",
    "    M = initialize_nussinov_matrix(M, rna)\n",
    "    folds = traceback(M, rna, i=0, L=L-1, fold=list())\n",
    "    return dot_write(rna, folds)"
   ]
  },
  {
   "cell_type": "code",
   "execution_count": 130,
   "metadata": {},
   "outputs": [
    {
     "name": "stdout",
     "output_type": "stream",
     "text": [
      "ACCGCGGGGCGUCCGGCUCAGCUUGCCGCUGCGGAGCGCCGCAGUAGCCGAAACUUCCGGCUCGGGCCGUGGGCGGUCUCUAGUCGCCCCG\n",
      "(((()))((().))(().)(()))(((((.))))(()()(((((()()((.((.)))())))())())))((((((.).(()).)))))).\n"
     ]
    }
   ],
   "source": [
    "rna = 'ACCGCGGGGCGUCCGGCUCAGCUUGCCGCUGCGGAGCGCCGCAGUAGCCGAAACUUCCGGCUCGGGCCGUGGGCGGUCUCUAGUCGCCCCG'\n",
    "dot_writen_rna = nussinov_dot_write(rna)\n",
    "print(rna)\n",
    "print(dot_writen_rna)"
   ]
  },
  {
   "cell_type": "markdown",
   "metadata": {},
   "source": [
    "## Task 13. Да се истражи можноста на `biopython` за одредување на секундарна структура опишана во поглавје 11.6.8."
   ]
  },
  {
   "cell_type": "markdown",
   "metadata": {},
   "source": [
    "On the following link we can find a binary release which can be perhaps built using the make command which depends on a c++ 11 compiler. <br>\n",
    "https://github.com/cmbi/hssp/releases <br>\n",
    "<br>\n",
    "\n",
    "From the following link: <br>\n",
    "https://swift.cmbi.umcn.nl/gv/dssp/DSSP_3.html <br>\n",
    "The author writes: <br>\n",
    "> Running DSSP at a Windows machine\n",
    "> Although I generally discourage people in Bioinformatics from using Windows as their operating system, we have made available a Windows version of DSSP.\n",
    "> You must run Windows DSSP from a cmd window, using the same commands as described for the Unix system that are listed above. \n",
    "\n",
    "<br>\n",
    "\n",
    "Indicating that it is, in fact, possible to run this in-house database on a Windows machine, but it simply seems as too grand of an instalation procedure just for a simply exercise.\n",
    "\n"
   ]
  },
  {
   "cell_type": "markdown",
   "metadata": {},
   "source": [
    "Additionally, on the following link: <br>\n",
    "https://github.com/ggirelli/oligo-melting <br>\n",
    "is provided a `Python` package for melting temperature calculation of oligonucleotides hybridization and secondary structures"
   ]
  },
  {
   "cell_type": "code",
   "execution_count": 133,
   "metadata": {},
   "outputs": [
    {
     "name": "stdout",
     "output_type": "stream",
     "text": [
      "Collecting oligo-melting\n",
      "  Downloading oligo_melting-2.0.1.post3.tar.gz (15 kB)\n",
      "Requirement already satisfied: biopython in d:\\code\\py\\corona-virus-analysis\\.env\\lib\\site-packages (from oligo-melting) (1.76)\n",
      "Requirement already satisfied: numpy in d:\\code\\py\\corona-virus-analysis\\.env\\lib\\site-packages (from biopython->oligo-melting) (1.18.1)\n",
      "Installing collected packages: oligo-melting\n",
      "    Running setup.py install for oligo-melting: started\n",
      "    Running setup.py install for oligo-melting: finished with status 'done'\n",
      "Successfully installed oligo-melting-2.0.1.post3\n",
      "Note: you may need to restart the kernel to use updated packages.\n"
     ]
    }
   ],
   "source": [
    "%pip install oligo-melting"
   ]
  },
  {
   "cell_type": "code",
   "execution_count": 134,
   "metadata": {},
   "outputs": [
    {
     "name": "stdout",
     "output_type": "stream",
     "text": [
      "323.4192862874882\n",
      "319.96595707208735\n"
     ]
    }
   ],
   "source": [
    "import oligo_melting as OligoMelt\n",
    "\n",
    "seq = \"CAGTCAGTCGATC\"\n",
    "\n",
    "# Calculate melting temperature for 25uM oligos\n",
    "(name, g, h, s, tm, seq) = OligoMelt.Duplex.calc_tm(seq, oligo_conc = 25e-6)\n",
    "print(tm)\n",
    "\n",
    "# Adjust for 300 mM [Na+]\n",
    "tm = OligoMelt.Duplex.adj_ions(tm, 0.3, 0, seq)\n",
    "print(tm)"
   ]
  },
  {
   "cell_type": "markdown",
   "metadata": {},
   "source": [
    "This package doesn't seem to have what we're looking for. <br>\n",
    "<br>\n",
    "And once more, all of the packages listed in the comments of this website: <br>\n",
    "https://www.biostars.org/p/79426/ <br>\n",
    "depend on a UNIX distribution"
   ]
  },
  {
   "cell_type": "code",
   "execution_count": 135,
   "metadata": {
    "collapsed": true
   },
   "outputs": [
    {
     "name": "stdout",
     "output_type": "stream",
     "text": [
      "Note: you may need to restart the kernel to use updated packages.Collecting rna-tools\n",
      "  Downloading rna_tools-3.1.15-py3-none-any.whl (29.9 MB)\n",
      "Collecting versioneer\n",
      "  Downloading versioneer-0.18-py2.py3-none-any.whl (34 kB)\n",
      "\n",
      "Requirement already satisfied: numpy in d:\\code\\py\\corona-virus-analysis\\.env\\lib\\site-packages (from rna-tools) (1.18.1)\n",
      "Collecting configparser\n",
      "  Downloading configparser-5.0.0-py3-none-any.whl (22 kB)\n",
      "Collecting progressbar2\n",
      "  Downloading progressbar2-3.50.1-py2.py3-none-any.whl (51 kB)\n",
      "Requirement already satisfied: biopython in d:\\code\\py\\corona-virus-analysis\\.env\\lib\\site-packages (from rna-tools) (1.76)\n",
      "Collecting sphinx-rtd-theme\n",
      "  Downloading sphinx_rtd_theme-0.4.3-py2.py3-none-any.whl (6.4 MB)\n",
      "Collecting sphinxcontrib-napoleon\n",
      "  Downloading sphinxcontrib_napoleon-0.7-py2.py3-none-any.whl (17 kB)\n",
      "Collecting sphinx-argparse==0.1.15\n",
      "  Downloading sphinx-argparse-0.1.15.tar.gz (6.0 kB)\n",
      "Collecting urllib3\n",
      "  Using cached urllib3-1.25.8-py2.py3-none-any.whl (125 kB)\n",
      "Collecting sphinx==1.6.7\n",
      "  Downloading Sphinx-1.6.7-py2.py3-none-any.whl (1.9 MB)\n",
      "Collecting python-utils>=2.3.0\n",
      "  Downloading python_utils-2.4.0-py2.py3-none-any.whl (12 kB)\n",
      "Requirement already satisfied: six in d:\\code\\py\\corona-virus-analysis\\.env\\lib\\site-packages (from progressbar2->rna-tools) (1.14.0)\n",
      "Collecting pockets>=0.3\n",
      "  Downloading pockets-0.9.1-py2.py3-none-any.whl (26 kB)\n",
      "Collecting requests>=2.0.0\n",
      "  Using cached requests-2.23.0-py2.py3-none-any.whl (58 kB)\n",
      "Collecting imagesize\n",
      "  Downloading imagesize-1.2.0-py2.py3-none-any.whl (4.8 kB)\n",
      "Collecting docutils>=0.11\n",
      "  Downloading docutils-0.16-py2.py3-none-any.whl (548 kB)\n",
      "Requirement already satisfied: colorama>=0.3.5; sys_platform == \"win32\" in d:\\code\\py\\corona-virus-analysis\\.env\\lib\\site-packages (from sphinx==1.6.7->rna-tools) (0.4.3)\n",
      "Requirement already satisfied: setuptools in d:\\code\\py\\corona-virus-analysis\\.env\\lib\\site-packages (from sphinx==1.6.7->rna-tools) (40.6.2)\n",
      "Requirement already satisfied: Pygments>=2.0 in d:\\code\\py\\corona-virus-analysis\\.env\\lib\\site-packages (from sphinx==1.6.7->rna-tools) (2.5.2)\n",
      "Collecting sphinxcontrib-websupport\n",
      "  Downloading sphinxcontrib_websupport-1.2.1-py2.py3-none-any.whl (39 kB)\n",
      "Collecting snowballstemmer>=1.1\n",
      "  Downloading snowballstemmer-2.0.0-py2.py3-none-any.whl (97 kB)\n",
      "Requirement already satisfied: Jinja2>=2.3 in d:\\code\\py\\corona-virus-analysis\\.env\\lib\\site-packages (from sphinx==1.6.7->rna-tools) (2.11.1)\n",
      "Collecting babel!=2.0,>=1.3\n",
      "  Downloading Babel-2.8.0-py2.py3-none-any.whl (8.6 MB)\n",
      "Collecting alabaster<0.8,>=0.7\n",
      "  Downloading alabaster-0.7.12-py2.py3-none-any.whl (14 kB)\n",
      "Collecting chardet<4,>=3.0.2\n",
      "  Using cached chardet-3.0.4-py2.py3-none-any.whl (133 kB)\n",
      "Collecting idna<3,>=2.5\n",
      "  Using cached idna-2.9-py2.py3-none-any.whl (58 kB)\n",
      "Collecting certifi>=2017.4.17\n",
      "  Downloading certifi-2020.4.5.1-py2.py3-none-any.whl (157 kB)\n",
      "Requirement already satisfied: MarkupSafe>=0.23 in d:\\code\\py\\corona-virus-analysis\\.env\\lib\\site-packages (from Jinja2>=2.3->sphinx==1.6.7->rna-tools) (1.1.1)\n",
      "Requirement already satisfied: pytz>=2015.7 in d:\\code\\py\\corona-virus-analysis\\.env\\lib\\site-packages (from babel!=2.0,>=1.3->sphinx==1.6.7->rna-tools) (2019.3)\n",
      "Installing collected packages: versioneer, configparser, python-utils, progressbar2, chardet, urllib3, idna, certifi, requests, imagesize, docutils, sphinxcontrib-websupport, snowballstemmer, babel, alabaster, sphinx, sphinx-rtd-theme, pockets, sphinxcontrib-napoleon, sphinx-argparse, rna-tools\n",
      "    Running setup.py install for sphinx-argparse: started\n",
      "    Running setup.py install for sphinx-argparse: finished with status 'done'\n",
      "Successfully installed alabaster-0.7.12 babel-2.8.0 certifi-2020.4.5.1 chardet-3.0.4 configparser-5.0.0 docutils-0.16 idna-2.9 imagesize-1.2.0 pockets-0.9.1 progressbar2-3.50.1 python-utils-2.4.0 requests-2.23.0 rna-tools-3.1.15 snowballstemmer-2.0.0 sphinx-1.6.7 sphinx-argparse-0.1.15 sphinx-rtd-theme-0.4.3 sphinxcontrib-napoleon-0.7 sphinxcontrib-websupport-1.2.1 urllib3-1.25.8 versioneer-0.18\n"
     ]
    }
   ],
   "source": [
    "%pip install rna-tools"
   ]
  },
  {
   "cell_type": "code",
   "execution_count": 144,
   "metadata": {
    "scrolled": true
   },
   "outputs": [
    {
     "ename": "TypeError",
     "evalue": "'module' object is not callable",
     "output_type": "error",
     "traceback": [
      "\u001b[1;31m---------------------------------------------------------------------------\u001b[0m",
      "\u001b[1;31mTypeError\u001b[0m                                 Traceback (most recent call last)",
      "\u001b[1;32m<ipython-input-144-f7132af2e187>\u001b[0m in \u001b[0;36m<module>\u001b[1;34m\u001b[0m\n\u001b[0;32m      5\u001b[0m \u001b[1;33m\u001b[0m\u001b[0m\n\u001b[0;32m      6\u001b[0m \u001b[0mseq\u001b[0m \u001b[1;33m=\u001b[0m \u001b[0mRNASequence\u001b[0m\u001b[1;33m(\u001b[0m\u001b[1;34m\"GGCGCGGCACCGUCCGCGGAACAAACGG\"\u001b[0m\u001b[1;33m)\u001b[0m\u001b[1;33m\u001b[0m\u001b[1;33m\u001b[0m\u001b[0m\n\u001b[1;32m----> 7\u001b[1;33m \u001b[0mrs\u001b[0m \u001b[1;33m=\u001b[0m \u001b[0mRfamSearch\u001b[0m\u001b[1;33m(\u001b[0m\u001b[1;33m)\u001b[0m\u001b[1;33m\u001b[0m\u001b[1;33m\u001b[0m\u001b[0m\n\u001b[0m\u001b[0;32m      8\u001b[0m \u001b[0mhit\u001b[0m \u001b[1;33m=\u001b[0m \u001b[0mrs\u001b[0m\u001b[1;33m.\u001b[0m\u001b[0mcmscan\u001b[0m\u001b[1;33m(\u001b[0m\u001b[0mseq\u001b[0m\u001b[1;33m)\u001b[0m\u001b[1;33m\u001b[0m\u001b[1;33m\u001b[0m\u001b[0m\n\u001b[0;32m      9\u001b[0m \u001b[0mprint\u001b[0m\u001b[1;33m(\u001b[0m\u001b[0mhit\u001b[0m\u001b[1;33m)\u001b[0m\u001b[1;33m\u001b[0m\u001b[1;33m\u001b[0m\u001b[0m\n",
      "\u001b[1;31mTypeError\u001b[0m: 'module' object is not callable"
     ]
    }
   ],
   "source": [
    "# https://rna-tools.readthedocs.io/en/latest/tools.html#secondary-structure-format-conversion\n",
    "\n",
    "from rna_tools.Seq import RNASequence\n",
    "from rna_tools import RfamSearch\n",
    "\n",
    "seq = RNASequence(\"GGCGCGGCACCGUCCGCGGAACAAACGG\")\n",
    "rs = RfamSearch()\n",
    "hit = rs.cmscan(seq)\n",
    "print(hit)  "
   ]
  },
  {
   "cell_type": "code",
   "execution_count": 146,
   "metadata": {},
   "outputs": [
    {
     "name": "stdout",
     "output_type": "stream",
     "text": [
      ">MN908947.3 Severe acute respiratory syndrome coronavirus 2 isolate Wuhan-Hu-1, complete genome\n",
      "\n",
      "ATTAAAGGTTTATACCTTCCCAGGTAACAAACCAACCAACTTTCGATCTCTTGTAGATCTGTTCTCTAAA\n",
      "\n",
      "Set up CONTEXTFOLD_PATH in configuration.\n"
     ]
    },
    {
     "ename": "SystemExit",
     "evalue": "0",
     "output_type": "error",
     "traceback": [
      "An exception has occurred, use %tb to see the full traceback.\n",
      "\u001b[1;31mSystemExit\u001b[0m\u001b[1;31m:\u001b[0m 0\n"
     ]
    },
    {
     "name": "stderr",
     "output_type": "stream",
     "text": [
      "D:\\code\\py\\corona-virus-analysis\\.env\\lib\\site-packages\\IPython\\core\\interactiveshell.py:3339: UserWarning: To exit: use 'exit', 'quit', or Ctrl-D.\n",
      "  warn(\"To exit: use 'exit', 'quit', or Ctrl-D.\", stacklevel=1)\n"
     ]
    }
   ],
   "source": [
    "# https://rna-tools.readthedocs.io/en/latest/tools.html#module-rna_tools.Seq\n",
    "\n",
    "from Bio import SeqIO\n",
    "from rna_tools import Seq\n",
    "\n",
    "sars_cov_2_file = os.path.join(defs.DATA_DIR, 'MN908947.fna')\n",
    "sars_cov_2_record = list(SeqIO.parse(sars_cov_2_file, 'fasta'))[0]\n",
    "\n",
    "f = open(sars_cov_2_file)\n",
    "\n",
    "for line in f:\n",
    "    if line.startswith('>'):\n",
    "        print(line)\n",
    "    else:\n",
    "        print(line)\n",
    "        s = RNASequence(line.strip()) # module first Seq and class second Seq #without strip this has two lines\n",
    "        print(s.predict_ss(method=\"contextfold\"))"
   ]
  },
  {
   "cell_type": "markdown",
   "metadata": {},
   "source": [
    "I downloaded a windows installer <br>\n",
    "ftp://ftp.cmbi.ru.nl/pub/software/dssp/ <br>\n",
    "<br>\n",
    "I found a protein from sars-cov-2 online <br>\n",
    "https://www.rcsb.org/structure/6LU7 <br>\n",
    "downloaded in PDB format <br>\n",
    "<br>\n",
    "I ran this command in `cmd` using the windows installer i downloaded: <br>\n",
    "`D:\\Browser Downloads>`<b>`dssp-2.0.4-win32.exe 6lu7.pdb -o sars_cov_2.dssp`</b> <br>"
   ]
  },
  {
   "attachments": {
    "image.png": {
     "image/png": "[encoded data removed]"
    }
   },
   "cell_type": "markdown",
   "metadata": {},
   "source": [
    "![image.png](attachment:image.png)"
   ]
  },
  {
   "attachments": {
    "image.png": {
     "image/png": "[encoded data removed]"
    }
   },
   "cell_type": "markdown",
   "metadata": {},
   "source": [
    "![image.png](attachment:image.png)"
   ]
  },
  {
   "cell_type": "markdown",
   "metadata": {},
   "source": [
    "here are some useful links: <br>\n",
    "https://swift.cmbi.umcn.nl/gv/dssp/HTML/descrip.html <br>\n",
    "https://swift.cmbi.umcn.nl/gv/dssp/DSSP_3.html <br>"
   ]
  },
  {
   "cell_type": "code",
   "execution_count": 163,
   "metadata": {},
   "outputs": [
    {
     "data": {
      "text/plain": [
       "'D:\\\\code\\\\py\\\\corona-virus-analysis\\\\data\\\\6lu7.pdb'"
      ]
     },
     "execution_count": 163,
     "metadata": {},
     "output_type": "execute_result"
    }
   ],
   "source": [
    "pdb_file"
   ]
  },
  {
   "cell_type": "code",
   "execution_count": 164,
   "metadata": {
    "scrolled": true
   },
   "outputs": [
    {
     "name": "stdout",
     "output_type": "stream",
     "text": [
      "D:\\code\\py\\corona-virus-analysis\n"
     ]
    }
   ],
   "source": [
    "%cd \"D:\\code\\py\\corona-virus-analysis\\\""
   ]
  },
  {
   "cell_type": "code",
   "execution_count": 166,
   "metadata": {},
   "outputs": [
    {
     "name": "stderr",
     "output_type": "stream",
     "text": [
      "D:\\code\\py\\corona-virus-analysis\\.env\\lib\\site-packages\\Bio\\PDB\\StructureBuilder.py:92: PDBConstructionWarning: WARNING: Chain A is discontinuous at line 2824.\n",
      "  PDBConstructionWarning,\n"
     ]
    }
   ],
   "source": [
    "# I'm trying something:\n",
    "\n",
    "# https://biopython.org/DIST/docs/api/Bio.PDB.DSSP%27.DSSP-class.html\n",
    "\n",
    "from Bio.PDB import PDBParser\n",
    "from Bio.PDB.DSSP import DSSP\n",
    "\n",
    "pdb_file = os.path.join(defs.DATA_DIR, '6lu7.pdb')\n",
    "\n",
    "p = PDBParser()\n",
    "structure = p.get_structure(\"1MOT\", pdb_file)\n",
    "model = structure[0]\n"
   ]
  },
  {
   "cell_type": "code",
   "execution_count": 167,
   "metadata": {},
   "outputs": [
    {
     "name": "stdout",
     "output_type": "stream",
     "text": [
      "<Model id=0>\n"
     ]
    }
   ],
   "source": [
    "print(model)"
   ]
  },
  {
   "attachments": {
    "image.png": {
     "image/png": "[encoded data removed]"
    }
   },
   "cell_type": "markdown",
   "metadata": {},
   "source": [
    "![image.png](attachment:image.png)"
   ]
  },
  {
   "cell_type": "code",
   "execution_count": 176,
   "metadata": {},
   "outputs": [
    {
     "name": "stdout",
     "output_type": "stream",
     "text": [
      "2\n"
     ]
    }
   ],
   "source": [
    "# https://biopython.org/DIST/docs/api/Bio.PDB.DSSP%27-module.html#make_dssp_dict\n",
    "\n",
    "from Bio.PDB.DSSP import make_dssp_dict\n",
    "\n",
    "dssp_file = os.path.join(defs.DATA_DIR, 'sars_cov_2.dssp')\n",
    "\n",
    "dssp_dict = make_dssp_dict(dssp_file)\n",
    "print(len(dssp_dict))"
   ]
  },
  {
   "cell_type": "code",
   "execution_count": 179,
   "metadata": {},
   "outputs": [
    {
     "name": "stdout",
     "output_type": "stream",
     "text": [
      "<class 'tuple'>\n",
      "<class 'dict'>\n",
      "<class 'list'>\n"
     ]
    }
   ],
   "source": [
    "print(type(dssp_dict))\n",
    "print(type(dssp_dict[0]))\n",
    "print(type(dssp_dict[1]))"
   ]
  },
  {
   "cell_type": "code",
   "execution_count": 181,
   "metadata": {},
   "outputs": [
    {
     "data": {
      "text/plain": [
       "('A', (' ', 3, ' '))"
      ]
     },
     "execution_count": 181,
     "metadata": {},
     "output_type": "execute_result"
    }
   ],
   "source": [
    "# DSSP data is accessed by a tuple (chain_id, res_id)\n",
    "# A key\n",
    "list(dssp_dict[0].keys())[2]"
   ]
  }
 ],
 "metadata": {
  "kernelspec": {
   "display_name": ".env",
   "language": "python",
   "name": ".env"
  },
  "language_info": {
   "codemirror_mode": {
    "name": "ipython",
    "version": 3
   },
   "file_extension": ".py",
   "mimetype": "text/x-python",
   "name": "python",
   "nbconvert_exporter": "python",
   "pygments_lexer": "ipython3",
   "version": "3.6.8"
  }
 },
 "nbformat": 4,
 "nbformat_minor": 4
}
