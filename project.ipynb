{
 "cells": [
  {
   "cell_type": "code",
   "execution_count": 2,
   "metadata": {},
   "outputs": [
    {
     "name": "stdout",
     "output_type": "stream",
     "text": [
      "Python version: 3.6.8 (tags/v3.6.8:3c6b436a57, Dec 24 2018, 00:16:47) [MSC v.1916 64 bit (AMD64)]\n"
     ]
    }
   ],
   "source": [
    "import sys\n",
    "print(f'Python version:', sys.version)"
   ]
  },
  {
   "cell_type": "code",
   "execution_count": 25,
   "metadata": {},
   "outputs": [
    {
     "name": "stdout",
     "output_type": "stream",
     "text": [
      "BioPython version: 1.76\n"
     ]
    }
   ],
   "source": [
    "# Packages\n",
    "import termcolor as tc\n",
    "import Bio; print('BioPython version:', Bio.__version__)\n",
    "\n",
    "# Python packages\n",
    "import os\n",
    "import sys\n",
    "import gc\n",
    "import string\n",
    "import pickle\n",
    "import collections\n",
    "import random\n",
    "\n",
    "# Data Science and Computation\n",
    "import numpy as np # linear algebra\n",
    "import pandas as pd # data processing, CSV file I/O (e.g. pd.read_csv)\n",
    "import scipy # statistics\n",
    "import sklearn # machine learning\n",
    "\n",
    "# Natural language processing\n",
    "import nltk\n",
    "\n",
    "# Visualization \n",
    "import matplotlib.pyplot as plt\n",
    "import seaborn as sns\n",
    "\n",
    "# Local Imports\n",
    "import definitions as defs"
   ]
  },
  {
   "cell_type": "code",
   "execution_count": 16,
   "metadata": {},
   "outputs": [],
   "source": [
    "sars_file = os.path.join(defs.DATA_DIR, 'sars_sequences.fasta')"
   ]
  },
  {
   "cell_type": "code",
   "execution_count": 17,
   "metadata": {},
   "outputs": [
    {
     "data": {
      "text/plain": [
       "'D:\\\\code\\\\py\\\\corona-virus-analysis\\\\data\\\\sars_sequences.fasta'"
      ]
     },
     "execution_count": 17,
     "metadata": {},
     "output_type": "execute_result"
    }
   ],
   "source": [
    "sars_file"
   ]
  },
  {
   "cell_type": "markdown",
   "metadata": {},
   "source": [
    "# Helper Functions"
   ]
  },
  {
   "cell_type": "code",
   "execution_count": 41,
   "metadata": {},
   "outputs": [],
   "source": [
    "def examine_distribution(sequence, title=''):\n",
    "    # Calculate statistics\n",
    "    mean = np.mean(sequence)\n",
    "    median = np.median(sequence)\n",
    "    mode = int(scipy.stats.mode(sequence).mode)\n",
    "    statistics = {'Mean': mean, 'Median': median, 'Mode': mode}\n",
    "\n",
    "    # Plot distribution\n",
    "    fig, ax = plt.subplots()\n",
    "    sns.distplot(sequence)\n",
    "    ax.axvline(mean, color='r', linestyle='--')\n",
    "    ax.axvline(median, color='g', linestyle='-')\n",
    "    ax.axvline(mode, color='b', linestyle='-')\n",
    "\n",
    "    plt.title(title.capitalize())\n",
    "    plt.legend(statistics)\n",
    "    plt.show()\n",
    "\n",
    "    for key, value in statistics.items():\n",
    "        print(f'\\t{key}={value:.2f}')\n"
   ]
  },
  {
   "cell_type": "code",
   "execution_count": 3,
   "metadata": {
    "scrolled": true
   },
   "outputs": [
    {
     "name": "stdout",
     "output_type": "stream",
     "text": [
      "MT585074.1 Severe acute respiratory syndrome coronavirus 2 isolate SARS-CoV-2/human/USA/MI-MDHHS-SC20566/2020 ORF1ab polyprotein (ORF1ab), ORF1a polyprotein (ORF1ab), surface glycoprotein (S), ORF3a protein (ORF3a), envelope protein (E), membrane glycoprotein (M), and ORF6 protein (ORF6) genes, complete cds; ORF7a protein (ORF7a) and ORF7b (ORF7b) genes, partial cds; and ORF8 protein (ORF8), nucleocapsid phosphoprotein (N), and ORF10 protein (ORF10) genes, complete cds\n"
     ]
    }
   ],
   "source": [
    "from Bio import SeqIO\n",
    "from Bio import Entrez\n",
    "\n",
    "Entrez.email = 'filip.markoski45@gmail.com'\n",
    "handle = Entrez.efetch(db='nucleotide', id='MT585074.1', rettype='fasta', retmode='text')\n",
    "record = SeqIO.read(handle, 'fasta')\n",
    "\n",
    "print(record.description)"
   ]
  },
  {
   "cell_type": "code",
   "execution_count": null,
   "metadata": {},
   "outputs": [],
   "source": [
    "from Bio import SeqIO\n",
    "from Bio import Entrez\n",
    "\n",
    "Entrez.email = 'filip.markoski45@gmail.com'\n",
    "handle = Entrez.esearch(db='nucleotide', term='SARS-CoV-2')\n",
    "search = Entrez.read(handle)\n",
    "\n",
    "for id in search['IdList']:\n",
    "    handle = Entrez.efetch(db='nucleotide', id=id, rettype='fasta', retmode='text')\n",
    "    record = SeqIO.read(handle, 'fasta')\n",
    "    print(record.description)\n",
    "    print(len(record.seq))"
   ]
  },
  {
   "cell_type": "markdown",
   "metadata": {},
   "source": [
    "# Code"
   ]
  },
  {
   "cell_type": "code",
   "execution_count": 320,
   "metadata": {},
   "outputs": [],
   "source": [
    "def construct_features(seq):\n",
    "    features = []\n",
    "    \n",
    "    # quick features\n",
    "    features.append(len(seq))\n",
    "    \n",
    "    features.extend(construct_sequtils_features(seq, window=500))\n",
    "    features.extend(construct_nucleotide_counts(seq, display=False))\n",
    "    features.extend(construct_amino_acid_features(seq, display=False))\n",
    "    features.extend(construct_n_gram_features(seq, window_size=3))\n",
    "    features.extend(construct_fourier_wavelet_feature(seq))\n",
    "    \n",
    "    return np.array(features)"
   ]
  },
  {
   "cell_type": "code",
   "execution_count": 321,
   "metadata": {},
   "outputs": [
    {
     "name": "stderr",
     "output_type": "stream",
     "text": [
      "D:\\code\\py\\corona-virus-analysis\\.env\\lib\\site-packages\\Bio\\Seq.py:2859: BiopythonWarning: Partial codon, len(sequence) not a multiple of three. Explicitly trim the sequence or add trailing N before translation. This may become an error in future.\n",
      "  BiopythonWarning,\n"
     ]
    },
    {
     "data": {
      "text/html": [
       "<div>\n",
       "<style scoped>\n",
       "    .dataframe tbody tr th:only-of-type {\n",
       "        vertical-align: middle;\n",
       "    }\n",
       "\n",
       "    .dataframe tbody tr th {\n",
       "        vertical-align: top;\n",
       "    }\n",
       "\n",
       "    .dataframe thead th {\n",
       "        text-align: right;\n",
       "    }\n",
       "</style>\n",
       "<table border=\"1\" class=\"dataframe\">\n",
       "  <thead>\n",
       "    <tr style=\"text-align: right;\">\n",
       "      <th></th>\n",
       "      <th>length</th>\n",
       "      <th>Seq</th>\n",
       "      <th>Description</th>\n",
       "      <th>RNA</th>\n",
       "      <th>Amino_Acid</th>\n",
       "    </tr>\n",
       "    <tr>\n",
       "      <th>ID</th>\n",
       "      <th></th>\n",
       "      <th></th>\n",
       "      <th></th>\n",
       "      <th></th>\n",
       "      <th></th>\n",
       "    </tr>\n",
       "  </thead>\n",
       "  <tbody>\n",
       "    <tr>\n",
       "      <th>KJ473811.1</th>\n",
       "      <td>29037</td>\n",
       "      <td>(G, G, T, T, T, C, G, T, C, C, G, G, G, T, G, ...</td>\n",
       "      <td>KJ473811.1 |BtRf-BetaCoV/JL2012| complete geno...</td>\n",
       "      <td>(G, G, U, U, U, C, G, U, C, C, G, G, G, U, G, ...</td>\n",
       "      <td>(G, F, V, R, V, *, P, K, G, K, M, E, S, L, V, ...</td>\n",
       "    </tr>\n",
       "    <tr>\n",
       "      <th>FJ588686.1</th>\n",
       "      <td>29059</td>\n",
       "      <td>(C, C, A, G, G, A, A, A, A, G, C, C, A, A, C, ...</td>\n",
       "      <td>FJ588686.1 |Bat SARS CoV Rs672/2006| complete ...</td>\n",
       "      <td>(C, C, A, G, G, A, A, A, A, G, C, C, A, A, C, ...</td>\n",
       "      <td>(P, G, K, A, N, Q, P, R, S, L, V, D, L, F, S, ...</td>\n",
       "    </tr>\n",
       "    <tr>\n",
       "      <th>KJ473816.1</th>\n",
       "      <td>29142</td>\n",
       "      <td>(G, T, T, T, C, G, T, C, C, G, G, G, T, G, T, ...</td>\n",
       "      <td>KJ473816.1 |BtRs-BetaCoV/YN2013| complete geno...</td>\n",
       "      <td>(G, U, U, U, C, G, U, C, C, G, G, G, U, G, U, ...</td>\n",
       "      <td>(V, S, S, G, C, D, R, K, V, R, W, R, A, L, F, ...</td>\n",
       "    </tr>\n",
       "    <tr>\n",
       "      <th>KJ473815.1</th>\n",
       "      <td>29161</td>\n",
       "      <td>(G, T, C, C, G, G, G, T, G, T, G, A, C, C, G, ...</td>\n",
       "      <td>KJ473815.1 |BtRs-BetaCoV/GX2013| complete geno...</td>\n",
       "      <td>(G, U, C, C, G, G, G, U, G, U, G, A, C, C, G, ...</td>\n",
       "      <td>(V, R, V, *, P, K, G, K, M, E, S, L, V, L, G, ...</td>\n",
       "    </tr>\n",
       "    <tr>\n",
       "      <th>KY352407.1</th>\n",
       "      <td>29274</td>\n",
       "      <td>(T, A, A, A, A, G, G, A, T, T, A, A, T, C, C, ...</td>\n",
       "      <td>KY352407.1 |Severe acute respiratory syndrome-...</td>\n",
       "      <td>(U, A, A, A, A, G, G, A, U, U, A, A, U, C, C, ...</td>\n",
       "      <td>(*, K, D, *, S, F, P, E, N, P, T, N, L, D, L, ...</td>\n",
       "    </tr>\n",
       "  </tbody>\n",
       "</table>\n",
       "</div>"
      ],
      "text/plain": [
       "            length                                                Seq  \\\n",
       "ID                                                                      \n",
       "KJ473811.1   29037  (G, G, T, T, T, C, G, T, C, C, G, G, G, T, G, ...   \n",
       "FJ588686.1   29059  (C, C, A, G, G, A, A, A, A, G, C, C, A, A, C, ...   \n",
       "KJ473816.1   29142  (G, T, T, T, C, G, T, C, C, G, G, G, T, G, T, ...   \n",
       "KJ473815.1   29161  (G, T, C, C, G, G, G, T, G, T, G, A, C, C, G, ...   \n",
       "KY352407.1   29274  (T, A, A, A, A, G, G, A, T, T, A, A, T, C, C, ...   \n",
       "\n",
       "                                                  Description  \\\n",
       "ID                                                              \n",
       "KJ473811.1  KJ473811.1 |BtRf-BetaCoV/JL2012| complete geno...   \n",
       "FJ588686.1  FJ588686.1 |Bat SARS CoV Rs672/2006| complete ...   \n",
       "KJ473816.1  KJ473816.1 |BtRs-BetaCoV/YN2013| complete geno...   \n",
       "KJ473815.1  KJ473815.1 |BtRs-BetaCoV/GX2013| complete geno...   \n",
       "KY352407.1  KY352407.1 |Severe acute respiratory syndrome-...   \n",
       "\n",
       "                                                          RNA  \\\n",
       "ID                                                              \n",
       "KJ473811.1  (G, G, U, U, U, C, G, U, C, C, G, G, G, U, G, ...   \n",
       "FJ588686.1  (C, C, A, G, G, A, A, A, A, G, C, C, A, A, C, ...   \n",
       "KJ473816.1  (G, U, U, U, C, G, U, C, C, G, G, G, U, G, U, ...   \n",
       "KJ473815.1  (G, U, C, C, G, G, G, U, G, U, G, A, C, C, G, ...   \n",
       "KY352407.1  (U, A, A, A, A, G, G, A, U, U, A, A, U, C, C, ...   \n",
       "\n",
       "                                                   Amino_Acid  \n",
       "ID                                                             \n",
       "KJ473811.1  (G, F, V, R, V, *, P, K, G, K, M, E, S, L, V, ...  \n",
       "FJ588686.1  (P, G, K, A, N, Q, P, R, S, L, V, D, L, F, S, ...  \n",
       "KJ473816.1  (V, S, S, G, C, D, R, K, V, R, W, R, A, L, F, ...  \n",
       "KJ473815.1  (V, R, V, *, P, K, G, K, M, E, S, L, V, L, G, ...  \n",
       "KY352407.1  (*, K, D, *, S, F, P, E, N, P, T, N, L, D, L, ...  "
      ]
     },
     "execution_count": 321,
     "metadata": {},
     "output_type": "execute_result"
    }
   ],
   "source": [
    "features = []\n",
    "\n",
    "with open(sars_file) as fasta_file:  # Will close handle cleanly\n",
    "    identifiers = []\n",
    "    lengths = []\n",
    "    nucleotides = []\n",
    "    descriptions = []\n",
    "    rna = []\n",
    "    amino_acid = []\n",
    "    count = 0\n",
    "    for seq_record in SeqIO.parse(fasta_file, 'fasta'):  # (generator)\n",
    "        if len(set(seq_record.seq)) != 4:\n",
    "            continue \n",
    "            \n",
    "        if count == 5:\n",
    "            break\n",
    "        count+=1\n",
    "        \n",
    "        identifiers.append(seq_record.id)\n",
    "        lengths.append(len(seq_record.seq))\n",
    "        nucleotides.append(seq_record.seq)\n",
    "        descriptions.append(seq_record.description)\n",
    "        rna_temp = seq_record.seq.transcribe()\n",
    "        rna.append(rna_temp)\n",
    "        amino_acid.append(rna_temp.translate())\n",
    "        #print(set(seq_record.seq.translate()), 'yes')\n",
    "        features.append(construct_features(seq_record.seq))\n",
    "\n",
    "        \n",
    "s1 = pd.Series(identifiers, name='ID')\n",
    "s2 = pd.Series(lengths, name='length')\n",
    "#s3 = pd.Series(nucleotides, name='Seq')\n",
    "s4 = pd.Series(descriptions, name='Description')\n",
    "#Gathering Series into a pandas DataFrame and rename index as ID column\n",
    "sars_nucelotide = pd.DataFrame(dict(ID=s1, length=s2, Seq=nucleotides,Description=s4, RNA=rna, Amino_Acid=amino_acid)).set_index(['ID'])\n",
    "sars_nucelotide"
   ]
  },
  {
   "cell_type": "code",
   "execution_count": 323,
   "metadata": {
    "scrolled": true
   },
   "outputs": [
    {
     "data": {
      "text/html": [
       "<div>\n",
       "<style scoped>\n",
       "    .dataframe tbody tr th:only-of-type {\n",
       "        vertical-align: middle;\n",
       "    }\n",
       "\n",
       "    .dataframe tbody tr th {\n",
       "        vertical-align: top;\n",
       "    }\n",
       "\n",
       "    .dataframe thead th {\n",
       "        text-align: right;\n",
       "    }\n",
       "</style>\n",
       "<table border=\"1\" class=\"dataframe\">\n",
       "  <thead>\n",
       "    <tr style=\"text-align: right;\">\n",
       "      <th></th>\n",
       "      <th>0</th>\n",
       "      <th>1</th>\n",
       "      <th>2</th>\n",
       "      <th>3</th>\n",
       "      <th>4</th>\n",
       "      <th>5</th>\n",
       "      <th>6</th>\n",
       "      <th>7</th>\n",
       "      <th>8</th>\n",
       "      <th>9</th>\n",
       "      <th>...</th>\n",
       "      <th>29387</th>\n",
       "      <th>29388</th>\n",
       "      <th>29389</th>\n",
       "      <th>29390</th>\n",
       "      <th>29391</th>\n",
       "      <th>29392</th>\n",
       "      <th>29393</th>\n",
       "      <th>29394</th>\n",
       "      <th>29395</th>\n",
       "      <th>29396</th>\n",
       "    </tr>\n",
       "    <tr>\n",
       "      <th>ID</th>\n",
       "      <th></th>\n",
       "      <th></th>\n",
       "      <th></th>\n",
       "      <th></th>\n",
       "      <th></th>\n",
       "      <th></th>\n",
       "      <th></th>\n",
       "      <th></th>\n",
       "      <th></th>\n",
       "      <th></th>\n",
       "      <th></th>\n",
       "      <th></th>\n",
       "      <th></th>\n",
       "      <th></th>\n",
       "      <th></th>\n",
       "      <th></th>\n",
       "      <th></th>\n",
       "      <th></th>\n",
       "      <th></th>\n",
       "      <th></th>\n",
       "      <th></th>\n",
       "    </tr>\n",
       "  </thead>\n",
       "  <tbody>\n",
       "    <tr>\n",
       "      <th>KJ473811.1</th>\n",
       "      <td>29037.0</td>\n",
       "      <td>40.999415</td>\n",
       "      <td>9.311954e+06</td>\n",
       "      <td>0.235294</td>\n",
       "      <td>-0.103825</td>\n",
       "      <td>0.024313</td>\n",
       "      <td>0.026786</td>\n",
       "      <td>-0.051163</td>\n",
       "      <td>8254.0</td>\n",
       "      <td>8878.0</td>\n",
       "      <td>...</td>\n",
       "      <td>0.00000</td>\n",
       "      <td>0.000000</td>\n",
       "      <td>0.000000</td>\n",
       "      <td>0.0</td>\n",
       "      <td>0.0</td>\n",
       "      <td>0.0</td>\n",
       "      <td>0.0</td>\n",
       "      <td>0.0</td>\n",
       "      <td>0.0</td>\n",
       "      <td>0.0</td>\n",
       "    </tr>\n",
       "    <tr>\n",
       "      <th>FJ588686.1</th>\n",
       "      <td>29059.0</td>\n",
       "      <td>41.092261</td>\n",
       "      <td>9.319131e+06</td>\n",
       "      <td>0.400000</td>\n",
       "      <td>-0.164706</td>\n",
       "      <td>0.024767</td>\n",
       "      <td>0.025126</td>\n",
       "      <td>0.000000</td>\n",
       "      <td>8266.0</td>\n",
       "      <td>8852.0</td>\n",
       "      <td>...</td>\n",
       "      <td>0.00000</td>\n",
       "      <td>0.000000</td>\n",
       "      <td>0.000000</td>\n",
       "      <td>0.0</td>\n",
       "      <td>0.0</td>\n",
       "      <td>0.0</td>\n",
       "      <td>0.0</td>\n",
       "      <td>0.0</td>\n",
       "      <td>0.0</td>\n",
       "      <td>0.0</td>\n",
       "    </tr>\n",
       "    <tr>\n",
       "      <th>KJ473816.1</th>\n",
       "      <td>29142.0</td>\n",
       "      <td>41.102189</td>\n",
       "      <td>9.345598e+06</td>\n",
       "      <td>0.251185</td>\n",
       "      <td>-0.134328</td>\n",
       "      <td>0.022514</td>\n",
       "      <td>0.027027</td>\n",
       "      <td>0.054187</td>\n",
       "      <td>8230.0</td>\n",
       "      <td>8934.0</td>\n",
       "      <td>...</td>\n",
       "      <td>0.00000</td>\n",
       "      <td>0.000000</td>\n",
       "      <td>0.000000</td>\n",
       "      <td>0.0</td>\n",
       "      <td>0.0</td>\n",
       "      <td>0.0</td>\n",
       "      <td>0.0</td>\n",
       "      <td>0.0</td>\n",
       "      <td>0.0</td>\n",
       "      <td>0.0</td>\n",
       "    </tr>\n",
       "    <tr>\n",
       "      <th>KJ473815.1</th>\n",
       "      <td>29161.0</td>\n",
       "      <td>40.862796</td>\n",
       "      <td>9.352055e+06</td>\n",
       "      <td>0.241706</td>\n",
       "      <td>-0.156250</td>\n",
       "      <td>0.019012</td>\n",
       "      <td>0.024631</td>\n",
       "      <td>0.000000</td>\n",
       "      <td>8342.0</td>\n",
       "      <td>8903.0</td>\n",
       "      <td>...</td>\n",
       "      <td>0.00000</td>\n",
       "      <td>0.000000</td>\n",
       "      <td>0.000000</td>\n",
       "      <td>0.0</td>\n",
       "      <td>0.0</td>\n",
       "      <td>0.0</td>\n",
       "      <td>0.0</td>\n",
       "      <td>0.0</td>\n",
       "      <td>0.0</td>\n",
       "      <td>0.0</td>\n",
       "    </tr>\n",
       "    <tr>\n",
       "      <th>KY352407.1</th>\n",
       "      <td>29274.0</td>\n",
       "      <td>39.215686</td>\n",
       "      <td>9.386117e+06</td>\n",
       "      <td>0.187817</td>\n",
       "      <td>-0.123596</td>\n",
       "      <td>0.055701</td>\n",
       "      <td>0.056995</td>\n",
       "      <td>0.025381</td>\n",
       "      <td>8354.0</td>\n",
       "      <td>9440.0</td>\n",
       "      <td>...</td>\n",
       "      <td>-2.12132</td>\n",
       "      <td>1.414214</td>\n",
       "      <td>0.707107</td>\n",
       "      <td>0.0</td>\n",
       "      <td>0.0</td>\n",
       "      <td>0.0</td>\n",
       "      <td>0.0</td>\n",
       "      <td>0.0</td>\n",
       "      <td>0.0</td>\n",
       "      <td>0.0</td>\n",
       "    </tr>\n",
       "  </tbody>\n",
       "</table>\n",
       "<p>5 rows × 29397 columns</p>\n",
       "</div>"
      ],
      "text/plain": [
       "              0          1             2         3         4         5      \\\n",
       "ID                                                                           \n",
       "KJ473811.1  29037.0  40.999415  9.311954e+06  0.235294 -0.103825  0.024313   \n",
       "FJ588686.1  29059.0  41.092261  9.319131e+06  0.400000 -0.164706  0.024767   \n",
       "KJ473816.1  29142.0  41.102189  9.345598e+06  0.251185 -0.134328  0.022514   \n",
       "KJ473815.1  29161.0  40.862796  9.352055e+06  0.241706 -0.156250  0.019012   \n",
       "KY352407.1  29274.0  39.215686  9.386117e+06  0.187817 -0.123596  0.055701   \n",
       "\n",
       "               6         7       8       9      ...    29387     29388  \\\n",
       "ID                                              ...                      \n",
       "KJ473811.1  0.026786 -0.051163  8254.0  8878.0  ...  0.00000  0.000000   \n",
       "FJ588686.1  0.025126  0.000000  8266.0  8852.0  ...  0.00000  0.000000   \n",
       "KJ473816.1  0.027027  0.054187  8230.0  8934.0  ...  0.00000  0.000000   \n",
       "KJ473815.1  0.024631  0.000000  8342.0  8903.0  ...  0.00000  0.000000   \n",
       "KY352407.1  0.056995  0.025381  8354.0  9440.0  ... -2.12132  1.414214   \n",
       "\n",
       "               29389  29390  29391  29392  29393  29394  29395  29396  \n",
       "ID                                                                     \n",
       "KJ473811.1  0.000000    0.0    0.0    0.0    0.0    0.0    0.0    0.0  \n",
       "FJ588686.1  0.000000    0.0    0.0    0.0    0.0    0.0    0.0    0.0  \n",
       "KJ473816.1  0.000000    0.0    0.0    0.0    0.0    0.0    0.0    0.0  \n",
       "KJ473815.1  0.000000    0.0    0.0    0.0    0.0    0.0    0.0    0.0  \n",
       "KY352407.1  0.707107    0.0    0.0    0.0    0.0    0.0    0.0    0.0  \n",
       "\n",
       "[5 rows x 29397 columns]"
      ]
     },
     "execution_count": 323,
     "metadata": {},
     "output_type": "execute_result"
    }
   ],
   "source": [
    "sars_features = pd.DataFrame(features).fillna(0)\n",
    "sars_features['ID'] = s1\n",
    "sars_features = sars_features.set_index('ID')\n",
    "sars_features"
   ]
  },
  {
   "cell_type": "code",
   "execution_count": 328,
   "metadata": {},
   "outputs": [],
   "source": [
    "location = os.path.join(defs.DATA_DIR, 'sars_features.csv')\n",
    "sars_features.to_csv(location)"
   ]
  },
  {
   "cell_type": "markdown",
   "metadata": {},
   "source": [
    "# Features "
   ]
  },
  {
   "cell_type": "code",
   "execution_count": 29,
   "metadata": {},
   "outputs": [
    {
     "name": "stdout",
     "output_type": "stream",
     "text": [
      "['A', 'C', 'C', 'G', 'T']\n",
      "['ACC', 'CCG', 'CGT']\n"
     ]
    }
   ],
   "source": [
    "def kmers(seq, k):\n",
    "    v = []\n",
    "    for i in range(len(seq) - k + 1):\n",
    "        v.append(seq[i:i + k])\n",
    "    return v\n",
    "\n",
    "print(kmers('ACCGT', 1))\n",
    "print(kmers('ACCGT', 3))"
   ]
  },
  {
   "cell_type": "code",
   "execution_count": 30,
   "metadata": {},
   "outputs": [
    {
     "name": "stdout",
     "output_type": "stream",
     "text": [
      "no. of features: 5\n",
      "[1, 2, 2, 1, 1]\n"
     ]
    }
   ],
   "source": [
    "# import itertools \n",
    "\n",
    "# https://en.wikipedia.org/wiki/Pseudo_K-tuple_nucleotide_composition\n",
    "def pse_knc(seq, k):\n",
    "    \n",
    "    ### k-mer ###\n",
    "    ### A, AA, AAA\n",
    "    \n",
    "    vector = []\n",
    "    for i in range(1, k + 1, 1):\n",
    "        v = list(itertools.product(seq, repeat=i))\n",
    "        # seqLength = len(x) - i + 1\n",
    "        for i in v:\n",
    "            # print(seq.count(''.join(i)), end=',')\n",
    "            vector.append(seq.count(''.join(i)))\n",
    "    \n",
    "    return vector\n",
    "    \n",
    "print('no. of features:', len(pse_knc('ACCGT', 1)))\n",
    "print(pse_knc('ACCGT', 1))"
   ]
  },
  {
   "cell_type": "code",
   "execution_count": 41,
   "metadata": {},
   "outputs": [
    {
     "name": "stdout",
     "output_type": "stream",
     "text": [
      "2.92 s ± 36.1 ms per loop (mean ± std. dev. of 7 runs, 1 loop each)\n"
     ]
    }
   ],
   "source": [
    "%timeit pse_knc(record.seq, 1)"
   ]
  },
  {
   "cell_type": "code",
   "execution_count": 31,
   "metadata": {},
   "outputs": [
    {
     "data": {
      "text/plain": [
       "[-268, -1030, 6898]"
      ]
     },
     "execution_count": 31,
     "metadata": {},
     "output_type": "execute_result"
    }
   ],
   "source": [
    "def z_curve(seq) -> list():\n",
    "    # convert to RNA sequence\n",
    "    seq = seq.transcribe()\n",
    "\n",
    "    TU = seq.count('U')\n",
    "    A = seq.count('A');\n",
    "    C = seq.count('C');\n",
    "    G = seq.count('G');\n",
    "\n",
    "    x_ = (A + G) - (C + TU)\n",
    "    y_ = (A + C) - (G + TU)\n",
    "    z_ = (A + TU) - (C + G)\n",
    "    vector = [x_, y_, z_]\n",
    "    return vector\n",
    "\n",
    "z_curve(record.seq)"
   ]
  },
  {
   "cell_type": "code",
   "execution_count": 32,
   "metadata": {},
   "outputs": [
    {
     "data": {
      "text/plain": [
       "[0.034696293598032966, -0.03629956932714357]"
      ]
     },
     "execution_count": 32,
     "metadata": {},
     "output_type": "execute_result"
    }
   ],
   "source": [
    "def cumulative_skew(seq) -> list():\n",
    "    # convert to RNA sequence\n",
    "    seq = seq.transcribe()\n",
    "\n",
    "    TU = seq.count('U')\n",
    "    A = seq.count('A');\n",
    "    C = seq.count('C');\n",
    "    G = seq.count('G');\n",
    "\n",
    "    GCSkew = (G-C)/(G+C)\n",
    "    ATSkew = (A-TU)/(A+TU)\n",
    "\n",
    "    vector = [GCSkew, ATSkew]\n",
    "    return vector\n",
    "\n",
    "cumulative_skew(record.seq)"
   ]
  },
  {
   "cell_type": "code",
   "execution_count": 33,
   "metadata": {},
   "outputs": [
    {
     "data": {
      "text/plain": [
       "[1.6281759402604499]"
      ]
     },
     "execution_count": 33,
     "metadata": {},
     "output_type": "execute_result"
    }
   ],
   "source": [
    "def atgc_ratio(seq) -> list():\n",
    "    # convert to RNA sequence\n",
    "    seq = seq.transcribe()\n",
    "\n",
    "    TU = seq.count('U')\n",
    "    A = seq.count('A');\n",
    "    C = seq.count('C');\n",
    "    G = seq.count('G');\n",
    "    \n",
    "    atgc_ratio = (A+TU)/(G+C)\n",
    "    \n",
    "    vector = [atgc_ratio]\n",
    "    return vector\n",
    "\n",
    "atgc_ratio(record.seq)"
   ]
  },
  {
   "cell_type": "code",
   "execution_count": 10,
   "metadata": {},
   "outputs": [
    {
     "data": {
      "text/plain": [
       "[0, 0, 1, 0, 0, 0, 0, 0, 0, 0, 0, 0, 0, 0, 0, 0]"
      ]
     },
     "execution_count": 10,
     "metadata": {},
     "output_type": "execute_result"
    }
   ],
   "source": [
    "import itertools \n",
    "\n",
    "RNAelements = 'ACGU'\n",
    "elements = RNAelements\n",
    "\n",
    "m2 = list(itertools.product(elements, repeat=2))\n",
    "m3 = list(itertools.product(elements, repeat=3))\n",
    "m4 = list(itertools.product(elements, repeat=4))\n",
    "m5 = list(itertools.product(elements, repeat=5))\n",
    "\n",
    "\n",
    "def monoMonoKGap(seq, gap_size):  # 1___1\n",
    "    seq = seq.transcribe()    \n",
    "    x = seq\n",
    "    g = gap_size\n",
    "    vector = []\n",
    "\n",
    "    ### g-gap\n",
    "    '''\n",
    "    AA      0-gap (2-mer)\n",
    "    A_A     1-gap\n",
    "    A__A    2-gap\n",
    "    A___A   3-gap\n",
    "    A____A  4-gap\n",
    "    '''\n",
    "\n",
    "    m = m2\n",
    "    for i in range(1, g + 1, 1):\n",
    "        V = kmers(x, i + 2)\n",
    "        for gGap in m:\n",
    "\n",
    "            C = 0\n",
    "            for v in V:\n",
    "                if v[0] == gGap[0] and v[-1] == gGap[1]:\n",
    "                    C += 1\n",
    "            vector.append(C)\n",
    "\n",
    "    return vector\n",
    "\n",
    "monoMonoKGap(Seq('ACG'), 1)"
   ]
  },
  {
   "cell_type": "code",
   "execution_count": 11,
   "metadata": {},
   "outputs": [
    {
     "data": {
      "text/plain": [
       "64"
      ]
     },
     "execution_count": 11,
     "metadata": {},
     "output_type": "execute_result"
    }
   ],
   "source": [
    "def diMonoKGap(seq, gap_size):  # 2___1\n",
    "    seq = seq.transcribe()    \n",
    "    x = seq\n",
    "    g = gap_size\n",
    "    vector = []\n",
    "    \n",
    "    m = m3\n",
    "    for i in range(1, g + 1, 1):\n",
    "        V = kmers(x, i + 3)\n",
    "        for gGap in m:\n",
    "            C = 0\n",
    "            for v in V:\n",
    "                if v[0] == gGap[0] and v[1] == gGap[1] and v[-1] == gGap[2]:\n",
    "                    C += 1\n",
    "            vector.append(C)\n",
    "    return vector\n",
    "len(diMonoKGap(Seq('ACG'), 1))"
   ]
  },
  {
   "cell_type": "code",
   "execution_count": 12,
   "metadata": {},
   "outputs": [
    {
     "data": {
      "text/plain": [
       "256"
      ]
     },
     "execution_count": 12,
     "metadata": {},
     "output_type": "execute_result"
    }
   ],
   "source": [
    "def monoTriKGap(seq, gap_size):  # 1___3\n",
    "    seq = seq.transcribe()    \n",
    "    x = seq\n",
    "    g = gap_size\n",
    "    vector = []\n",
    "\n",
    "    # A_AAA       1-gap\n",
    "    # A__AAA      2-gap\n",
    "    # A___AAA     3-gap\n",
    "    # A____AAA    4-gap\n",
    "    # A_____AAA   5-gap upto g\n",
    "\n",
    "    m = m4\n",
    "    for i in range(1, g + 1, 1):\n",
    "        V = kmers(x, i + 4)\n",
    "        for gGap in m:\n",
    "            C = 0\n",
    "            for v in V:\n",
    "                if v[0] == gGap[0] and v[-3] == gGap[1] and v[-2] == gGap[2] and v[-1] == gGap[3]:\n",
    "                    C += 1\n",
    "            vector.append(C)\n",
    "            \n",
    "    return vector\n",
    "\n",
    "len(monoTriKGap(Seq('ACG'), 1))"
   ]
  },
  {
   "cell_type": "code",
   "execution_count": 13,
   "metadata": {},
   "outputs": [
    {
     "data": {
      "text/plain": [
       "512"
      ]
     },
     "execution_count": 13,
     "metadata": {},
     "output_type": "execute_result"
    }
   ],
   "source": [
    "def triMonoKGap(seq, gap_size):  # 3___1\n",
    "    seq = seq.transcribe()    \n",
    "    x = seq\n",
    "    g = gap_size\n",
    "    vector = []\n",
    "\n",
    "    # AAA_A       1-gap\n",
    "    # AAA__A      2-gap\n",
    "    # AAA___A     3-gap\n",
    "    # AAA____A    4-gap\n",
    "    # AAA_____A   5-gap upto g\n",
    "\n",
    "    m = m4\n",
    "    for i in range(1, g + 1, 1):\n",
    "        V = kmers(x, i + 4)\n",
    "        # seqLength = len(x) - (i+2) + 1\n",
    "\n",
    "        # print(V)\n",
    "        for gGap in m:\n",
    "\n",
    "            C = 0\n",
    "            for v in V:\n",
    "                if v[0] == gGap[0] and v[1] == gGap[1] and v[2] == gGap[2] and v[-1] == gGap[3]:\n",
    "                    C += 1\n",
    "            # print(C, end=',')\n",
    "            vector.append(C)\n",
    "    return vector\n",
    "\n",
    "len(triMonoKGap(Seq('ACG'), 2))"
   ]
  },
  {
   "cell_type": "code",
   "execution_count": 14,
   "metadata": {},
   "outputs": [
    {
     "data": {
      "text/plain": [
       "512"
      ]
     },
     "execution_count": 14,
     "metadata": {},
     "output_type": "execute_result"
    }
   ],
   "source": [
    " def diDiKGap(seq, gap_size):  \n",
    "    seq = seq.transcribe()    \n",
    "    x = seq\n",
    "    g = gap_size\n",
    "    vector = []\n",
    "\n",
    "    ### gapping ### total = [(64xg)] = 2,304 [g=9]\n",
    "    # AA_AA       1-gap\n",
    "    # AA__AA      2-gap\n",
    "    # AA___AA     3-gap\n",
    "    # AA____AA    4-gap\n",
    "    # AA_____AA   5-gap upto g\n",
    "\n",
    "    m = m4\n",
    "    for i in range(1, g + 1, 1):\n",
    "        V = kmers(x, i + 4)\n",
    "        for gGap in m:\n",
    "            C = 0\n",
    "            for v in V:\n",
    "                if v[0] == gGap[0] and v[1] == gGap[1] and v[-2] == gGap[2] and v[-1] == gGap[3]:\n",
    "                    C += 1\n",
    "            vector.append(C)\n",
    "\n",
    "    return vector\n",
    "\n",
    "len(diDiKGap(Seq('ACG'), 2))"
   ]
  },
  {
   "cell_type": "code",
   "execution_count": 15,
   "metadata": {},
   "outputs": [
    {
     "data": {
      "text/plain": [
       "1024"
      ]
     },
     "execution_count": 15,
     "metadata": {},
     "output_type": "execute_result"
    }
   ],
   "source": [
    "def diTriKGap(seq, gap_size): # 2___3\n",
    "    seq = seq.transcribe()    \n",
    "    x = seq\n",
    "    g = gap_size\n",
    "    vector = []\n",
    "\n",
    "    ### gapping ### total = [(64xg)] = 2,304 [g=9]\n",
    "    # AA_AAA       1-gap\n",
    "    # AA__AAA      2-gap\n",
    "    # AA___AAA     3-gap\n",
    "    # AA____AAA    4-gap\n",
    "    # AA_____AAA   5-gap upto g\n",
    "\n",
    "    m = m5\n",
    "    for i in range(1, g + 1, 1):\n",
    "        V = kmers(x, i + 5)\n",
    "        for gGap in m:\n",
    "            C = 0\n",
    "            for v in V:\n",
    "                if v[0] == gGap[0] and v[1] == gGap[1] and v[-3] == gGap[2] and v[-2] == gGap[3] and v[-1] == gGap[4]:\n",
    "                    C += 1\n",
    "            vector.append(C)\n",
    "\n",
    "    return vector\n",
    "\n",
    "len(diTriKGap(Seq('ACG'), 1))"
   ]
  },
  {
   "cell_type": "code",
   "execution_count": 16,
   "metadata": {},
   "outputs": [
    {
     "data": {
      "text/plain": [
       "1024"
      ]
     },
     "execution_count": 16,
     "metadata": {},
     "output_type": "execute_result"
    }
   ],
   "source": [
    "def triDiKGap(seq, gap_size): # 3___2\n",
    "    seq = seq.transcribe()    \n",
    "    x = seq\n",
    "    g = gap_size\n",
    "    vector = []\n",
    "\n",
    "    ### gapping ### total = [(64xg)] = 2,304 [g=9]\n",
    "    # AAA_AA       1-gap\n",
    "    # AAA__AA      2-gap\n",
    "    # AAA___AA     3-gap\n",
    "    # AAA____AA    4-gap\n",
    "    # AAA_____AA   5-gap upto g\n",
    "\n",
    "    m = m5\n",
    "    for i in range(1, g + 1, 1):\n",
    "        V = kmers(x, i + 5)\n",
    "        for gGap in m:\n",
    "            C = 0\n",
    "            for v in V:\n",
    "                if v[0] == gGap[0] and v[1] == gGap[1] and v[2] == gGap[2] and v[-2] == gGap[3] and v[-1] == gGap[4]:\n",
    "                    C += 1\n",
    "            vector.append(C)\n",
    "    return vector\n",
    "\n",
    "len(triDiKGap(Seq('ACG'), 1))"
   ]
  },
  {
   "cell_type": "code",
   "execution_count": 26,
   "metadata": {},
   "outputs": [
    {
     "name": "stdout",
     "output_type": "stream",
     "text": [
      " "
     ]
    }
   ],
   "source": [
    "from Bio.Seq import Seq\n",
    "\n",
    "def gap_based_features(seq, gap_size):\n",
    "    features = []\n",
    "\n",
    "    features.extend(monoMonoKGap(seq, gap_size))\n",
    "    features.extend(diMonoKGap(seq, gap_size))\n",
    "    features.extend(monoTriKGap(seq, gap_size))\n",
    "    features.extend(triMonoKGap(seq, gap_size))\n",
    "    features.extend(diDiKGap(seq, gap_size))\n",
    "    features.extend(diTriKGap(seq, gap_size))\n",
    "    features.extend(triDiKGap(seq, gap_size))\n",
    "    \n",
    "    return features\n",
    "\n",
    "# %prun \n",
    "len(gap_based_features(record.seq, 1))"
   ]
  },
  {
   "cell_type": "code",
   "execution_count": 38,
   "metadata": {},
   "outputs": [
    {
     "data": {
      "text/plain": [
       "[-268,\n",
       " -1030,\n",
       " 6898,\n",
       " 0.034696293598032966,\n",
       " -0.03629956932714357,\n",
       " 1.6281759402604499]"
      ]
     },
     "execution_count": 38,
     "metadata": {},
     "output_type": "execute_result"
    }
   ],
   "source": [
    "def py_feat_features(seq, k, gap_size):\n",
    "    features = []\n",
    "\n",
    "    # features.extend(pse_knc(seq, k))\n",
    "    features.extend(z_curve(seq))\n",
    "    features.extend(cumulative_skew(seq))\n",
    "    features.extend(atgc_ratio(seq))\n",
    "    # features.extend(gap_based_features(seq, gap_size))\n",
    "\n",
    "    return features\n",
    "\n",
    "py_feat_features(record.seq, k=3, gap_size=1)"
   ]
  },
  {
   "cell_type": "code",
   "execution_count": 50,
   "metadata": {
    "scrolled": true
   },
   "outputs": [
    {
     "data": {
      "text/plain": [
       "10092048.2152"
      ]
     },
     "execution_count": 50,
     "metadata": {},
     "output_type": "execute_result"
    }
   ],
   "source": [
    "def ambigiuous_molecular_weight(seq, seq_type='RNA'):\n",
    "    # convert to RNA sequence\n",
    "    seq = seq.transcribe()\n",
    "    \n",
    "    # np.mean([molecular_weight(letter, 'RNA') for letter in ['A', 'G', 'U', 'C']])\n",
    "    ambigious_letter_weight = 339.4549 # mean letter weight\n",
    "    \n",
    "    counter = collections.Counter(seq)\n",
    "    A = counter['A']\n",
    "    G = counter['G']\n",
    "    U = counter['U']\n",
    "    C = counter['C']\n",
    "        \n",
    "    total = len(record.seq)\n",
    "    unambigious_total = A + G + U + C\n",
    "    ambigious_weight = (total - unambigious_total) * ambigious_letter_weight\n",
    "    unambigious_weight = sum([counter[letter] * molecular_weight(letter, seq_type) for letter in ['A', 'G', 'U', 'C']])\n",
    "    \n",
    "    total_weight = unambigious_weight + ambigious_weight\n",
    "    \n",
    "    return total_weight   \n",
    "    \n",
    "ambigiuous_molecular_weight(record.seq)"
   ]
  },
  {
   "cell_type": "code",
   "execution_count": 18,
   "metadata": {},
   "outputs": [
    {
     "ename": "ValueError",
     "evalue": "'N' is not a valid unambiguous letter for RNA",
     "output_type": "error",
     "traceback": [
      "\u001b[1;31m---------------------------------------------------------------------------\u001b[0m",
      "\u001b[1;31mKeyError\u001b[0m                                  Traceback (most recent call last)",
      "\u001b[1;32mD:\\code\\py\\corona-virus-analysis\\.env\\lib\\site-packages\\Bio\\SeqUtils\\__init__.py\u001b[0m in \u001b[0;36mmolecular_weight\u001b[1;34m(seq, seq_type, double_stranded, circular, monoisotopic)\u001b[0m\n\u001b[0;32m    436\u001b[0m     \u001b[1;32mtry\u001b[0m\u001b[1;33m:\u001b[0m\u001b[1;33m\u001b[0m\u001b[1;33m\u001b[0m\u001b[0m\n\u001b[1;32m--> 437\u001b[1;33m         \u001b[0mweight\u001b[0m \u001b[1;33m=\u001b[0m \u001b[0msum\u001b[0m\u001b[1;33m(\u001b[0m\u001b[0mweight_table\u001b[0m\u001b[1;33m[\u001b[0m\u001b[0mx\u001b[0m\u001b[1;33m]\u001b[0m \u001b[1;32mfor\u001b[0m \u001b[0mx\u001b[0m \u001b[1;32min\u001b[0m \u001b[0mseq\u001b[0m\u001b[1;33m)\u001b[0m \u001b[1;33m-\u001b[0m \u001b[1;33m(\u001b[0m\u001b[0mlen\u001b[0m\u001b[1;33m(\u001b[0m\u001b[0mseq\u001b[0m\u001b[1;33m)\u001b[0m \u001b[1;33m-\u001b[0m \u001b[1;36m1\u001b[0m\u001b[1;33m)\u001b[0m \u001b[1;33m*\u001b[0m \u001b[0mwater\u001b[0m\u001b[1;33m\u001b[0m\u001b[1;33m\u001b[0m\u001b[0m\n\u001b[0m\u001b[0;32m    438\u001b[0m         \u001b[1;32mif\u001b[0m \u001b[0mcircular\u001b[0m\u001b[1;33m:\u001b[0m\u001b[1;33m\u001b[0m\u001b[1;33m\u001b[0m\u001b[0m\n",
      "\u001b[1;32mD:\\code\\py\\corona-virus-analysis\\.env\\lib\\site-packages\\Bio\\SeqUtils\\__init__.py\u001b[0m in \u001b[0;36m<genexpr>\u001b[1;34m(.0)\u001b[0m\n\u001b[0;32m    436\u001b[0m     \u001b[1;32mtry\u001b[0m\u001b[1;33m:\u001b[0m\u001b[1;33m\u001b[0m\u001b[1;33m\u001b[0m\u001b[0m\n\u001b[1;32m--> 437\u001b[1;33m         \u001b[0mweight\u001b[0m \u001b[1;33m=\u001b[0m \u001b[0msum\u001b[0m\u001b[1;33m(\u001b[0m\u001b[0mweight_table\u001b[0m\u001b[1;33m[\u001b[0m\u001b[0mx\u001b[0m\u001b[1;33m]\u001b[0m \u001b[1;32mfor\u001b[0m \u001b[0mx\u001b[0m \u001b[1;32min\u001b[0m \u001b[0mseq\u001b[0m\u001b[1;33m)\u001b[0m \u001b[1;33m-\u001b[0m \u001b[1;33m(\u001b[0m\u001b[0mlen\u001b[0m\u001b[1;33m(\u001b[0m\u001b[0mseq\u001b[0m\u001b[1;33m)\u001b[0m \u001b[1;33m-\u001b[0m \u001b[1;36m1\u001b[0m\u001b[1;33m)\u001b[0m \u001b[1;33m*\u001b[0m \u001b[0mwater\u001b[0m\u001b[1;33m\u001b[0m\u001b[1;33m\u001b[0m\u001b[0m\n\u001b[0m\u001b[0;32m    438\u001b[0m         \u001b[1;32mif\u001b[0m \u001b[0mcircular\u001b[0m\u001b[1;33m:\u001b[0m\u001b[1;33m\u001b[0m\u001b[1;33m\u001b[0m\u001b[0m\n",
      "\u001b[1;31mKeyError\u001b[0m: 'N'",
      "\nDuring handling of the above exception, another exception occurred:\n",
      "\u001b[1;31mValueError\u001b[0m                                Traceback (most recent call last)",
      "\u001b[1;32m<ipython-input-18-063baec0348f>\u001b[0m in \u001b[0;36m<module>\u001b[1;34m\u001b[0m\n\u001b[0;32m     23\u001b[0m     \u001b[1;32mreturn\u001b[0m \u001b[0mvector\u001b[0m\u001b[1;33m\u001b[0m\u001b[1;33m\u001b[0m\u001b[0m\n\u001b[0;32m     24\u001b[0m \u001b[1;33m\u001b[0m\u001b[0m\n\u001b[1;32m---> 25\u001b[1;33m \u001b[0mlen\u001b[0m\u001b[1;33m(\u001b[0m\u001b[0mconstruct_sequtils_features\u001b[0m\u001b[1;33m(\u001b[0m\u001b[0mseq\u001b[0m\u001b[1;33m=\u001b[0m\u001b[0mrecord\u001b[0m\u001b[1;33m.\u001b[0m\u001b[0mseq\u001b[0m\u001b[1;33m)\u001b[0m\u001b[1;33m)\u001b[0m\u001b[1;33m\u001b[0m\u001b[1;33m\u001b[0m\u001b[0m\n\u001b[0m",
      "\u001b[1;32m<ipython-input-18-063baec0348f>\u001b[0m in \u001b[0;36mconstruct_sequtils_features\u001b[1;34m(seq, window, display)\u001b[0m\n\u001b[0;32m      6\u001b[0m     \u001b[0mgc_content\u001b[0m \u001b[1;33m=\u001b[0m \u001b[0mGC\u001b[0m\u001b[1;33m(\u001b[0m\u001b[0mseq\u001b[0m\u001b[1;33m)\u001b[0m\u001b[1;33m\u001b[0m\u001b[1;33m\u001b[0m\u001b[0m\n\u001b[0;32m      7\u001b[0m \u001b[1;33m\u001b[0m\u001b[0m\n\u001b[1;32m----> 8\u001b[1;33m     \u001b[0mmol_weight\u001b[0m \u001b[1;33m=\u001b[0m \u001b[0mmolecular_weight\u001b[0m\u001b[1;33m(\u001b[0m\u001b[0mseq\u001b[0m\u001b[1;33m,\u001b[0m \u001b[0mseq_type\u001b[0m\u001b[1;33m=\u001b[0m\u001b[1;34m'RNA'\u001b[0m\u001b[1;33m)\u001b[0m\u001b[1;33m\u001b[0m\u001b[1;33m\u001b[0m\u001b[0m\n\u001b[0m\u001b[0;32m      9\u001b[0m \u001b[1;33m\u001b[0m\u001b[0m\n\u001b[0;32m     10\u001b[0m     \u001b[0mgc_skew_array\u001b[0m \u001b[1;33m=\u001b[0m \u001b[0mGC_skew\u001b[0m\u001b[1;33m(\u001b[0m\u001b[0mseq\u001b[0m\u001b[1;33m,\u001b[0m \u001b[0mwindow\u001b[0m\u001b[1;33m=\u001b[0m\u001b[0mwindow\u001b[0m\u001b[1;33m)\u001b[0m\u001b[1;33m\u001b[0m\u001b[1;33m\u001b[0m\u001b[0m\n",
      "\u001b[1;32mD:\\code\\py\\corona-virus-analysis\\.env\\lib\\site-packages\\Bio\\SeqUtils\\__init__.py\u001b[0m in \u001b[0;36mmolecular_weight\u001b[1;34m(seq, seq_type, double_stranded, circular, monoisotopic)\u001b[0m\n\u001b[0;32m    439\u001b[0m             \u001b[0mweight\u001b[0m \u001b[1;33m-=\u001b[0m \u001b[0mwater\u001b[0m\u001b[1;33m\u001b[0m\u001b[1;33m\u001b[0m\u001b[0m\n\u001b[0;32m    440\u001b[0m     \u001b[1;32mexcept\u001b[0m \u001b[0mKeyError\u001b[0m \u001b[1;32mas\u001b[0m \u001b[0me\u001b[0m\u001b[1;33m:\u001b[0m\u001b[1;33m\u001b[0m\u001b[1;33m\u001b[0m\u001b[0m\n\u001b[1;32m--> 441\u001b[1;33m         \u001b[1;32mraise\u001b[0m \u001b[0mValueError\u001b[0m\u001b[1;33m(\u001b[0m\u001b[1;34m\"%s is not a valid unambiguous letter for %s\"\u001b[0m \u001b[1;33m%\u001b[0m \u001b[1;33m(\u001b[0m\u001b[0me\u001b[0m\u001b[1;33m,\u001b[0m \u001b[0mseq_type\u001b[0m\u001b[1;33m)\u001b[0m\u001b[1;33m)\u001b[0m\u001b[1;33m\u001b[0m\u001b[1;33m\u001b[0m\u001b[0m\n\u001b[0m\u001b[0;32m    442\u001b[0m \u001b[1;33m\u001b[0m\u001b[0m\n\u001b[0;32m    443\u001b[0m     \u001b[1;32mif\u001b[0m \u001b[0mseq_type\u001b[0m \u001b[1;32min\u001b[0m \u001b[1;33m(\u001b[0m\u001b[1;34m\"DNA\"\u001b[0m\u001b[1;33m,\u001b[0m \u001b[1;34m\"RNA\"\u001b[0m\u001b[1;33m)\u001b[0m \u001b[1;32mand\u001b[0m \u001b[0mdouble_stranded\u001b[0m\u001b[1;33m:\u001b[0m\u001b[1;33m\u001b[0m\u001b[1;33m\u001b[0m\u001b[0m\n",
      "\u001b[1;31mValueError\u001b[0m: 'N' is not a valid unambiguous letter for RNA"
     ]
    }
   ],
   "source": [
    "from Bio.SeqUtils import *\n",
    "\n",
    "def construct_sequtils_features(seq, window=500, display=False) -> list:\n",
    "    seq = seq.transcribe()\n",
    "    \n",
    "    gc_content = GC(seq)\n",
    "    \n",
    "    molecular_weight = ambigiuous_molecular_weight(seq, seq_type='RNA')\n",
    "    \n",
    "    gc_skew_array = GC_skew(seq, window=window)\n",
    "    \n",
    "    if display:\n",
    "        print(len(gc_skew_array))\n",
    "\n",
    "    max_gc_skew = np.max(gc_skew_array)\n",
    "    min_gc_skew = np.min(gc_skew_array)\n",
    "    mean = np.mean(gc_skew_array)\n",
    "    median = np.median(gc_skew_array)\n",
    "    mode = scipy.stats.mode(gc_skew_array).mode[0]\n",
    "\n",
    "    vector = [gc_content, molecular_weight, max_gc_skew, min_gc_skew, mean, median, mode]\n",
    "    # vector.extend(gc_skew_array[:60])\n",
    "    return vector\n",
    "\n",
    "len(construct_sequtils_features(seq=record.seq))"
   ]
  },
  {
   "cell_type": "code",
   "execution_count": 241,
   "metadata": {},
   "outputs": [
    {
     "name": "stdout",
     "output_type": "stream",
     "text": [
      "[('A', 8954), ('U', 9603), ('G', 5860), ('C', 5486)]\n"
     ]
    },
    {
     "data": {
      "text/plain": [
       "[8954, 9603, 5860, 5486]"
      ]
     },
     "execution_count": 241,
     "metadata": {},
     "output_type": "execute_result"
    }
   ],
   "source": [
    "#count feature\n",
    "def construct_nucleotide_counts(seq, display=False) -> list:\n",
    "    seq = seq.transcribe()\n",
    "    \n",
    "    mapping = {\n",
    "        'A': 0,\n",
    "        'U': 0,\n",
    "        'G': 0,\n",
    "        'C': 0,\n",
    "    }\n",
    "    template = collections.Counter(mapping)\n",
    "    counter = collections.Counter(seq)\n",
    "    template =  template + counter\n",
    "    \n",
    "    if display:\n",
    "        print(list(template.items()))\n",
    "    \n",
    "    vector = list(template.values())\n",
    "    return vector\n",
    "\n",
    "construct_nucleotide_counts(record.seq, display=True)"
   ]
  },
  {
   "cell_type": "code",
   "execution_count": 240,
   "metadata": {},
   "outputs": [
    {
     "data": {
      "text/plain": [
       "40"
      ]
     },
     "execution_count": 240,
     "metadata": {},
     "output_type": "execute_result"
    }
   ],
   "source": [
    "#amino-acid distribution\n",
    "\n",
    "def construct_amino_acid_features(seq, display=False) -> list:\n",
    "    seq_AminoAcids = seq_rna.translate()\n",
    "    amino_acids_dict = {'Y': 0, 'A': 0, 'Q': 0, 'D': 0, 'C': 0, 'G': 0, 'V': 0, 'T': 0, 'E': 0, 'N': 0, \n",
    "                       'K': 0, 'R': 0, 'S': 0, 'I': 0, 'H': 0, 'M': 0, 'F': 0, 'L': 0, 'W': 0, 'P': 0}\n",
    "    \n",
    "    # Percentages\n",
    "    \n",
    "    for amino_acid in amino_acids_dict:\n",
    "        amino_acids_dict[amino_acid] = seq_AminoAcids.count(amino_acid)/len(seq_AminoAcids)*100\n",
    "    \n",
    "    vector = list(amino_acids_dict.values())\n",
    "    \n",
    "    if display:\n",
    "        print(amino_acids_dict.values())\n",
    "    \n",
    "    # Counts \n",
    "    \n",
    "    for amino_acid in amino_acids_dict:\n",
    "        amino_acids_dict[amino_acid] = seq_AminoAcids.count(amino_acid)\n",
    "    \n",
    "    vector.extend(list(amino_acids_dict.values()))\n",
    "    return vector\n",
    "        \n",
    "len(construct_amino_acid_features(record.seq, display=False))"
   ]
  },
  {
   "cell_type": "code",
   "execution_count": 238,
   "metadata": {},
   "outputs": [
    {
     "name": "stdout",
     "output_type": "stream",
     "text": [
      "64\n"
     ]
    }
   ],
   "source": [
    "import itertools\n",
    "\n",
    "def construct_n_gram_features(seq, window_size=3) -> list:\n",
    "    permutations = itertools.product('ACTG', repeat=window_size)\n",
    "    mapping = dict.fromkeys(list(permutations), 0)\n",
    "\n",
    "    template = collections.Counter(mapping)\n",
    "\n",
    "    n_gram_generator = ngrams(record.seq, window_size)\n",
    "    counter = collections.Counter(n_gram_generator)\n",
    "\n",
    "    template = template + counter\n",
    "    \n",
    "    # getting the feature name\n",
    "    # ''.join(list(counter.keys())[0])\n",
    "    \n",
    "    vector = list(template.values())\n",
    "    return vector\n",
    "    \n",
    "print(len(construct_n_gram_features(record.seq, window_size=3)))"
   ]
  },
  {
   "cell_type": "code",
   "execution_count": 61,
   "metadata": {},
   "outputs": [
    {
     "data": {
      "text/plain": [
       "'ATT'"
      ]
     },
     "execution_count": 61,
     "metadata": {},
     "output_type": "execute_result"
    }
   ],
   "source": [
    "''.join(list(counter.keys())[0])"
   ]
  },
  {
   "cell_type": "code",
   "execution_count": 312,
   "metadata": {},
   "outputs": [
    {
     "name": "stdout",
     "output_type": "stream",
     "text": [
      "29909\n"
     ]
    }
   ],
   "source": [
    "import operator\n",
    "import functools\n",
    "import pywt\n",
    "import math\n",
    "#https://pywavelets.readthedocs.io/en/0.2.2/ref/dwt-discrete-wavelet-transform.html\n",
    "#mapping functon\n",
    "def toi(n):\n",
    "    if n=='A':\n",
    "        return 0\n",
    "    if n=='C':\n",
    "        return 1\n",
    "    if n=='G':\n",
    "        return 2\n",
    "    if n=='U':\n",
    "        return 3\n",
    "    \n",
    "# determine the decomposition level\n",
    "# N denotes the length of the DNA sequence\n",
    "# M is the fixed length of the feature vector, and L is the decomposition level.\n",
    "def decomposition_lvv(N,M):\n",
    "    r = N/M\n",
    "    ll = math.log(r,2)\n",
    "    L = math.ceil(ll)\n",
    "    return L    \n",
    "\n",
    "# DWT reduces the dimension of CODE. WFV uses the simplest Haar wavelet to create the feature vector of DNA sequence S\n",
    "def construct_fourier_wavelet_feature(seq):\n",
    "    # convert to RNA sequence\n",
    "    seq = seq.transcribe()\n",
    " \n",
    "    code_list = list(map(toi, seq)) \n",
    "    code = ''.join(map(str, code_list))\n",
    "\n",
    "    if len(code) < 30133:\n",
    "        number = 30133 - len(code)\n",
    "        s = ''.zfill(number)\n",
    "        code += s\n",
    "  \n",
    "        \n",
    "    N = len(code)\n",
    "    l = decomposition_lvv(N, 2)\n",
    "    \n",
    "    coeffs = pywt.wavedec(code_list, 'haar', level = l)\n",
    "    \n",
    "    # return list(np.array(coeffs).flatten())\n",
    "    \n",
    "    # flattening the list\n",
    "    coeffs =functools.reduce(operator.iconcat, coeffs, [])\n",
    "    \n",
    "    # return list(np.array(coeffs).flatten())\n",
    "    \n",
    "    return list(coeffs)\n",
    "    \n",
    "\n",
    "print(len(construct_fourier_wavelet_feature(a)))"
   ]
  },
  {
   "cell_type": "code",
   "execution_count": 212,
   "metadata": {},
   "outputs": [
    {
     "data": {
      "text/plain": [
       "Seq('AAC')"
      ]
     },
     "execution_count": 212,
     "metadata": {},
     "output_type": "execute_result"
    }
   ],
   "source": [
    "a = record.seq\n",
    "b = x\n",
    "result1 = construct_fourier_wavelet_feature(a)\n",
    "result2 = construct_fourier_wavelet_feature(b)\n",
    "print(len(result1))\n",
    "print(len(result2))\n",
    "for i in range(0,len(result1)):\n",
    "    if len(result1[i]) == len(result2[i]):\n",
    "        print(i, 'True')"
   ]
  },
  {
   "cell_type": "code",
   "execution_count": null,
   "metadata": {},
   "outputs": [],
   "source": []
  }
 ],
 "metadata": {
  "kernelspec": {
   "display_name": ".env",
   "language": "python",
   "name": ".env"
  },
  "language_info": {
   "codemirror_mode": {
    "name": "ipython",
    "version": 3
   },
   "file_extension": ".py",
   "mimetype": "text/x-python",
   "name": "python",
   "nbconvert_exporter": "python",
   "pygments_lexer": "ipython3",
   "version": "3.6.8"
  }
 },
 "nbformat": 4,
 "nbformat_minor": 4
}
