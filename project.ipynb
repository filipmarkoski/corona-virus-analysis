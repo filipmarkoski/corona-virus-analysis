{
 "cells": [
  {
   "cell_type": "code",
   "execution_count": 2,
   "metadata": {},
   "outputs": [
    {
     "name": "stdout",
     "output_type": "stream",
     "text": [
      "Python version: 3.6.8 (tags/v3.6.8:3c6b436a57, Dec 24 2018, 00:16:47) [MSC v.1916 64 bit (AMD64)]\n"
     ]
    }
   ],
   "source": [
    "import sys\n",
    "print(f'Python version:', sys.version)"
   ]
  },
  {
   "cell_type": "code",
   "execution_count": 39,
   "metadata": {},
   "outputs": [
    {
     "name": "stdout",
     "output_type": "stream",
     "text": [
      "BioPython version: 1.76\n"
     ]
    }
   ],
   "source": [
    "# Packages\n",
    "import termcolor as tc\n",
    "import Bio; print('BioPython version:', Bio.__version__)\n",
    "\n",
    "# Python packages\n",
    "import os\n",
    "import sys\n",
    "import gc\n",
    "import string\n",
    "import pickle\n",
    "import collections\n",
    "import random\n",
    "\n",
    "# Data Science and Computation\n",
    "import numpy as np # linear algebra\n",
    "import pandas as pd # data processing, CSV file I/O (e.g. pd.read_csv)\n",
    "import scipy # statistics\n",
    "import sklearn # machine learning\n",
    "\n",
    "# Natural language processing\n",
    "import nltk\n",
    "\n",
    "# Visualization \n",
    "import matplotlib.pyplot as plt\n",
    "import seaborn as sns\n",
    "\n",
    "# Local Imports\n",
    "import definitions as defs"
   ]
  },
  {
   "cell_type": "code",
   "execution_count": 16,
   "metadata": {},
   "outputs": [],
   "source": [
    "sars_file = os.path.join(defs.DATA_DIR, 'sars_sequences.fasta')"
   ]
  },
  {
   "cell_type": "code",
   "execution_count": 17,
   "metadata": {},
   "outputs": [
    {
     "data": {
      "text/plain": [
       "'D:\\\\code\\\\py\\\\corona-virus-analysis\\\\data\\\\sars_sequences.fasta'"
      ]
     },
     "execution_count": 17,
     "metadata": {},
     "output_type": "execute_result"
    }
   ],
   "source": [
    "sars_file"
   ]
  },
  {
   "cell_type": "markdown",
   "metadata": {},
   "source": [
    "# Helper Functions"
   ]
  },
  {
   "cell_type": "code",
   "execution_count": 41,
   "metadata": {},
   "outputs": [],
   "source": [
    "def examine_distribution(sequence, title=''):\n",
    "    # Calculate statistics\n",
    "    mean = np.mean(sequence)\n",
    "    median = np.median(sequence)\n",
    "    mode = int(scipy.stats.mode(sequence).mode)\n",
    "    statistics = {'Mean': mean, 'Median': median, 'Mode': mode}\n",
    "\n",
    "    # Plot distribution\n",
    "    fig, ax = plt.subplots()\n",
    "    sns.distplot(sequence)\n",
    "    ax.axvline(mean, color='r', linestyle='--')\n",
    "    ax.axvline(median, color='g', linestyle='-')\n",
    "    ax.axvline(mode, color='b', linestyle='-')\n",
    "\n",
    "    plt.title(title.capitalize())\n",
    "    plt.legend(statistics)\n",
    "    plt.show()\n",
    "\n",
    "    for key, value in statistics.items():\n",
    "        print(f'\\t{key}={value:.2f}')\n"
   ]
  },
  {
   "cell_type": "code",
   "execution_count": 7,
   "metadata": {
    "scrolled": true
   },
   "outputs": [],
   "source": [
    "handle = Entrez.efetch(db='nucleotide', id='1850859292', rettype='fasta', retmode='text')\n",
    "record_b = SeqIO.read(handle, 'fasta')"
   ]
  },
  {
   "cell_type": "code",
   "execution_count": 31,
   "metadata": {},
   "outputs": [
    {
     "data": {
      "text/plain": [
       "2"
      ]
     },
     "execution_count": 31,
     "metadata": {},
     "output_type": "execute_result"
    }
   ],
   "source": [
    "from Bio import SeqIO\n",
    "from Bio import Entrez\n",
    "\n",
    "Entrez.email = 'filip.markoski45@gmail.com'\n",
    "handle = Entrez.esearch(db='nucleotide', term='SARS-CoV-2')\n",
    "search = Entrez.read(handle)\n",
    "\n",
    "for id in search['IdList']:\n",
    "    handle = Entrez.efetch(db='nucleotide', id=id, rettype='fasta', retmode='text')\n",
    "    record = SeqIO.read(handle, 'fasta')\n",
    "    print(record.description)\n",
    "    print(len(record.seq))"
   ]
  },
  {
   "cell_type": "markdown",
   "metadata": {},
   "source": [
    "# Code"
   ]
  },
  {
   "cell_type": "code",
   "execution_count": 37,
   "metadata": {},
   "outputs": [],
   "source": [
    "?? Entrez.efetch"
   ]
  },
  {
   "cell_type": "code",
   "execution_count": 320,
   "metadata": {},
   "outputs": [],
   "source": [
    "def construct_features(seq):\n",
    "    features = []\n",
    "    \n",
    "    # quick features\n",
    "    features.append(len(seq))\n",
    "    \n",
    "    features.extend(construct_sequtils_features(seq, window=500))\n",
    "    features.extend(construct_nucleotide_counts(seq, display=False))\n",
    "    features.extend(construct_amino_acid_features(seq, display=False))\n",
    "    features.extend(construct_n_gram_features(seq, window_size=3))\n",
    "    features.extend(construct_fourier_wavelet_feature(seq))\n",
    "    \n",
    "    return np.array(features)"
   ]
  },
  {
   "cell_type": "code",
   "execution_count": 321,
   "metadata": {},
   "outputs": [
    {
     "name": "stderr",
     "output_type": "stream",
     "text": [
      "D:\\code\\py\\corona-virus-analysis\\.env\\lib\\site-packages\\Bio\\Seq.py:2859: BiopythonWarning: Partial codon, len(sequence) not a multiple of three. Explicitly trim the sequence or add trailing N before translation. This may become an error in future.\n",
      "  BiopythonWarning,\n"
     ]
    },
    {
     "data": {
      "text/html": [
       "<div>\n",
       "<style scoped>\n",
       "    .dataframe tbody tr th:only-of-type {\n",
       "        vertical-align: middle;\n",
       "    }\n",
       "\n",
       "    .dataframe tbody tr th {\n",
       "        vertical-align: top;\n",
       "    }\n",
       "\n",
       "    .dataframe thead th {\n",
       "        text-align: right;\n",
       "    }\n",
       "</style>\n",
       "<table border=\"1\" class=\"dataframe\">\n",
       "  <thead>\n",
       "    <tr style=\"text-align: right;\">\n",
       "      <th></th>\n",
       "      <th>length</th>\n",
       "      <th>Seq</th>\n",
       "      <th>Description</th>\n",
       "      <th>RNA</th>\n",
       "      <th>Amino_Acid</th>\n",
       "    </tr>\n",
       "    <tr>\n",
       "      <th>ID</th>\n",
       "      <th></th>\n",
       "      <th></th>\n",
       "      <th></th>\n",
       "      <th></th>\n",
       "      <th></th>\n",
       "    </tr>\n",
       "  </thead>\n",
       "  <tbody>\n",
       "    <tr>\n",
       "      <th>KJ473811.1</th>\n",
       "      <td>29037</td>\n",
       "      <td>(G, G, T, T, T, C, G, T, C, C, G, G, G, T, G, ...</td>\n",
       "      <td>KJ473811.1 |BtRf-BetaCoV/JL2012| complete geno...</td>\n",
       "      <td>(G, G, U, U, U, C, G, U, C, C, G, G, G, U, G, ...</td>\n",
       "      <td>(G, F, V, R, V, *, P, K, G, K, M, E, S, L, V, ...</td>\n",
       "    </tr>\n",
       "    <tr>\n",
       "      <th>FJ588686.1</th>\n",
       "      <td>29059</td>\n",
       "      <td>(C, C, A, G, G, A, A, A, A, G, C, C, A, A, C, ...</td>\n",
       "      <td>FJ588686.1 |Bat SARS CoV Rs672/2006| complete ...</td>\n",
       "      <td>(C, C, A, G, G, A, A, A, A, G, C, C, A, A, C, ...</td>\n",
       "      <td>(P, G, K, A, N, Q, P, R, S, L, V, D, L, F, S, ...</td>\n",
       "    </tr>\n",
       "    <tr>\n",
       "      <th>KJ473816.1</th>\n",
       "      <td>29142</td>\n",
       "      <td>(G, T, T, T, C, G, T, C, C, G, G, G, T, G, T, ...</td>\n",
       "      <td>KJ473816.1 |BtRs-BetaCoV/YN2013| complete geno...</td>\n",
       "      <td>(G, U, U, U, C, G, U, C, C, G, G, G, U, G, U, ...</td>\n",
       "      <td>(V, S, S, G, C, D, R, K, V, R, W, R, A, L, F, ...</td>\n",
       "    </tr>\n",
       "    <tr>\n",
       "      <th>KJ473815.1</th>\n",
       "      <td>29161</td>\n",
       "      <td>(G, T, C, C, G, G, G, T, G, T, G, A, C, C, G, ...</td>\n",
       "      <td>KJ473815.1 |BtRs-BetaCoV/GX2013| complete geno...</td>\n",
       "      <td>(G, U, C, C, G, G, G, U, G, U, G, A, C, C, G, ...</td>\n",
       "      <td>(V, R, V, *, P, K, G, K, M, E, S, L, V, L, G, ...</td>\n",
       "    </tr>\n",
       "    <tr>\n",
       "      <th>KY352407.1</th>\n",
       "      <td>29274</td>\n",
       "      <td>(T, A, A, A, A, G, G, A, T, T, A, A, T, C, C, ...</td>\n",
       "      <td>KY352407.1 |Severe acute respiratory syndrome-...</td>\n",
       "      <td>(U, A, A, A, A, G, G, A, U, U, A, A, U, C, C, ...</td>\n",
       "      <td>(*, K, D, *, S, F, P, E, N, P, T, N, L, D, L, ...</td>\n",
       "    </tr>\n",
       "  </tbody>\n",
       "</table>\n",
       "</div>"
      ],
      "text/plain": [
       "            length                                                Seq  \\\n",
       "ID                                                                      \n",
       "KJ473811.1   29037  (G, G, T, T, T, C, G, T, C, C, G, G, G, T, G, ...   \n",
       "FJ588686.1   29059  (C, C, A, G, G, A, A, A, A, G, C, C, A, A, C, ...   \n",
       "KJ473816.1   29142  (G, T, T, T, C, G, T, C, C, G, G, G, T, G, T, ...   \n",
       "KJ473815.1   29161  (G, T, C, C, G, G, G, T, G, T, G, A, C, C, G, ...   \n",
       "KY352407.1   29274  (T, A, A, A, A, G, G, A, T, T, A, A, T, C, C, ...   \n",
       "\n",
       "                                                  Description  \\\n",
       "ID                                                              \n",
       "KJ473811.1  KJ473811.1 |BtRf-BetaCoV/JL2012| complete geno...   \n",
       "FJ588686.1  FJ588686.1 |Bat SARS CoV Rs672/2006| complete ...   \n",
       "KJ473816.1  KJ473816.1 |BtRs-BetaCoV/YN2013| complete geno...   \n",
       "KJ473815.1  KJ473815.1 |BtRs-BetaCoV/GX2013| complete geno...   \n",
       "KY352407.1  KY352407.1 |Severe acute respiratory syndrome-...   \n",
       "\n",
       "                                                          RNA  \\\n",
       "ID                                                              \n",
       "KJ473811.1  (G, G, U, U, U, C, G, U, C, C, G, G, G, U, G, ...   \n",
       "FJ588686.1  (C, C, A, G, G, A, A, A, A, G, C, C, A, A, C, ...   \n",
       "KJ473816.1  (G, U, U, U, C, G, U, C, C, G, G, G, U, G, U, ...   \n",
       "KJ473815.1  (G, U, C, C, G, G, G, U, G, U, G, A, C, C, G, ...   \n",
       "KY352407.1  (U, A, A, A, A, G, G, A, U, U, A, A, U, C, C, ...   \n",
       "\n",
       "                                                   Amino_Acid  \n",
       "ID                                                             \n",
       "KJ473811.1  (G, F, V, R, V, *, P, K, G, K, M, E, S, L, V, ...  \n",
       "FJ588686.1  (P, G, K, A, N, Q, P, R, S, L, V, D, L, F, S, ...  \n",
       "KJ473816.1  (V, S, S, G, C, D, R, K, V, R, W, R, A, L, F, ...  \n",
       "KJ473815.1  (V, R, V, *, P, K, G, K, M, E, S, L, V, L, G, ...  \n",
       "KY352407.1  (*, K, D, *, S, F, P, E, N, P, T, N, L, D, L, ...  "
      ]
     },
     "execution_count": 321,
     "metadata": {},
     "output_type": "execute_result"
    }
   ],
   "source": [
    "features = []\n",
    "\n",
    "with open(sars_file) as fasta_file:  # Will close handle cleanly\n",
    "    identifiers = []\n",
    "    lengths = []\n",
    "    nucleotides = []\n",
    "    descriptions = []\n",
    "    rna = []\n",
    "    amino_acid = []\n",
    "    count = 0\n",
    "    for seq_record in SeqIO.parse(fasta_file, 'fasta'):  # (generator)\n",
    "        if len(set(seq_record.seq)) != 4:\n",
    "            continue \n",
    "            \n",
    "        if count == 5:\n",
    "            break\n",
    "        count+=1\n",
    "        \n",
    "        identifiers.append(seq_record.id)\n",
    "        lengths.append(len(seq_record.seq))\n",
    "        nucleotides.append(seq_record.seq)\n",
    "        descriptions.append(seq_record.description)\n",
    "        rna_temp = seq_record.seq.transcribe()\n",
    "        rna.append(rna_temp)\n",
    "        amino_acid.append(rna_temp.translate())\n",
    "        #print(set(seq_record.seq.translate()), 'yes')\n",
    "        features.append(construct_features(seq_record.seq))\n",
    "\n",
    "        \n",
    "s1 = pd.Series(identifiers, name='ID')\n",
    "s2 = pd.Series(lengths, name='length')\n",
    "#s3 = pd.Series(nucleotides, name='Seq')\n",
    "s4 = pd.Series(descriptions, name='Description')\n",
    "#Gathering Series into a pandas DataFrame and rename index as ID column\n",
    "sars_nucelotide = pd.DataFrame(dict(ID=s1, length=s2, Seq=nucleotides,Description=s4, RNA=rna, Amino_Acid=amino_acid)).set_index(['ID'])\n",
    "sars_nucelotide"
   ]
  },
  {
   "cell_type": "code",
   "execution_count": 323,
   "metadata": {
    "scrolled": true
   },
   "outputs": [
    {
     "data": {
      "text/html": [
       "<div>\n",
       "<style scoped>\n",
       "    .dataframe tbody tr th:only-of-type {\n",
       "        vertical-align: middle;\n",
       "    }\n",
       "\n",
       "    .dataframe tbody tr th {\n",
       "        vertical-align: top;\n",
       "    }\n",
       "\n",
       "    .dataframe thead th {\n",
       "        text-align: right;\n",
       "    }\n",
       "</style>\n",
       "<table border=\"1\" class=\"dataframe\">\n",
       "  <thead>\n",
       "    <tr style=\"text-align: right;\">\n",
       "      <th></th>\n",
       "      <th>0</th>\n",
       "      <th>1</th>\n",
       "      <th>2</th>\n",
       "      <th>3</th>\n",
       "      <th>4</th>\n",
       "      <th>5</th>\n",
       "      <th>6</th>\n",
       "      <th>7</th>\n",
       "      <th>8</th>\n",
       "      <th>9</th>\n",
       "      <th>...</th>\n",
       "      <th>29387</th>\n",
       "      <th>29388</th>\n",
       "      <th>29389</th>\n",
       "      <th>29390</th>\n",
       "      <th>29391</th>\n",
       "      <th>29392</th>\n",
       "      <th>29393</th>\n",
       "      <th>29394</th>\n",
       "      <th>29395</th>\n",
       "      <th>29396</th>\n",
       "    </tr>\n",
       "    <tr>\n",
       "      <th>ID</th>\n",
       "      <th></th>\n",
       "      <th></th>\n",
       "      <th></th>\n",
       "      <th></th>\n",
       "      <th></th>\n",
       "      <th></th>\n",
       "      <th></th>\n",
       "      <th></th>\n",
       "      <th></th>\n",
       "      <th></th>\n",
       "      <th></th>\n",
       "      <th></th>\n",
       "      <th></th>\n",
       "      <th></th>\n",
       "      <th></th>\n",
       "      <th></th>\n",
       "      <th></th>\n",
       "      <th></th>\n",
       "      <th></th>\n",
       "      <th></th>\n",
       "      <th></th>\n",
       "    </tr>\n",
       "  </thead>\n",
       "  <tbody>\n",
       "    <tr>\n",
       "      <th>KJ473811.1</th>\n",
       "      <td>29037.0</td>\n",
       "      <td>40.999415</td>\n",
       "      <td>9.311954e+06</td>\n",
       "      <td>0.235294</td>\n",
       "      <td>-0.103825</td>\n",
       "      <td>0.024313</td>\n",
       "      <td>0.026786</td>\n",
       "      <td>-0.051163</td>\n",
       "      <td>8254.0</td>\n",
       "      <td>8878.0</td>\n",
       "      <td>...</td>\n",
       "      <td>0.00000</td>\n",
       "      <td>0.000000</td>\n",
       "      <td>0.000000</td>\n",
       "      <td>0.0</td>\n",
       "      <td>0.0</td>\n",
       "      <td>0.0</td>\n",
       "      <td>0.0</td>\n",
       "      <td>0.0</td>\n",
       "      <td>0.0</td>\n",
       "      <td>0.0</td>\n",
       "    </tr>\n",
       "    <tr>\n",
       "      <th>FJ588686.1</th>\n",
       "      <td>29059.0</td>\n",
       "      <td>41.092261</td>\n",
       "      <td>9.319131e+06</td>\n",
       "      <td>0.400000</td>\n",
       "      <td>-0.164706</td>\n",
       "      <td>0.024767</td>\n",
       "      <td>0.025126</td>\n",
       "      <td>0.000000</td>\n",
       "      <td>8266.0</td>\n",
       "      <td>8852.0</td>\n",
       "      <td>...</td>\n",
       "      <td>0.00000</td>\n",
       "      <td>0.000000</td>\n",
       "      <td>0.000000</td>\n",
       "      <td>0.0</td>\n",
       "      <td>0.0</td>\n",
       "      <td>0.0</td>\n",
       "      <td>0.0</td>\n",
       "      <td>0.0</td>\n",
       "      <td>0.0</td>\n",
       "      <td>0.0</td>\n",
       "    </tr>\n",
       "    <tr>\n",
       "      <th>KJ473816.1</th>\n",
       "      <td>29142.0</td>\n",
       "      <td>41.102189</td>\n",
       "      <td>9.345598e+06</td>\n",
       "      <td>0.251185</td>\n",
       "      <td>-0.134328</td>\n",
       "      <td>0.022514</td>\n",
       "      <td>0.027027</td>\n",
       "      <td>0.054187</td>\n",
       "      <td>8230.0</td>\n",
       "      <td>8934.0</td>\n",
       "      <td>...</td>\n",
       "      <td>0.00000</td>\n",
       "      <td>0.000000</td>\n",
       "      <td>0.000000</td>\n",
       "      <td>0.0</td>\n",
       "      <td>0.0</td>\n",
       "      <td>0.0</td>\n",
       "      <td>0.0</td>\n",
       "      <td>0.0</td>\n",
       "      <td>0.0</td>\n",
       "      <td>0.0</td>\n",
       "    </tr>\n",
       "    <tr>\n",
       "      <th>KJ473815.1</th>\n",
       "      <td>29161.0</td>\n",
       "      <td>40.862796</td>\n",
       "      <td>9.352055e+06</td>\n",
       "      <td>0.241706</td>\n",
       "      <td>-0.156250</td>\n",
       "      <td>0.019012</td>\n",
       "      <td>0.024631</td>\n",
       "      <td>0.000000</td>\n",
       "      <td>8342.0</td>\n",
       "      <td>8903.0</td>\n",
       "      <td>...</td>\n",
       "      <td>0.00000</td>\n",
       "      <td>0.000000</td>\n",
       "      <td>0.000000</td>\n",
       "      <td>0.0</td>\n",
       "      <td>0.0</td>\n",
       "      <td>0.0</td>\n",
       "      <td>0.0</td>\n",
       "      <td>0.0</td>\n",
       "      <td>0.0</td>\n",
       "      <td>0.0</td>\n",
       "    </tr>\n",
       "    <tr>\n",
       "      <th>KY352407.1</th>\n",
       "      <td>29274.0</td>\n",
       "      <td>39.215686</td>\n",
       "      <td>9.386117e+06</td>\n",
       "      <td>0.187817</td>\n",
       "      <td>-0.123596</td>\n",
       "      <td>0.055701</td>\n",
       "      <td>0.056995</td>\n",
       "      <td>0.025381</td>\n",
       "      <td>8354.0</td>\n",
       "      <td>9440.0</td>\n",
       "      <td>...</td>\n",
       "      <td>-2.12132</td>\n",
       "      <td>1.414214</td>\n",
       "      <td>0.707107</td>\n",
       "      <td>0.0</td>\n",
       "      <td>0.0</td>\n",
       "      <td>0.0</td>\n",
       "      <td>0.0</td>\n",
       "      <td>0.0</td>\n",
       "      <td>0.0</td>\n",
       "      <td>0.0</td>\n",
       "    </tr>\n",
       "  </tbody>\n",
       "</table>\n",
       "<p>5 rows × 29397 columns</p>\n",
       "</div>"
      ],
      "text/plain": [
       "              0          1             2         3         4         5      \\\n",
       "ID                                                                           \n",
       "KJ473811.1  29037.0  40.999415  9.311954e+06  0.235294 -0.103825  0.024313   \n",
       "FJ588686.1  29059.0  41.092261  9.319131e+06  0.400000 -0.164706  0.024767   \n",
       "KJ473816.1  29142.0  41.102189  9.345598e+06  0.251185 -0.134328  0.022514   \n",
       "KJ473815.1  29161.0  40.862796  9.352055e+06  0.241706 -0.156250  0.019012   \n",
       "KY352407.1  29274.0  39.215686  9.386117e+06  0.187817 -0.123596  0.055701   \n",
       "\n",
       "               6         7       8       9      ...    29387     29388  \\\n",
       "ID                                              ...                      \n",
       "KJ473811.1  0.026786 -0.051163  8254.0  8878.0  ...  0.00000  0.000000   \n",
       "FJ588686.1  0.025126  0.000000  8266.0  8852.0  ...  0.00000  0.000000   \n",
       "KJ473816.1  0.027027  0.054187  8230.0  8934.0  ...  0.00000  0.000000   \n",
       "KJ473815.1  0.024631  0.000000  8342.0  8903.0  ...  0.00000  0.000000   \n",
       "KY352407.1  0.056995  0.025381  8354.0  9440.0  ... -2.12132  1.414214   \n",
       "\n",
       "               29389  29390  29391  29392  29393  29394  29395  29396  \n",
       "ID                                                                     \n",
       "KJ473811.1  0.000000    0.0    0.0    0.0    0.0    0.0    0.0    0.0  \n",
       "FJ588686.1  0.000000    0.0    0.0    0.0    0.0    0.0    0.0    0.0  \n",
       "KJ473816.1  0.000000    0.0    0.0    0.0    0.0    0.0    0.0    0.0  \n",
       "KJ473815.1  0.000000    0.0    0.0    0.0    0.0    0.0    0.0    0.0  \n",
       "KY352407.1  0.707107    0.0    0.0    0.0    0.0    0.0    0.0    0.0  \n",
       "\n",
       "[5 rows x 29397 columns]"
      ]
     },
     "execution_count": 323,
     "metadata": {},
     "output_type": "execute_result"
    }
   ],
   "source": [
    "sars_features = pd.DataFrame(features).fillna(0)\n",
    "sars_features['ID'] = s1\n",
    "sars_features = sars_features.set_index('ID')\n",
    "sars_features"
   ]
  },
  {
   "cell_type": "code",
   "execution_count": 328,
   "metadata": {},
   "outputs": [],
   "source": [
    "location = os.path.join(defs.DATA_DIR, 'sars_features.csv')\n",
    "sars_features.to_csv(location)"
   ]
  },
  {
   "cell_type": "markdown",
   "metadata": {},
   "source": [
    "# Features "
   ]
  },
  {
   "cell_type": "code",
   "execution_count": 298,
   "metadata": {},
   "outputs": [
    {
     "data": {
      "text/plain": [
       "7"
      ]
     },
     "execution_count": 298,
     "metadata": {},
     "output_type": "execute_result"
    }
   ],
   "source": [
    "from Bio.SeqUtils import *\n",
    "\n",
    "def construct_sequtils_features(seq, window=500, display=False) -> list:\n",
    "    seq = seq.transcribe()\n",
    "    \n",
    "    gc_content = GC(seq)\n",
    "    \n",
    "    mol_weight = molecular_weight(seq, seq_type='RNA')\n",
    "    \n",
    "    gc_skew_array = GC_skew(seq, window=window)\n",
    "    \n",
    "    if display:\n",
    "        print(len(gc_skew_array))\n",
    "\n",
    "    max_gc_skew = np.max(gc_skew_array)\n",
    "    min_gc_skew = np.min(gc_skew_array)\n",
    "    mean = np.mean(gc_skew_array)\n",
    "    median = np.median(gc_skew_array)\n",
    "    mode = scipy.stats.mode(gc_skew_array).mode[0]\n",
    "\n",
    "    vector = [gc_content, mol_weight, max_gc_skew, min_gc_skew, mean, median, mode]\n",
    "    # vector.extend(gc_skew_array[:60])\n",
    "    return vector\n",
    "\n",
    "len(construct_sequtils_features(seq=record.seq))"
   ]
  },
  {
   "cell_type": "code",
   "execution_count": 241,
   "metadata": {},
   "outputs": [
    {
     "name": "stdout",
     "output_type": "stream",
     "text": [
      "[('A', 8954), ('U', 9603), ('G', 5860), ('C', 5486)]\n"
     ]
    },
    {
     "data": {
      "text/plain": [
       "[8954, 9603, 5860, 5486]"
      ]
     },
     "execution_count": 241,
     "metadata": {},
     "output_type": "execute_result"
    }
   ],
   "source": [
    "#count feature\n",
    "def construct_nucleotide_counts(seq, display=False) -> list:\n",
    "    seq = seq.transcribe()\n",
    "    \n",
    "    mapping = {\n",
    "        'A': 0,\n",
    "        'U': 0,\n",
    "        'G': 0,\n",
    "        'C': 0,\n",
    "    }\n",
    "    template = collections.Counter(mapping)\n",
    "    counter = collections.Counter(seq)\n",
    "    template =  template + counter\n",
    "    \n",
    "    if display:\n",
    "        print(list(template.items()))\n",
    "    \n",
    "    vector = list(template.values())\n",
    "    return vector\n",
    "\n",
    "construct_nucleotide_counts(record.seq, display=True)"
   ]
  },
  {
   "cell_type": "code",
   "execution_count": 240,
   "metadata": {},
   "outputs": [
    {
     "data": {
      "text/plain": [
       "40"
      ]
     },
     "execution_count": 240,
     "metadata": {},
     "output_type": "execute_result"
    }
   ],
   "source": [
    "#amino-acid distribution\n",
    "\n",
    "def construct_amino_acid_features(seq, display=False) -> list:\n",
    "    seq_AminoAcids = seq_rna.translate()\n",
    "    amino_acids_dict = {'Y': 0, 'A': 0, 'Q': 0, 'D': 0, 'C': 0, 'G': 0, 'V': 0, 'T': 0, 'E': 0, 'N': 0, \n",
    "                       'K': 0, 'R': 0, 'S': 0, 'I': 0, 'H': 0, 'M': 0, 'F': 0, 'L': 0, 'W': 0, 'P': 0}\n",
    "    \n",
    "    # Percentages\n",
    "    \n",
    "    for amino_acid in amino_acids_dict:\n",
    "        amino_acids_dict[amino_acid] = seq_AminoAcids.count(amino_acid)/len(seq_AminoAcids)*100\n",
    "    \n",
    "    vector = list(amino_acids_dict.values())\n",
    "    \n",
    "    if display:\n",
    "        print(amino_acids_dict.values())\n",
    "    \n",
    "    # Counts \n",
    "    \n",
    "    for amino_acid in amino_acids_dict:\n",
    "        amino_acids_dict[amino_acid] = seq_AminoAcids.count(amino_acid)\n",
    "    \n",
    "    vector.extend(list(amino_acids_dict.values()))\n",
    "    return vector\n",
    "        \n",
    "len(construct_amino_acid_features(record.seq, display=False))"
   ]
  },
  {
   "cell_type": "code",
   "execution_count": 238,
   "metadata": {},
   "outputs": [
    {
     "name": "stdout",
     "output_type": "stream",
     "text": [
      "64\n"
     ]
    }
   ],
   "source": [
    "import itertools\n",
    "\n",
    "def construct_n_gram_features(seq, window_size=3) -> list:\n",
    "    permutations = itertools.product('ACTG', repeat=window_size)\n",
    "    mapping = dict.fromkeys(list(permutations), 0)\n",
    "\n",
    "    template = collections.Counter(mapping)\n",
    "\n",
    "    n_gram_generator = ngrams(record.seq, window_size)\n",
    "    counter = collections.Counter(n_gram_generator)\n",
    "\n",
    "    template = template + counter\n",
    "    \n",
    "    # getting the feature name\n",
    "    # ''.join(list(counter.keys())[0])\n",
    "    \n",
    "    vector = list(template.values())\n",
    "    return vector\n",
    "    \n",
    "print(len(construct_n_gram_features(record.seq, window_size=3)))"
   ]
  },
  {
   "cell_type": "code",
   "execution_count": 61,
   "metadata": {},
   "outputs": [
    {
     "data": {
      "text/plain": [
       "'ATT'"
      ]
     },
     "execution_count": 61,
     "metadata": {},
     "output_type": "execute_result"
    }
   ],
   "source": [
    "''.join(list(counter.keys())[0])"
   ]
  },
  {
   "cell_type": "code",
   "execution_count": 312,
   "metadata": {},
   "outputs": [
    {
     "name": "stdout",
     "output_type": "stream",
     "text": [
      "29909\n"
     ]
    }
   ],
   "source": [
    "import operator\n",
    "import functools\n",
    "import pywt\n",
    "import math\n",
    "#https://pywavelets.readthedocs.io/en/0.2.2/ref/dwt-discrete-wavelet-transform.html\n",
    "#mapping functon\n",
    "def toi(n):\n",
    "    if n=='A':\n",
    "        return 0\n",
    "    if n=='C':\n",
    "        return 1\n",
    "    if n=='G':\n",
    "        return 2\n",
    "    if n=='U':\n",
    "        return 3\n",
    "    \n",
    "# determine the decomposition level\n",
    "# N denotes the length of the DNA sequence\n",
    "# M is the fixed length of the feature vector, and L is the decomposition level.\n",
    "def decomposition_lvv(N,M):\n",
    "    r = N/M\n",
    "    ll = math.log(r,2)\n",
    "    L = math.ceil(ll)\n",
    "    return L    \n",
    "\n",
    "# DWT reduces the dimension of CODE. WFV uses the simplest Haar wavelet to create the feature vector of DNA sequence S\n",
    "def construct_fourier_wavelet_feature(seq):\n",
    "    # convert to RNA sequence\n",
    "    seq = seq.transcribe()\n",
    " \n",
    "    code_list = list(map(toi, seq)) \n",
    "    code = ''.join(map(str, code_list))\n",
    "\n",
    "    if len(code) < 30133:\n",
    "        number = 30133 - len(code)\n",
    "        s = ''.zfill(number)\n",
    "        code += s\n",
    "  \n",
    "        \n",
    "    N = len(code)\n",
    "    l = decomposition_lvv(N, 2)\n",
    "    \n",
    "    coeffs = pywt.wavedec(code_list, 'haar', level = l)\n",
    "    \n",
    "    # return list(np.array(coeffs).flatten())\n",
    "    \n",
    "    # flattening the list\n",
    "    coeffs =functools.reduce(operator.iconcat, coeffs, [])\n",
    "    \n",
    "    # return list(np.array(coeffs).flatten())\n",
    "    \n",
    "    return list(coeffs)\n",
    "    \n",
    "\n",
    "print(len(construct_fourier_wavelet_feature(a)))"
   ]
  },
  {
   "cell_type": "code",
   "execution_count": 212,
   "metadata": {},
   "outputs": [
    {
     "data": {
      "text/plain": [
       "Seq('AAC')"
      ]
     },
     "execution_count": 212,
     "metadata": {},
     "output_type": "execute_result"
    }
   ],
   "source": [
    "\n",
    "a = record.seq\n",
    "b = x\n",
    "result1 = construct_fourier_wavelet_feature(a)\n",
    "result2 = construct_fourier_wavelet_feature(b)\n",
    "print(len(result1))\n",
    "print(len(result2))\n",
    "for i in range(0,len(result1)):\n",
    "    if len(result1[i]) == len(result2[i]):\n",
    "        print(i, 'True')"
   ]
  },
  {
   "cell_type": "code",
   "execution_count": 230,
   "metadata": {},
   "outputs": [
    {
     "data": {
      "text/plain": [
       "'0000'"
      ]
     },
     "execution_count": 230,
     "metadata": {},
     "output_type": "execute_result"
    }
   ],
   "source": [
    "s= ''\n",
    "s.zfill(4)"
   ]
  },
  {
   "cell_type": "code",
   "execution_count": null,
   "metadata": {},
   "outputs": [],
   "source": []
  }
 ],
 "metadata": {
  "kernelspec": {
   "display_name": ".env",
   "language": "python",
   "name": ".env"
  },
  "language_info": {
   "codemirror_mode": {
    "name": "ipython",
    "version": 3
   },
   "file_extension": ".py",
   "mimetype": "text/x-python",
   "name": "python",
   "nbconvert_exporter": "python",
   "pygments_lexer": "ipython3",
   "version": "3.6.8"
  }
 },
 "nbformat": 4,
 "nbformat_minor": 4
}
