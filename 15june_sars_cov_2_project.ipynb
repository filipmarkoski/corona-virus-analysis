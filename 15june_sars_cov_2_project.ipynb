{
 "cells": [
  {
   "cell_type": "code",
   "execution_count": 2,
   "metadata": {},
   "outputs": [
    {
     "name": "stdout",
     "output_type": "stream",
     "text": [
      "Python version: 3.6.8 (tags/v3.6.8:3c6b436a57, Dec 24 2018, 00:16:47) [MSC v.1916 64 bit (AMD64)]\n"
     ]
    }
   ],
   "source": [
    "import sys\n",
    "print(f'Python version:', sys.version)"
   ]
  },
  {
   "cell_type": "code",
   "execution_count": 39,
   "metadata": {},
   "outputs": [
    {
     "name": "stdout",
     "output_type": "stream",
     "text": [
      "BioPython version: 1.76\n"
     ]
    }
   ],
   "source": [
    "# Packages\n",
    "import termcolor as tc\n",
    "import Bio; print('BioPython version:', Bio.__version__)\n",
    "\n",
    "# Python packages\n",
    "import os\n",
    "import sys\n",
    "import gc\n",
    "import string\n",
    "import pickle\n",
    "import collections\n",
    "import random\n",
    "\n",
    "# Data Science and Computation\n",
    "import numpy as np # linear algebra\n",
    "import pandas as pd # data processing, CSV file I/O (e.g. pd.read_csv)\n",
    "import scipy # statistics\n",
    "import sklearn # machine learning\n",
    "\n",
    "# Natural language processing\n",
    "import nltk\n",
    "\n",
    "# Visualization \n",
    "import matplotlib.pyplot as plt\n",
    "import seaborn as sns\n",
    "\n",
    "# Local Imports\n",
    "import definitions as defs"
   ]
  },
  {
   "cell_type": "code",
   "execution_count": 16,
   "metadata": {},
   "outputs": [],
   "source": [
    "sars_file = os.path.join(defs.DATA_DIR, 'sars_sequences.fasta')"
   ]
  },
  {
   "cell_type": "code",
   "execution_count": 17,
   "metadata": {},
   "outputs": [
    {
     "data": {
      "text/plain": [
       "'D:\\\\code\\\\py\\\\corona-virus-analysis\\\\data\\\\sars_sequences.fasta'"
      ]
     },
     "execution_count": 17,
     "metadata": {},
     "output_type": "execute_result"
    }
   ],
   "source": [
    "sars_file"
   ]
  },
  {
   "cell_type": "markdown",
   "metadata": {},
   "source": [
    "# Helper Functions"
   ]
  },
  {
   "cell_type": "code",
   "execution_count": 41,
   "metadata": {},
   "outputs": [],
   "source": [
    "def examine_distribution(sequence, title=''):\n",
    "    # Calculate statistics\n",
    "    mean = np.mean(sequence)\n",
    "    median = np.median(sequence)\n",
    "    mode = int(scipy.stats.mode(sequence).mode)\n",
    "    statistics = {'Mean': mean, 'Median': median, 'Mode': mode}\n",
    "\n",
    "    # Plot distribution\n",
    "    fig, ax = plt.subplots()\n",
    "    sns.distplot(sequence)\n",
    "    ax.axvline(mean, color='r', linestyle='--')\n",
    "    ax.axvline(median, color='g', linestyle='-')\n",
    "    ax.axvline(mode, color='b', linestyle='-')\n",
    "\n",
    "    plt.title(title.capitalize())\n",
    "    plt.legend(statistics)\n",
    "    plt.show()\n",
    "\n",
    "    for key, value in statistics.items():\n",
    "        print(f'\\t{key}={value:.2f}')\n"
   ]
  },
  {
   "cell_type": "code",
   "execution_count": 7,
   "metadata": {
    "scrolled": true
   },
   "outputs": [],
   "source": [
    "handle = Entrez.efetch(db='nucleotide', id='1850859292', rettype='fasta', retmode='text')\n",
    "record_b = SeqIO.read(handle, 'fasta')"
   ]
  },
  {
   "cell_type": "code",
   "execution_count": 31,
   "metadata": {},
   "outputs": [
    {
     "data": {
      "text/plain": [
       "2"
      ]
     },
     "execution_count": 31,
     "metadata": {},
     "output_type": "execute_result"
    }
   ],
   "source": [
    "from Bio import SeqIO\n",
    "from Bio import Entrez\n",
    "\n",
    "Entrez.email = 'filip.markoski45@gmail.com'\n",
    "handle = Entrez.esearch(db='nucleotide', term='SARS-CoV-2')\n",
    "search = Entrez.read(handle)\n",
    "\n",
    "for id in search['IdList']:\n",
    "    handle = Entrez.efetch(db='nucleotide', id=id, rettype='fasta', retmode='text')\n",
    "    record = SeqIO.read(handle, 'fasta')\n",
    "    print(record.description)\n",
    "    print(len(record.seq))"
   ]
  },
  {
   "cell_type": "markdown",
   "metadata": {},
   "source": [
    "# Code"
   ]
  },
  {
   "cell_type": "code",
   "execution_count": 37,
   "metadata": {},
   "outputs": [],
   "source": [
    "?? Entrez.efetch"
   ]
  },
  {
   "cell_type": "code",
   "execution_count": 249,
   "metadata": {},
   "outputs": [],
   "source": [
    "def construct_features(seq):\n",
    "    features = []\n",
    "    \n",
    "    features.extend(construct_sequtils_features(seq, window=500))\n",
    "    features.extend(construct_nucleotide_counts(seq, display=False))\n",
    "    features.extend(construct_amino_acid_features(seq, display=False))\n",
    "    features.extend(construct_n_gram_features(seq, window_size=3))\n",
    "    features.extend(construct_fourier_wavelet_feature(seq))\n",
    "    \n",
    "    return np.array(features)"
   ]
  },
  {
   "cell_type": "code",
   "execution_count": 264,
   "metadata": {},
   "outputs": [
    {
     "ename": "ValueError",
     "evalue": "'M' is not a valid unambiguous letter for RNA",
     "output_type": "error",
     "traceback": [
      "\u001b[1;31m---------------------------------------------------------------------------\u001b[0m",
      "\u001b[1;31mKeyError\u001b[0m                                  Traceback (most recent call last)",
      "\u001b[1;32mD:\\code\\py\\corona-virus-analysis\\.env\\lib\\site-packages\\Bio\\SeqUtils\\__init__.py\u001b[0m in \u001b[0;36mmolecular_weight\u001b[1;34m(seq, seq_type, double_stranded, circular, monoisotopic)\u001b[0m\n\u001b[0;32m    436\u001b[0m     \u001b[1;32mtry\u001b[0m\u001b[1;33m:\u001b[0m\u001b[1;33m\u001b[0m\u001b[1;33m\u001b[0m\u001b[0m\n\u001b[1;32m--> 437\u001b[1;33m         \u001b[0mweight\u001b[0m \u001b[1;33m=\u001b[0m \u001b[0msum\u001b[0m\u001b[1;33m(\u001b[0m\u001b[0mweight_table\u001b[0m\u001b[1;33m[\u001b[0m\u001b[0mx\u001b[0m\u001b[1;33m]\u001b[0m \u001b[1;32mfor\u001b[0m \u001b[0mx\u001b[0m \u001b[1;32min\u001b[0m \u001b[0mseq\u001b[0m\u001b[1;33m)\u001b[0m \u001b[1;33m-\u001b[0m \u001b[1;33m(\u001b[0m\u001b[0mlen\u001b[0m\u001b[1;33m(\u001b[0m\u001b[0mseq\u001b[0m\u001b[1;33m)\u001b[0m \u001b[1;33m-\u001b[0m \u001b[1;36m1\u001b[0m\u001b[1;33m)\u001b[0m \u001b[1;33m*\u001b[0m \u001b[0mwater\u001b[0m\u001b[1;33m\u001b[0m\u001b[1;33m\u001b[0m\u001b[0m\n\u001b[0m\u001b[0;32m    438\u001b[0m         \u001b[1;32mif\u001b[0m \u001b[0mcircular\u001b[0m\u001b[1;33m:\u001b[0m\u001b[1;33m\u001b[0m\u001b[1;33m\u001b[0m\u001b[0m\n",
      "\u001b[1;32mD:\\code\\py\\corona-virus-analysis\\.env\\lib\\site-packages\\Bio\\SeqUtils\\__init__.py\u001b[0m in \u001b[0;36m<genexpr>\u001b[1;34m(.0)\u001b[0m\n\u001b[0;32m    436\u001b[0m     \u001b[1;32mtry\u001b[0m\u001b[1;33m:\u001b[0m\u001b[1;33m\u001b[0m\u001b[1;33m\u001b[0m\u001b[0m\n\u001b[1;32m--> 437\u001b[1;33m         \u001b[0mweight\u001b[0m \u001b[1;33m=\u001b[0m \u001b[0msum\u001b[0m\u001b[1;33m(\u001b[0m\u001b[0mweight_table\u001b[0m\u001b[1;33m[\u001b[0m\u001b[0mx\u001b[0m\u001b[1;33m]\u001b[0m \u001b[1;32mfor\u001b[0m \u001b[0mx\u001b[0m \u001b[1;32min\u001b[0m \u001b[0mseq\u001b[0m\u001b[1;33m)\u001b[0m \u001b[1;33m-\u001b[0m \u001b[1;33m(\u001b[0m\u001b[0mlen\u001b[0m\u001b[1;33m(\u001b[0m\u001b[0mseq\u001b[0m\u001b[1;33m)\u001b[0m \u001b[1;33m-\u001b[0m \u001b[1;36m1\u001b[0m\u001b[1;33m)\u001b[0m \u001b[1;33m*\u001b[0m \u001b[0mwater\u001b[0m\u001b[1;33m\u001b[0m\u001b[1;33m\u001b[0m\u001b[0m\n\u001b[0m\u001b[0;32m    438\u001b[0m         \u001b[1;32mif\u001b[0m \u001b[0mcircular\u001b[0m\u001b[1;33m:\u001b[0m\u001b[1;33m\u001b[0m\u001b[1;33m\u001b[0m\u001b[0m\n",
      "\u001b[1;31mKeyError\u001b[0m: 'M'",
      "\nDuring handling of the above exception, another exception occurred:\n",
      "\u001b[1;31mValueError\u001b[0m                                Traceback (most recent call last)",
      "\u001b[1;32m<ipython-input-264-27582fe97c48>\u001b[0m in \u001b[0;36m<module>\u001b[1;34m\u001b[0m\n\u001b[0;32m     21\u001b[0m         \u001b[0mamino_acid\u001b[0m\u001b[1;33m.\u001b[0m\u001b[0mappend\u001b[0m\u001b[1;33m(\u001b[0m\u001b[0mrna_temp\u001b[0m\u001b[1;33m.\u001b[0m\u001b[0mtranslate\u001b[0m\u001b[1;33m(\u001b[0m\u001b[1;33m)\u001b[0m\u001b[1;33m)\u001b[0m\u001b[1;33m\u001b[0m\u001b[1;33m\u001b[0m\u001b[0m\n\u001b[0;32m     22\u001b[0m \u001b[1;33m\u001b[0m\u001b[0m\n\u001b[1;32m---> 23\u001b[1;33m         \u001b[0mfeatures\u001b[0m\u001b[1;33m.\u001b[0m\u001b[0mappend\u001b[0m\u001b[1;33m(\u001b[0m\u001b[0mconstruct_features\u001b[0m\u001b[1;33m(\u001b[0m\u001b[0mseq_record\u001b[0m\u001b[1;33m.\u001b[0m\u001b[0mseq\u001b[0m\u001b[1;33m)\u001b[0m\u001b[1;33m)\u001b[0m\u001b[1;33m\u001b[0m\u001b[1;33m\u001b[0m\u001b[0m\n\u001b[0m\u001b[0;32m     24\u001b[0m \u001b[1;33m\u001b[0m\u001b[0m\n\u001b[0;32m     25\u001b[0m \u001b[0ms1\u001b[0m \u001b[1;33m=\u001b[0m \u001b[0mpd\u001b[0m\u001b[1;33m.\u001b[0m\u001b[0mSeries\u001b[0m\u001b[1;33m(\u001b[0m\u001b[0midentifiers\u001b[0m\u001b[1;33m,\u001b[0m \u001b[0mname\u001b[0m\u001b[1;33m=\u001b[0m\u001b[1;34m'ID'\u001b[0m\u001b[1;33m)\u001b[0m\u001b[1;33m\u001b[0m\u001b[1;33m\u001b[0m\u001b[0m\n",
      "\u001b[1;32m<ipython-input-249-b92f2239944d>\u001b[0m in \u001b[0;36mconstruct_features\u001b[1;34m(seq)\u001b[0m\n\u001b[0;32m      2\u001b[0m     \u001b[0mfeatures\u001b[0m \u001b[1;33m=\u001b[0m \u001b[1;33m[\u001b[0m\u001b[1;33m]\u001b[0m\u001b[1;33m\u001b[0m\u001b[1;33m\u001b[0m\u001b[0m\n\u001b[0;32m      3\u001b[0m \u001b[1;33m\u001b[0m\u001b[0m\n\u001b[1;32m----> 4\u001b[1;33m     \u001b[0mfeatures\u001b[0m\u001b[1;33m.\u001b[0m\u001b[0mextend\u001b[0m\u001b[1;33m(\u001b[0m\u001b[0mconstruct_sequtils_features\u001b[0m\u001b[1;33m(\u001b[0m\u001b[0mseq\u001b[0m\u001b[1;33m,\u001b[0m \u001b[0mwindow\u001b[0m\u001b[1;33m=\u001b[0m\u001b[1;36m500\u001b[0m\u001b[1;33m)\u001b[0m\u001b[1;33m)\u001b[0m\u001b[1;33m\u001b[0m\u001b[1;33m\u001b[0m\u001b[0m\n\u001b[0m\u001b[0;32m      5\u001b[0m     \u001b[0mfeatures\u001b[0m\u001b[1;33m.\u001b[0m\u001b[0mextend\u001b[0m\u001b[1;33m(\u001b[0m\u001b[0mconstruct_nucleotide_counts\u001b[0m\u001b[1;33m(\u001b[0m\u001b[0mseq\u001b[0m\u001b[1;33m,\u001b[0m \u001b[0mdisplay\u001b[0m\u001b[1;33m=\u001b[0m\u001b[1;32mFalse\u001b[0m\u001b[1;33m)\u001b[0m\u001b[1;33m)\u001b[0m\u001b[1;33m\u001b[0m\u001b[1;33m\u001b[0m\u001b[0m\n\u001b[0;32m      6\u001b[0m     \u001b[0mfeatures\u001b[0m\u001b[1;33m.\u001b[0m\u001b[0mextend\u001b[0m\u001b[1;33m(\u001b[0m\u001b[0mconstruct_amino_acid_features\u001b[0m\u001b[1;33m(\u001b[0m\u001b[0mseq\u001b[0m\u001b[1;33m,\u001b[0m \u001b[0mdisplay\u001b[0m\u001b[1;33m=\u001b[0m\u001b[1;32mFalse\u001b[0m\u001b[1;33m)\u001b[0m\u001b[1;33m)\u001b[0m\u001b[1;33m\u001b[0m\u001b[1;33m\u001b[0m\u001b[0m\n",
      "\u001b[1;32m<ipython-input-261-4bbf5b84bd2f>\u001b[0m in \u001b[0;36mconstruct_sequtils_features\u001b[1;34m(seq, window, display)\u001b[0m\n\u001b[0;32m      5\u001b[0m \u001b[1;33m\u001b[0m\u001b[0m\n\u001b[0;32m      6\u001b[0m     \u001b[0mgc_content\u001b[0m \u001b[1;33m=\u001b[0m \u001b[0mGC\u001b[0m\u001b[1;33m(\u001b[0m\u001b[0mseq\u001b[0m\u001b[1;33m)\u001b[0m\u001b[1;33m\u001b[0m\u001b[1;33m\u001b[0m\u001b[0m\n\u001b[1;32m----> 7\u001b[1;33m     \u001b[0mmol_weight\u001b[0m \u001b[1;33m=\u001b[0m \u001b[0mmolecular_weight\u001b[0m\u001b[1;33m(\u001b[0m\u001b[0mseq\u001b[0m\u001b[1;33m,\u001b[0m \u001b[0mseq_type\u001b[0m\u001b[1;33m=\u001b[0m\u001b[1;34m'RNA'\u001b[0m\u001b[1;33m)\u001b[0m\u001b[1;33m\u001b[0m\u001b[1;33m\u001b[0m\u001b[0m\n\u001b[0m\u001b[0;32m      8\u001b[0m \u001b[1;33m\u001b[0m\u001b[0m\n\u001b[0;32m      9\u001b[0m     \u001b[0mgc_skew_array\u001b[0m \u001b[1;33m=\u001b[0m \u001b[0mGC_skew\u001b[0m\u001b[1;33m(\u001b[0m\u001b[0mseq\u001b[0m\u001b[1;33m,\u001b[0m \u001b[0mwindow\u001b[0m\u001b[1;33m=\u001b[0m\u001b[0mwindow\u001b[0m\u001b[1;33m)\u001b[0m\u001b[1;33m\u001b[0m\u001b[1;33m\u001b[0m\u001b[0m\n",
      "\u001b[1;32mD:\\code\\py\\corona-virus-analysis\\.env\\lib\\site-packages\\Bio\\SeqUtils\\__init__.py\u001b[0m in \u001b[0;36mmolecular_weight\u001b[1;34m(seq, seq_type, double_stranded, circular, monoisotopic)\u001b[0m\n\u001b[0;32m    439\u001b[0m             \u001b[0mweight\u001b[0m \u001b[1;33m-=\u001b[0m \u001b[0mwater\u001b[0m\u001b[1;33m\u001b[0m\u001b[1;33m\u001b[0m\u001b[0m\n\u001b[0;32m    440\u001b[0m     \u001b[1;32mexcept\u001b[0m \u001b[0mKeyError\u001b[0m \u001b[1;32mas\u001b[0m \u001b[0me\u001b[0m\u001b[1;33m:\u001b[0m\u001b[1;33m\u001b[0m\u001b[1;33m\u001b[0m\u001b[0m\n\u001b[1;32m--> 441\u001b[1;33m         \u001b[1;32mraise\u001b[0m \u001b[0mValueError\u001b[0m\u001b[1;33m(\u001b[0m\u001b[1;34m\"%s is not a valid unambiguous letter for %s\"\u001b[0m \u001b[1;33m%\u001b[0m \u001b[1;33m(\u001b[0m\u001b[0me\u001b[0m\u001b[1;33m,\u001b[0m \u001b[0mseq_type\u001b[0m\u001b[1;33m)\u001b[0m\u001b[1;33m)\u001b[0m\u001b[1;33m\u001b[0m\u001b[1;33m\u001b[0m\u001b[0m\n\u001b[0m\u001b[0;32m    442\u001b[0m \u001b[1;33m\u001b[0m\u001b[0m\n\u001b[0;32m    443\u001b[0m     \u001b[1;32mif\u001b[0m \u001b[0mseq_type\u001b[0m \u001b[1;32min\u001b[0m \u001b[1;33m(\u001b[0m\u001b[1;34m\"DNA\"\u001b[0m\u001b[1;33m,\u001b[0m \u001b[1;34m\"RNA\"\u001b[0m\u001b[1;33m)\u001b[0m \u001b[1;32mand\u001b[0m \u001b[0mdouble_stranded\u001b[0m\u001b[1;33m:\u001b[0m\u001b[1;33m\u001b[0m\u001b[1;33m\u001b[0m\u001b[0m\n",
      "\u001b[1;31mValueError\u001b[0m: 'M' is not a valid unambiguous letter for RNA"
     ]
    }
   ],
   "source": [
    "features = []\n",
    "\n",
    "with open(sars_file) as fasta_file:  # Will close handle cleanly\n",
    "    identifiers = []\n",
    "    lengths = []\n",
    "    nucleotides = []\n",
    "    descriptions = []\n",
    "    rna = []\n",
    "    amino_acid = []\n",
    "    count = 0\n",
    "    for seq_record in SeqIO.parse(fasta_file, 'fasta'):  # (generator)\n",
    "        if count == 5:\n",
    "            break\n",
    "        count+=1\n",
    "        identifiers.append(seq_record.id)\n",
    "        lengths.append(len(seq_record.seq))\n",
    "        nucleotides.append(seq_record.seq)\n",
    "        descriptions.append(seq_record.description)\n",
    "        rna_temp = seq_record.seq.transcribe()\n",
    "        rna.append(rna_temp)\n",
    "        amino_acid.append(rna_temp.translate())\n",
    "        \n",
    "        features.append(construct_features(seq_record.seq))\n",
    "        \n",
    "s1 = pd.Series(identifiers, name='ID')\n",
    "s2 = pd.Series(lengths, name='length')\n",
    "#s3 = pd.Series(nucleotides, name='Seq')\n",
    "s4 = pd.Series(descriptions, name='Description')\n",
    "#Gathering Series into a pandas DataFrame and rename index as ID column\n",
    "sars_nucelotide = pd.DataFrame(dict(ID=s1, length=s2, Seq=nucleotides,Description=s4, RNA=rna, Amino_Acid=amino_acid)).set_index(['ID'])\n",
    "sars_nucelotide"
   ]
  },
  {
   "cell_type": "code",
   "execution_count": 257,
   "metadata": {},
   "outputs": [
    {
     "data": {
      "text/plain": [
       "ID\n",
       "AY463060.1    (T, C, T, G, T, G, T, A, G, C, T, G, T, C, G, ...\n",
       "KJ473811.1    (G, G, T, T, T, C, G, T, C, C, G, G, G, T, G, ...\n",
       "FJ588686.1    (C, C, A, G, G, A, A, A, A, G, C, C, A, A, C, ...\n",
       "KJ473816.1    (G, T, T, T, C, G, T, C, C, G, G, G, T, G, T, ...\n",
       "KJ473815.1    (G, T, C, C, G, G, G, T, G, T, G, A, C, C, G, ...\n",
       "Name: Seq, dtype: object"
      ]
     },
     "execution_count": 257,
     "metadata": {},
     "output_type": "execute_result"
    }
   ],
   "source": [
    "sars_nucelotide.T.loc['Seq']"
   ]
  },
  {
   "cell_type": "code",
   "execution_count": null,
   "metadata": {},
   "outputs": [],
   "source": []
  },
  {
   "cell_type": "markdown",
   "metadata": {},
   "source": [
    "# Features "
   ]
  },
  {
   "cell_type": "code",
   "execution_count": 261,
   "metadata": {},
   "outputs": [
    {
     "data": {
      "text/plain": [
       "7"
      ]
     },
     "execution_count": 261,
     "metadata": {},
     "output_type": "execute_result"
    }
   ],
   "source": [
    "from Bio.SeqUtils import *\n",
    "\n",
    "def construct_sequtils_features(seq, window=500, display=False) -> list:\n",
    "    seq = seq.transcribe()\n",
    "    \n",
    "    gc_content = GC(seq)\n",
    "    mol_weight = molecular_weight(seq, seq_type='RNA')\n",
    "\n",
    "    gc_skew_array = GC_skew(seq, window=window)\n",
    "    \n",
    "    if display:\n",
    "        print(len(gc_skew_array))\n",
    "\n",
    "    max_gc_skew = np.max(gc_skew_array)\n",
    "    min_gc_skew = np.min(gc_skew_array)\n",
    "    mean = np.mean(gc_skew_array)\n",
    "    median = np.median(gc_skew_array)\n",
    "    mode = scipy.stats.mode(gc_skew_array).mode[0]\n",
    "\n",
    "    vector = [gc_content, mol_weight, max_gc_skew, min_gc_skew, mean, median, mode]\n",
    "    # vector.extend(gc_skew_array[:60])\n",
    "    return vector\n",
    "\n",
    "len(construct_sequtils_features(seq=record.seq))"
   ]
  },
  {
   "cell_type": "code",
   "execution_count": 241,
   "metadata": {},
   "outputs": [
    {
     "name": "stdout",
     "output_type": "stream",
     "text": [
      "[('A', 8954), ('U', 9603), ('G', 5860), ('C', 5486)]\n"
     ]
    },
    {
     "data": {
      "text/plain": [
       "[8954, 9603, 5860, 5486]"
      ]
     },
     "execution_count": 241,
     "metadata": {},
     "output_type": "execute_result"
    }
   ],
   "source": [
    "#count feature\n",
    "def construct_nucleotide_counts(seq, display=False) -> list:\n",
    "    seq = seq.transcribe()\n",
    "    \n",
    "    mapping = {\n",
    "        'A': 0,\n",
    "        'U': 0,\n",
    "        'G': 0,\n",
    "        'C': 0,\n",
    "    }\n",
    "    template = collections.Counter(mapping)\n",
    "    counter = collections.Counter(seq)\n",
    "    template =  template + counter\n",
    "    \n",
    "    if display:\n",
    "        print(list(template.items()))\n",
    "    \n",
    "    vector = list(template.values())\n",
    "    return vector\n",
    "\n",
    "construct_nucleotide_counts(record.seq, display=True)"
   ]
  },
  {
   "cell_type": "code",
   "execution_count": 240,
   "metadata": {},
   "outputs": [
    {
     "data": {
      "text/plain": [
       "40"
      ]
     },
     "execution_count": 240,
     "metadata": {},
     "output_type": "execute_result"
    }
   ],
   "source": [
    "#amino-acid distribution\n",
    "\n",
    "def construct_amino_acid_features(seq, display=False) -> list:\n",
    "    seq_AminoAcids = seq_rna.translate()\n",
    "    amino_acids_dict = {'Y': 0, 'A': 0, 'Q': 0, 'D': 0, 'C': 0, 'G': 0, 'V': 0, 'T': 0, 'E': 0, 'N': 0, \n",
    "                       'K': 0, 'R': 0, 'S': 0, 'I': 0, 'H': 0, 'M': 0, 'F': 0, 'L': 0, 'W': 0, 'P': 0}\n",
    "    \n",
    "    # Percentages\n",
    "    \n",
    "    for amino_acid in amino_acids_dict:\n",
    "        amino_acids_dict[amino_acid] = seq_AminoAcids.count(amino_acid)/len(seq_AminoAcids)*100\n",
    "    \n",
    "    vector = list(amino_acids_dict.values())\n",
    "    \n",
    "    if display:\n",
    "        print(amino_acids_dict.values())\n",
    "    \n",
    "    # Counts \n",
    "    \n",
    "    for amino_acid in amino_acids_dict:\n",
    "        amino_acids_dict[amino_acid] = seq_AminoAcids.count(amino_acid)\n",
    "    \n",
    "    vector.extend(list(amino_acids_dict.values()))\n",
    "    return vector\n",
    "        \n",
    "len(construct_amino_acid_features(record.seq, display=False))"
   ]
  },
  {
   "cell_type": "code",
   "execution_count": 238,
   "metadata": {},
   "outputs": [
    {
     "name": "stdout",
     "output_type": "stream",
     "text": [
      "64\n"
     ]
    }
   ],
   "source": [
    "import itertools\n",
    "\n",
    "def construct_n_gram_features(seq, window_size=3) -> list:\n",
    "    permutations = itertools.product('ACTG', repeat=window_size)\n",
    "    mapping = dict.fromkeys(list(permutations), 0)\n",
    "\n",
    "    template = collections.Counter(mapping)\n",
    "\n",
    "    n_gram_generator = ngrams(record.seq, window_size)\n",
    "    counter = collections.Counter(n_gram_generator)\n",
    "\n",
    "    template = template + counter\n",
    "    \n",
    "    # getting the feature name\n",
    "    # ''.join(list(counter.keys())[0])\n",
    "    \n",
    "    vector = list(template.values())\n",
    "    return vector\n",
    "    \n",
    "print(len(construct_n_gram_features(record.seq, window_size=3)))"
   ]
  },
  {
   "cell_type": "code",
   "execution_count": 61,
   "metadata": {},
   "outputs": [
    {
     "data": {
      "text/plain": [
       "'ATT'"
      ]
     },
     "execution_count": 61,
     "metadata": {},
     "output_type": "execute_result"
    }
   ],
   "source": [
    "''.join(list(counter.keys())[0])"
   ]
  },
  {
   "cell_type": "code",
   "execution_count": 236,
   "metadata": {},
   "outputs": [
    {
     "name": "stdout",
     "output_type": "stream",
     "text": [
      "15\n",
      "15\n",
      "0 True\n",
      "1 True\n",
      "2 True\n",
      "3 True\n",
      "4 True\n"
     ]
    }
   ],
   "source": [
    "import pywt\n",
    "import math\n",
    "#https://pywavelets.readthedocs.io/en/0.2.2/ref/dwt-discrete-wavelet-transform.html\n",
    "#mapping functon\n",
    "def toi(n):\n",
    "    if n=='A':\n",
    "        return 0\n",
    "    if n=='C':\n",
    "        return 1\n",
    "    if n=='G':\n",
    "        return 2\n",
    "    if n=='U':\n",
    "        return 3\n",
    "    \n",
    "# determine the decomposition level\n",
    "# N denotes the length of the DNA sequence\n",
    "# M is the fixed length of the feature vector, and L is the decomposition level.\n",
    "def decomposition_lvv(N,M):\n",
    "    r = N/M\n",
    "    ll = math.log(r,2)\n",
    "    L = math.ceil(ll)\n",
    "    return L    \n",
    "\n",
    "# DWT reduces the dimension of CODE. WFV uses the simplest Haar wavelet to create the feature vector of DNA sequence S\n",
    "def construct_fourier_wavelet_feature(seq):\n",
    "    # convert to RNA sequence\n",
    "    seq = seq.transcribe()\n",
    " \n",
    "    code_list = list(map(toi, seq)) \n",
    "    code = ''.join(map(str, code_list))\n",
    "\n",
    "    if len(code) < 30133:\n",
    "        number = 30133 - len(code)\n",
    "        s = ''.zfill(number)\n",
    "        code += s\n",
    "  \n",
    "        \n",
    "    N = len(code)\n",
    "    l = decomposition_lvv(N, 2)\n",
    "    # print(l)\n",
    "    coeffs = pywt.wavedec(code_list, 'haar', level = l)\n",
    "    return list(coeffs)\n",
    "\n",
    "a = record.seq\n",
    "b = x\n",
    "result1 = construct_fourier_wavelet_feature(a)\n",
    "result2 = construct_fourier_wavelet_feature(b)\n",
    "print(len(result1))\n",
    "print(len(result2))\n",
    "for i in range(0,len(result1)):\n",
    "    if len(result1[i]) == len(result2[i]):\n",
    "        print(i, 'True')"
   ]
  },
  {
   "cell_type": "code",
   "execution_count": 212,
   "metadata": {},
   "outputs": [
    {
     "data": {
      "text/plain": [
       "Seq('AAC')"
      ]
     },
     "execution_count": 212,
     "metadata": {},
     "output_type": "execute_result"
    }
   ],
   "source": [
    "from Bio.Seq import Seq\n",
    "Seq('AAC')"
   ]
  },
  {
   "cell_type": "code",
   "execution_count": 230,
   "metadata": {},
   "outputs": [
    {
     "data": {
      "text/plain": [
       "'0000'"
      ]
     },
     "execution_count": 230,
     "metadata": {},
     "output_type": "execute_result"
    }
   ],
   "source": [
    "s= ''\n",
    "s.zfill(4)"
   ]
  },
  {
   "cell_type": "code",
   "execution_count": null,
   "metadata": {},
   "outputs": [],
   "source": []
  }
 ],
 "metadata": {
  "kernelspec": {
   "display_name": ".env",
   "language": "python",
   "name": ".env"
  },
  "language_info": {
   "codemirror_mode": {
    "name": "ipython",
    "version": 3
   },
   "file_extension": ".py",
   "mimetype": "text/x-python",
   "name": "python",
   "nbconvert_exporter": "python",
   "pygments_lexer": "ipython3",
   "version": "3.6.8"
  }
 },
 "nbformat": 4,
 "nbformat_minor": 4
}
